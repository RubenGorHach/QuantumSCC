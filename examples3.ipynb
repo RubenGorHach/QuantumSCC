{
 "cells": [
  {
   "cell_type": "code",
   "execution_count": 1,
   "metadata": {},
   "outputs": [],
   "source": [
    "from scircuit import *\n",
    "import numpy as np"
   ]
  },
  {
   "cell_type": "code",
   "execution_count": 2,
   "metadata": {},
   "outputs": [],
   "source": [
    "#Define the circuit\n",
    "C = Capacitor(value = 0.5, unit='F')\n",
    "L1 = Inductor(value = 0.5, unit = 'H')\n",
    "L2 = Inductor(value = 0.5, unit = 'H')\n",
    "L3 = Inductor(value = 0.5, unit = 'H')\n",
    "elements1 = [(0,1,C), (0,1,L1)] \n",
    "elements2 = [(0,2,C), (0,1,L1), (1,2,L2)] \n",
    "elements3 = [(0,2,C), (0,2,L3), (0,1,L1), (1,2,L2)]\n",
    "elements4 = [(0,1,C), (0,1,L1), (0,1,L2)] \n",
    "starcircuit = [(0,1,C), (1,2,C), (2,0,C), (0,3,L1), (1,3,L1), (2,3,L1)]\n",
    "\n",
    "cr = Circuit(starcircuit)"
   ]
  },
  {
   "cell_type": "code",
   "execution_count": 3,
   "metadata": {},
   "outputs": [
    {
     "name": "stdout",
     "output_type": "stream",
     "text": [
      "The matrix expression for omega_2B is:\n",
      "[[ 0.   0.   0.   0.   0.   0.   0.5  0.   0.   0.   0.   0. ]\n",
      " [ 0.   0.   0.   0.   0.   0.   0.   0.5  0.   0.   0.   0. ]\n",
      " [ 0.   0.   0.   0.   0.   0.   0.   0.  -0.5  0.   0.   0. ]\n",
      " [ 0.   0.   0.   0.   0.   0.   0.   0.   0.   0.5  0.   0. ]\n",
      " [ 0.   0.   0.   0.   0.   0.   0.   0.   0.   0.  -0.5  0. ]\n",
      " [ 0.   0.   0.   0.   0.   0.   0.   0.   0.   0.   0.  -0.5]\n",
      " [-0.5  0.   0.   0.   0.   0.   0.   0.   0.   0.   0.   0. ]\n",
      " [ 0.  -0.5  0.   0.   0.   0.   0.   0.   0.   0.   0.   0. ]\n",
      " [ 0.   0.   0.5  0.   0.   0.   0.   0.   0.   0.   0.   0. ]\n",
      " [ 0.   0.   0.  -0.5  0.   0.   0.   0.   0.   0.   0.   0. ]\n",
      " [ 0.   0.   0.   0.   0.5  0.   0.   0.   0.   0.   0.   0. ]\n",
      " [ 0.   0.   0.   0.   0.   0.5  0.   0.   0.   0.   0.   0. ]]\n",
      "The matrix expression for omega is:\n",
      "[[ 0.  0.  1.  0.  0.  0.]\n",
      " [ 0.  0.  0.  1.  0.  0.]\n",
      " [-1. -0.  0.  0.  0.  0.]\n",
      " [-0. -1.  0.  0.  0.  0.]\n",
      " [ 0.  0.  0.  0.  0.  0.]\n",
      " [ 0.  0.  0.  0.  0.  0.]]\n",
      "The matrix variable change for omega is:\n",
      "[[ 0.00000000e+00 -1.15828925e-16 -2.03531219e-16  6.68740305e-01\n",
      "   4.13304238e-01  0.00000000e+00]\n",
      " [ 0.00000000e+00  1.08204454e+00 -6.68740305e-01  2.46395228e-17\n",
      "  -8.22512052e-17  0.00000000e+00]\n",
      " [ 0.00000000e+00 -4.13304238e-01 -6.68740305e-01  0.00000000e+00\n",
      "  -8.49706659e-17  0.00000000e+00]\n",
      " [-0.00000000e+00  0.00000000e+00  9.95340900e-17  6.68740305e-01\n",
      "  -1.08204454e+00 -0.00000000e+00]\n",
      " [ 1.00000000e+00  0.00000000e+00  0.00000000e+00  0.00000000e+00\n",
      "   0.00000000e+00  0.00000000e+00]\n",
      " [ 0.00000000e+00  0.00000000e+00  0.00000000e+00  0.00000000e+00\n",
      "   0.00000000e+00  1.00000000e+00]]\n",
      "The determinant of matrix omega is:\n",
      "0.0\n"
     ]
    }
   ],
   "source": [
    "# Calculate omega_2B \n",
    "E_2B = cr.E_2B\n",
    "print(f\"The matrix expression for omega_2B is:\\n{E_2B}\")\n",
    "\n",
    "# Calculate omega\n",
    "E = cr.E_canonical\n",
    "print(f\"The matrix expression for omega is:\\n{cr.E_canonical}\")\n",
    "print(f\"The matrix variable change for omega is:\\n{cr.canonical_basis_change}\")\n",
    "print(f\"The determinant of matrix omega is:\\n{np.linalg.det(E)}\")"
   ]
  },
  {
   "cell_type": "code",
   "execution_count": 4,
   "metadata": {},
   "outputs": [
    {
     "name": "stdout",
     "output_type": "stream",
     "text": [
      "The matrix expression for the H before the variable change is:\n",
      "[[1. 0. 0. 0. 0. 0. 0. 0. 0. 0. 0. 0.]\n",
      " [0. 1. 0. 0. 0. 0. 0. 0. 0. 0. 0. 0.]\n",
      " [0. 0. 0. 0. 0. 0. 0. 0. 0. 0. 0. 0.]\n",
      " [0. 0. 0. 1. 0. 0. 0. 0. 0. 0. 0. 0.]\n",
      " [0. 0. 0. 0. 0. 0. 0. 0. 0. 0. 0. 0.]\n",
      " [0. 0. 0. 0. 0. 0. 0. 0. 0. 0. 0. 0.]\n",
      " [0. 0. 0. 0. 0. 0. 0. 0. 0. 0. 0. 0.]\n",
      " [0. 0. 0. 0. 0. 0. 0. 0. 0. 0. 0. 0.]\n",
      " [0. 0. 0. 0. 0. 0. 0. 0. 1. 0. 0. 0.]\n",
      " [0. 0. 0. 0. 0. 0. 0. 0. 0. 0. 0. 0.]\n",
      " [0. 0. 0. 0. 0. 0. 0. 0. 0. 0. 1. 0.]\n",
      " [0. 0. 0. 0. 0. 0. 0. 0. 0. 0. 0. 1.]]\n",
      "The matrix expression for the H in the same basis as E_canonical is:\n",
      "[[ 1.618e+00 -4.174e-17  3.897e-16  4.419e-16 -5.229e-16 -1.751e+00]\n",
      " [-4.174e-17  6.180e-01 -5.135e-16  1.486e-17 -2.554e-01  3.297e-17]\n",
      " [ 3.897e-16 -4.261e-16  1.618e+00 -1.391e-16 -1.751e+00  8.497e-17]\n",
      " [ 1.850e-16  1.486e-17 -1.391e-16  6.180e-01  1.991e-16 -2.554e-01]\n",
      " [-5.229e-16 -2.554e-01 -1.751e+00  1.991e-16  3.000e+00  0.000e+00]\n",
      " [-1.751e+00  3.297e-17  8.497e-17 -2.554e-01  0.000e+00  3.000e+00]]\n",
      "The final matrix expression for the His:\n",
      "[[ 5.963e-01 -6.702e-17  1.342e-16 -1.491e-01]\n",
      " [-6.702e-17  5.963e-01 -1.491e-01  3.462e-17]\n",
      " [ 1.342e-16 -1.491e-01  5.963e-01 -1.573e-17]\n",
      " [-1.491e-01  3.462e-17 -1.573e-17  5.963e-01]]\n"
     ]
    }
   ],
   "source": [
    "np.set_printoptions(precision=3)\n",
    "\n",
    "# Calculate the Hamiltonian matrix before the variable change\n",
    "hamiltonian_2B = cr.hamiltonian_2B\n",
    "print(f\"The matrix expression for the H before the variable change is:\\n{hamiltonian_2B}\")\n",
    "\n",
    "# Calculate the Hamiltonian matrix in the same basis as E_canonical\n",
    "hamiltonian = cr.hamiltonian\n",
    "print(f\"The matrix expression for the H in the same basis as E_canonical is:\\n{hamiltonian}\")\n",
    "\n",
    "# Calculate the final expression for the Hamiltonian matrix, hamiltonian_xi\n",
    "hamiltonian_xi = cr.hamiltonian_xi\n",
    "print(f\"The final matrix expression for the His:\\n{hamiltonian_xi}\")\n",
    "\n"
   ]
  }
 ],
 "metadata": {
  "kernelspec": {
   "display_name": "Proyect1",
   "language": "python",
   "name": "python3"
  },
  "language_info": {
   "codemirror_mode": {
    "name": "ipython",
    "version": 3
   },
   "file_extension": ".py",
   "mimetype": "text/x-python",
   "name": "python",
   "nbconvert_exporter": "python",
   "pygments_lexer": "ipython3",
   "version": "3.12.3"
  }
 },
 "nbformat": 4,
 "nbformat_minor": 2
}
