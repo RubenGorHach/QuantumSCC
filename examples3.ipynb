{
 "cells": [
  {
   "cell_type": "code",
   "execution_count": null,
   "metadata": {},
   "outputs": [],
   "source": [
    "from QuantumSCC import *\n",
    "import numpy as np"
   ]
  },
  {
   "cell_type": "code",
   "execution_count": 2,
   "metadata": {},
   "outputs": [],
   "source": [
    "#Define the circuit\n",
    "C = Capacitor(value = 1, unit='GHz')\n",
    "Cg = Capacitor(value = 1, unit='GHz')\n",
    "L1 = Inductor(value = 1, unit = 'GHz')\n",
    "L2 = Inductor(value = 2, unit = 'GHz')\n",
    "L3 = Inductor(value = 3, unit = 'GHz')\n",
    "elements1 = [(0,1,C), (0,1,L1)] \n",
    "elements2 = [(0,2,C), (0,1,L1), (1,2,L2)] \n",
    "elements3 = [(0,2,C), (0,2,L1), (0,1,L2), (1,2,L3)]\n",
    "elements4 = [(0,1,C), (0,1,L1), (0,1,L2)] \n",
    "elements5 = [(0,3,C), (0,3,L1), (0,1,L2), (1,2,C), (2,3,L1)]\n",
    "starcircuit = [(0,1,C), (1,2,C), (2,0,C), (0,3,L1), (1,3,L1), (2,3,L1)]\n",
    "starcircuit_4 = [(0,1,C), (1,2,C), (2,3,C), (3,0,C), (0,4,L1), (1,4,L1), (2,4,L1), (3,4,L1)]\n",
    "starcircuit_nonsymmetric = [(0,1,C), (1,2,C), (2,0,C), (0,3,L2), (1,3,L1), (2,3,L1)]\n",
    "#coupled_oscillators = [(0,1,C), (0,1,L1), (1,2,Cg), (2,0,C), (2,0,L1)]\n",
    "coupled_oscillators = [(0,1,L1), (1,2,C), (2,0,L1), (0,1,C), (2,0,C)]\n",
    "\n",
    "cr = Circuit(coupled_oscillators)\n"
   ]
  },
  {
   "cell_type": "code",
   "execution_count": 3,
   "metadata": {},
   "outputs": [
    {
     "name": "stdout",
     "output_type": "stream",
     "text": [
      "The matrix expression for omega_2B is:\n",
      "[[ 0.   0.   0.   0.   0.   0.5  0.   0.   0.   0. ]\n",
      " [ 0.   0.   0.   0.   0.   0.  -0.5  0.   0.   0. ]\n",
      " [ 0.   0.   0.   0.   0.   0.   0.   0.5  0.   0. ]\n",
      " [ 0.   0.   0.   0.   0.   0.   0.   0.  -0.5  0. ]\n",
      " [ 0.   0.   0.   0.   0.   0.   0.   0.   0.  -0.5]\n",
      " [-0.5  0.   0.   0.   0.   0.   0.   0.   0.   0. ]\n",
      " [ 0.   0.5  0.   0.   0.   0.   0.   0.   0.   0. ]\n",
      " [ 0.   0.  -0.5  0.   0.   0.   0.   0.   0.   0. ]\n",
      " [ 0.   0.   0.   0.5  0.   0.   0.   0.   0.   0. ]\n",
      " [ 0.   0.   0.   0.   0.5  0.   0.   0.   0.   0. ]]\n",
      "The matrix expression for omega is:\n",
      "[[ 0.  0.  1.  0.]\n",
      " [ 0.  0.  0.  1.]\n",
      " [-1. -0.  0.  0.]\n",
      " [-0. -1.  0.  0.]]\n",
      "The matrix variable change for omega is:\n",
      "[[ 0.00e+00+0.j  1.00e+00+0.j  0.00e+00+0.j -2.21e-17+0.j -2.21e-17+0.j]\n",
      " [ 1.19e+00+0.j  0.00e+00+0.j  2.98e-16+0.j  0.00e+00+0.j  0.00e+00+0.j]\n",
      " [ 0.00e+00-0.j  0.00e+00-0.j -1.00e+00-0.j  0.00e+00-0.j  0.00e+00-0.j]\n",
      " [ 0.00e+00-0.j  1.58e-16+0.j  0.00e+00-0.j -8.41e-01-0.j  8.41e-01+0.j]\n",
      " [ 0.00e+00+0.j  0.00e+00+0.j  0.00e+00+0.j  7.07e-01+0.j  7.07e-01+0.j]]\n",
      "The determinant of matrix omega is:\n",
      "1.0\n"
     ]
    }
   ],
   "source": [
    "np.set_printoptions(precision=2)\n",
    "# Calculate omega_2B \n",
    "E_2B = cr.omega_2B\n",
    "print(f\"The matrix expression for omega_2B is:\\n{E_2B}\")\n",
    "\n",
    "# Calculate omega\n",
    "E = cr.omega_symplectic\n",
    "np.set_printoptions(precision=2)\n",
    "print(f\"The matrix expression for omega is:\\n{cr.omega_symplectic}\")\n",
    "print(f\"The matrix variable change for omega is:\\n{np.linalg.inv(cr.V)}\")\n",
    "print(f\"The determinant of matrix omega is:\\n{np.linalg.det(E)}\")\n"
   ]
  },
  {
   "cell_type": "code",
   "execution_count": 4,
   "metadata": {},
   "outputs": [
    {
     "name": "stdout",
     "output_type": "stream",
     "text": [
      "The matrix expression for the H before the variable change is:\n",
      "[[2. 0. 0. 0. 0. 0. 0. 0. 0. 0.]\n",
      " [0. 0. 0. 0. 0. 0. 0. 0. 0. 0.]\n",
      " [0. 0. 2. 0. 0. 0. 0. 0. 0. 0.]\n",
      " [0. 0. 0. 0. 0. 0. 0. 0. 0. 0.]\n",
      " [0. 0. 0. 0. 0. 0. 0. 0. 0. 0.]\n",
      " [0. 0. 0. 0. 0. 0. 0. 0. 0. 0.]\n",
      " [0. 0. 0. 0. 0. 0. 2. 0. 0. 0.]\n",
      " [0. 0. 0. 0. 0. 0. 0. 0. 0. 0.]\n",
      " [0. 0. 0. 0. 0. 0. 0. 0. 2. 0.]\n",
      " [0. 0. 0. 0. 0. 0. 0. 0. 0. 2.]]\n",
      "The matrix expression for the H in the same basis as E_canonical is:\n",
      "[[ 2.00e+00+0.j  1.68e+00+0.j  6.89e-16+0.j -3.34e-16+0.j -7.00e-17+0.j]\n",
      " [ 1.68e+00+0.j  2.83e+00+0.j  8.43e-16+0.j  0.00e+00+0.j  5.26e-17+0.j]\n",
      " [ 6.89e-16+0.j  8.43e-16+0.j  2.00e+00+0.j -1.19e+00+0.j -1.41e+00+0.j]\n",
      " [-3.34e-16+0.j  0.00e+00+0.j -1.19e+00+0.j  2.12e+00+0.j  8.41e-01+0.j]\n",
      " [-7.00e-17+0.j  5.26e-17+0.j -1.41e+00+0.j  8.41e-01+0.j  3.00e+00+0.j]]\n",
      "[[ 0.  0.  1.  0.]\n",
      " [ 0.  0.  0.  1.]\n",
      " [-1. -0.  0.  0.]\n",
      " [-0. -1.  0.  0.]]\n",
      "eig: [-2.22e-16+2.j   -5.20e-18+1.15j -4.25e-16-2.j    4.16e-16-1.15j]\n",
      "The final matrix expression for the H is:\n",
      "[[ 2.00e+00+0.j  1.68e+00+0.j  6.56e-16+0.j -3.15e-16+0.j]\n",
      " [ 1.68e+00+0.j  2.83e+00+0.j  8.68e-16+0.j -1.47e-17+0.j]\n",
      " [ 6.56e-16+0.j  8.68e-16+0.j  1.33e+00+0.j -7.93e-01+0.j]\n",
      " [-3.15e-16+0.j -1.47e-17+0.j -7.93e-01+0.j  1.89e+00+0.j]]\n"
     ]
    }
   ],
   "source": [
    "np.set_printoptions(precision=2)\n",
    "\n",
    "# Calculate the Hamiltonian matrix before the variable change\n",
    "Total_energy_2B = cr.Total_energy_2B\n",
    "print(f\"The matrix expression for the H before the variable change is:\\n{Total_energy_2B}\")\n",
    "\n",
    "# Calculate the Hamiltonian matrix in the same basis as E_canonical\n",
    "Total_energy_symplectic_basis = cr.Total_energy_symplectic_basis\n",
    "print(f\"The matrix expression for the H in the same basis as E_canonical is:\\n{Total_energy_symplectic_basis}\")\n",
    "\n",
    "# Calculate the final expression for the Hamiltonian matrix, hamiltonian_xi\n",
    "hamiltonian = cr.classical_hamiltonian\n",
    "hamiltonian_prueba = hamiltonian.copy()\n",
    "\n",
    "print(cr.omega_symplectic)\n",
    "\n",
    "eigenval,_ = np.linalg.eig(cr.omega_symplectic @ hamiltonian)\n",
    "\n",
    "print(\"eig:\", eigenval)\n",
    "\n",
    "print(f\"The final matrix expression for the H is:\\n{hamiltonian}\")\n",
    "\n"
   ]
  },
  {
   "cell_type": "code",
   "execution_count": 5,
   "metadata": {},
   "outputs": [
    {
     "name": "stdout",
     "output_type": "stream",
     "text": [
      "Canonical Hamiltonian\n",
      "[[ 1.155e+00+0.j  1.663e-15+0.j  2.517e-17+0.j  1.155e-15+0.j]\n",
      " [ 1.663e-15+0.j  2.000e+00+0.j -9.537e-16+0.j  2.117e-15+0.j]\n",
      " [ 2.517e-17+0.j -9.488e-16+0.j  1.155e+00+0.j -1.604e-16+0.j]\n",
      " [ 1.133e-15+0.j  2.117e-15+0.j -1.604e-16+0.j  2.000e+00+0.j]]\n",
      "Basis change matrix, T\n",
      "[[ 0.000e+00  4.044e-16 -1.075e+00  5.617e-16]\n",
      " [-1.111e-15 -8.409e-01  6.389e-01 -1.013e-15]\n",
      " [ 9.306e-01 -2.429e-16 -1.245e-16 -7.071e-01]\n",
      " [-8.879e-16  0.000e+00 -4.329e-16 -1.189e+00]]\n"
     ]
    }
   ],
   "source": [
    "np.set_printoptions(precision=3)\n",
    "\n",
    "print(\"Canonical Hamiltonian\")\n",
    "print(cr.canonical_hamiltonian)\n",
    "\n",
    "print(\"Basis change matrix, T\")\n",
    "print(cr.T)\n"
   ]
  },
  {
   "cell_type": "code",
   "execution_count": 6,
   "metadata": {},
   "outputs": [
    {
     "name": "stdout",
     "output_type": "stream",
     "text": [
      "[[ 0. -0.  1.  0.]\n",
      " [-0.  0.  0.  1.]\n",
      " [-1. -0.  0.  0.]\n",
      " [-0. -1.  0.  0.]]\n",
      "[[-7.018e-47 -1.123e-15  1.000e+00  7.989e-16]\n",
      " [ 1.123e-15 -3.905e-48  1.030e-16  1.000e+00]\n",
      " [-1.000e+00 -1.030e-16  2.131e-32 -1.130e-16]\n",
      " [-7.989e-16 -1.000e+00  1.130e-16  1.118e-31]]\n"
     ]
    }
   ],
   "source": [
    "Tinv = np.linalg.inv(cr.T)\n",
    "J = cr.omega_symplectic\n",
    "conmut = np.zeros((len(Tinv), len(Tinv)))\n",
    "\n",
    "for i in range(len(Tinv)):\n",
    "    for j in range(len(Tinv)):\n",
    "        conmut[i, j] = J[i,j] * (Tinv[i,i] * Tinv[j,j] - Tinv[i,j] * Tinv[j,i])\n",
    "\n",
    "print(conmut)\n",
    "\n",
    "print(cr.T.T @ cr.omega_symplectic @ cr.T)"
   ]
  },
  {
   "cell_type": "code",
   "execution_count": 7,
   "metadata": {},
   "outputs": [
    {
     "name": "stdout",
     "output_type": "stream",
     "text": [
      "K basis change matrix\n",
      "[[ 1.  0. -1.  1. -1.  0.  0.  0.  0.  0.]\n",
      " [ 0.  1. -1.  0. -1.  0.  0.  0.  0.  0.]\n",
      " [ 0.  0.  0.  0.  0.  1.  1.  1.  0.  0.]\n",
      " [ 0.  0.  0.  0.  0. -1. -0.  0.  1.  0.]\n",
      " [ 0.  0.  0.  0.  0.  1.  1.  0.  0.  1.]]\n",
      "V basis change matrix\n",
      "[[ 0.000e+00+0.j  1.000e+00+0.j  0.000e+00+0.j -2.211e-17+0.j\n",
      "  -2.211e-17+0.j]\n",
      " [ 1.189e+00+0.j  0.000e+00+0.j  2.982e-16+0.j  0.000e+00+0.j\n",
      "   0.000e+00+0.j]\n",
      " [ 0.000e+00-0.j  0.000e+00-0.j -1.000e+00-0.j  0.000e+00-0.j\n",
      "   0.000e+00-0.j]\n",
      " [ 0.000e+00-0.j  1.576e-16+0.j  0.000e+00-0.j -8.409e-01-0.j\n",
      "   8.409e-01+0.j]\n",
      " [ 0.000e+00+0.j  0.000e+00+0.j  0.000e+00+0.j  7.071e-01+0.j\n",
      "   7.071e-01+0.j]]\n",
      "T basis change matrix\n",
      "[[-5.169e-17 -3.104e-16  1.075e+00 -6.389e-01]\n",
      " [-7.071e-01 -1.189e+00 -1.420e-15  1.524e-15]\n",
      " [-9.306e-01 -4.476e-16 -9.539e-31 -4.396e-16]\n",
      " [ 3.388e-16  3.947e-31 -8.023e-16 -8.409e-01]]\n"
     ]
    }
   ],
   "source": [
    "# Print basis change matrices\n",
    "\n",
    "print('K basis change matrix')\n",
    "print(cr.K.T)\n",
    "\n",
    "print('V basis change matrix')\n",
    "print(np.linalg.inv(cr.V))\n",
    "\n",
    "print('T basis change matrix')\n",
    "print(np.linalg.inv(cr.T))"
   ]
  },
  {
   "cell_type": "code",
   "execution_count": 8,
   "metadata": {},
   "outputs": [
    {
     "name": "stdout",
     "output_type": "stream",
     "text": [
      "Matriz cambio de base T:\n",
      "[[ 0.000e+00  4.044e-16 -1.075e+00  5.617e-16]\n",
      " [-1.111e-15 -8.409e-01  6.389e-01 -1.013e-15]\n",
      " [ 9.306e-01 -2.429e-16 -1.245e-16 -7.071e-01]\n",
      " [-8.879e-16  0.000e+00 -4.329e-16 -1.189e+00]]\n",
      "Hamiltoniano canónico:\n",
      "[[ 1.155e+00+0.j  1.663e-15+0.j  2.517e-17+0.j  1.155e-15+0.j]\n",
      " [ 1.663e-15+0.j  2.000e+00+0.j -9.537e-16+0.j  2.117e-15+0.j]\n",
      " [ 2.517e-17+0.j -9.488e-16+0.j  1.155e+00+0.j -1.604e-16+0.j]\n",
      " [ 1.133e-15+0.j  2.117e-15+0.j -1.604e-16+0.j  2.000e+00+0.j]]\n"
     ]
    }
   ],
   "source": [
    "# COUPLED OSCILLATORS\n",
    "np.set_printoptions(linewidth=150, threshold=np.inf)\n",
    "\n",
    "C1 = Capacitor(value = 1, unit='GHz')\n",
    "C2 = Capacitor(value = 1, unit='GHz')\n",
    "Cg = Capacitor(value = 1, unit='GHz')\n",
    "L1 = Inductor(value = 1, unit = 'GHz')\n",
    "L2 = Inductor(value = 1, unit = 'GHz')\n",
    "\n",
    "coupled_oscillators = [(0,1,L1), (1,2,Cg), (2,0,L1), (0,1,C1),(2,0,C1)]\n",
    "\n",
    "cr = Circuit(coupled_oscillators)\n",
    "\n",
    "print(\"Matriz cambio de base T:\")\n",
    "print(cr.T)\n",
    "print(\"Hamiltoniano canónico:\")\n",
    "print(cr.canonical_hamiltonian)"
   ]
  },
  {
   "cell_type": "code",
   "execution_count": 9,
   "metadata": {},
   "outputs": [
    {
     "name": "stdout",
     "output_type": "stream",
     "text": [
      "[[ 0. -0.  1.  0.]\n",
      " [-0.  0.  0.  1.]\n",
      " [-1. -0.  0.  0.]\n",
      " [-0. -1.  0.  0.]]\n"
     ]
    }
   ],
   "source": [
    "Tinv = np.linalg.inv(cr.T)\n",
    "J = cr.omega_symplectic\n",
    "conmut = np.zeros((len(Tinv), len(Tinv)))\n",
    "\n",
    "for i in range(len(Tinv)):\n",
    "    for j in range(len(Tinv)):\n",
    "        conmut[i, j] = J[i,j] * (Tinv[i,i] * Tinv[j,j] - Tinv[i,j] * Tinv[j,i])\n",
    "\n",
    "print(conmut)\n"
   ]
  },
  {
   "cell_type": "code",
   "execution_count": 10,
   "metadata": {},
   "outputs": [
    {
     "name": "stdout",
     "output_type": "stream",
     "text": [
      "Matriz cambio de base T:\n",
      "[[ 3.475e-16  0.000e+00  7.030e-17 -1.000e+00]\n",
      " [ 0.000e+00 -6.827e-17 -1.107e+00 -5.973e-18]\n",
      " [-3.097e-17  1.000e+00  4.878e-16 -1.570e-16]\n",
      " [ 9.036e-01  3.926e-17 -7.125e-17  7.433e-17]]\n",
      "Hamiltoniano canónico:\n",
      "[[ 1.414e+00+0.j -3.541e-17+0.j -1.863e-16+0.j -5.215e-16+0.j]\n",
      " [-3.541e-17+0.j  2.000e+00+0.j  6.591e-16+0.j -4.284e-16+0.j]\n",
      " [-1.863e-16+0.j  6.591e-16+0.j  1.414e+00+0.j -3.797e-17+0.j]\n",
      " [-5.215e-16+0.j -4.284e-16+0.j -3.797e-17+0.j  2.000e+00+0.j]]\n"
     ]
    }
   ],
   "source": [
    "# COUPLED OSCILLATORS -> Adrian's tests\n",
    "np.set_printoptions(linewidth=150, threshold=np.inf)\n",
    "\n",
    "C1 = Capacitor(value = 1, unit='GHz')\n",
    "C2 = Capacitor(value = 1, unit='GHz')\n",
    "Cg = Capacitor(value = 2, unit='GHz')\n",
    "L1 = Inductor(value = 1, unit = 'GHz')\n",
    "L2 = Inductor(value = 1, unit = 'GHz')\n",
    "Lg = Inductor(value = 2, unit = 'GHz')\n",
    "\n",
    "coupled_oscillators1 = [(0,1,L1), (1,2,Lg), (2,0,L2), (0,1,C1), (1,2,Cg),(2,0,C2)]\n",
    "coupled_oscillators2 = [(0,1,L1), (2,0,L2), (0,1,C1), (1,2,Cg), (2,0,C2)]\n",
    "coupled_oscillators3 = [(0,1,L1), (2,0,L2), (0,1,C1), (2,0,C2)]\n",
    "\n",
    "cr = Circuit(coupled_oscillators2)\n",
    "\n",
    "print(\"Matriz cambio de base T:\")\n",
    "print(cr.T)\n",
    "print(\"Hamiltoniano canónico:\")\n",
    "print(cr.canonical_hamiltonian)\n",
    "\n",
    "\n",
    "# segun adrian tiene que ser 1 y 0.6"
   ]
  },
  {
   "cell_type": "code",
   "execution_count": 11,
   "metadata": {},
   "outputs": [
    {
     "name": "stdout",
     "output_type": "stream",
     "text": [
      "Hamiltoniano canónico:\n",
      "[[1.414+0.j 0.   +0.j]\n",
      " [0.   +0.j 1.414+0.j]]\n",
      "Hamiltoniano canónico:\n",
      "[[ 2.828e+00+0.j -3.229e-17+0.j]\n",
      " [-3.229e-17+0.j  2.828e+00+0.j]]\n",
      "Hamiltoniano canónico:\n",
      "[[1.414+0.j 0.   +0.j]\n",
      " [0.   +0.j 1.414+0.j]]\n",
      "Hamiltoniano canónico:\n",
      "[[2.828+0.j 0.   +0.j]\n",
      " [0.   +0.j 2.828+0.j]]\n"
     ]
    }
   ],
   "source": [
    "# CHECKS CON ADRIAN\n",
    "np.set_printoptions(linewidth=150, threshold=np.inf)\n",
    "\n",
    "C = Capacitor(value = 1, unit='GHz')\n",
    "L = Inductor(value = 1, unit = 'GHz')\n",
    "\n",
    "# 2 C Y 1 L en paralelo\n",
    "check1 = [(0,1,C),(0,1,C),(0,1,L)]\n",
    "cr = Circuit(check1)\n",
    "hamiltonian = cr.classical_hamiltonian\n",
    "\n",
    "print(\"Hamiltoniano canónico:\")\n",
    "print(cr.canonical_hamiltonian)\n",
    "\n",
    "# 2 C Y 1 L en serie\n",
    "check2 = [(0,1,C),(1,2,C),(2,0,L)]\n",
    "cr = Circuit(check2)\n",
    "hamiltonian = cr.classical_hamiltonian\n",
    "\n",
    "print(\"Hamiltoniano canónico:\")\n",
    "print(cr.canonical_hamiltonian)\n",
    "\n",
    "# 1 C Y 2 L en serie\n",
    "check3 = [(0,1,C),(1,2,L),(2,0,L)]\n",
    "cr = Circuit(check3)\n",
    "hamiltonian = cr.classical_hamiltonian\n",
    "\n",
    "print(\"Hamiltoniano canónico:\")\n",
    "print(cr.canonical_hamiltonian)\n",
    "\n",
    "# 1 C Y 2 L en paralelo\n",
    "check4 = [(0,1,C),(0,1,L),(0,1,L)]\n",
    "cr = Circuit(check4)\n",
    "hamiltonian = cr.classical_hamiltonian\n",
    "\n",
    "print(\"Hamiltoniano canónico:\")\n",
    "print(cr.canonical_hamiltonian)"
   ]
  },
  {
   "cell_type": "code",
   "execution_count": 12,
   "metadata": {},
   "outputs": [
    {
     "name": "stdout",
     "output_type": "stream",
     "text": [
      "Matriz cambio de base T:\n",
      "[[-3.441e-03  1.385e-01  5.429e-01 -8.479e-01]\n",
      " [-8.310e-01 -5.539e-01 -1.357e-01  1.305e-01]\n",
      " [-5.256e-01  8.420e-01 -2.181e-01 -4.785e-17]\n",
      " [ 0.000e+00  8.410e-02 -8.591e-01 -5.363e-01]]\n",
      "Hamiltoniano canónico:\n",
      "[[ 1.155e+00+0.j  3.302e-16+0.j  3.589e-16+0.j  2.076e-16+0.j]\n",
      " [ 1.723e-16+0.j  1.155e+00+0.j  3.195e-16+0.j -1.658e-17+0.j]\n",
      " [ 4.219e-16+0.j  3.127e-16+0.j  1.155e+00+0.j -1.721e-16+0.j]\n",
      " [ 1.648e-16+0.j -1.054e-16+0.j -2.077e-16+0.j  1.155e+00+0.j]]\n"
     ]
    }
   ],
   "source": [
    "#SYMMETRIC STAR CIRCUIT \n",
    "np.set_printoptions(linewidth=150, threshold=np.inf)\n",
    "\n",
    "cr = Circuit(starcircuit)\n",
    "sc_hamiltonian = cr.classical_hamiltonian\n",
    "\n",
    "print(\"Matriz cambio de base T:\")\n",
    "print(cr.T)\n",
    "print(\"Hamiltoniano canónico:\")\n",
    "print(cr.canonical_hamiltonian)\n"
   ]
  },
  {
   "cell_type": "code",
   "execution_count": 13,
   "metadata": {},
   "outputs": [
    {
     "name": "stdout",
     "output_type": "stream",
     "text": [
      "[[ 0.     0.     0.286  0.   ]\n",
      " [ 0.     0.     0.     0.286]\n",
      " [-0.286 -0.     0.     0.   ]\n",
      " [-0.    -0.286  0.     0.   ]]\n"
     ]
    }
   ],
   "source": [
    "Tinv = np.linalg.inv(cr.T)\n",
    "J = cr.omega_symplectic\n",
    "conmut = np.zeros((len(Tinv), len(Tinv)))\n",
    "\n",
    "for i in range(len(Tinv)):\n",
    "    for j in range(len(Tinv)):\n",
    "        conmut[i, j] = J[i,j] * (Tinv[i,i] * Tinv[j,j] - Tinv[i,j] * Tinv[j,i])\n",
    "\n",
    "print(conmut)"
   ]
  },
  {
   "cell_type": "code",
   "execution_count": 14,
   "metadata": {},
   "outputs": [
    {
     "name": "stdout",
     "output_type": "stream",
     "text": [
      "Matriz cambio de base T:\n",
      "[[ 8.723e-01 -4.696e-01  2.927e-02 -7.585e-16 -2.248e-02  1.355e-01]\n",
      " [-1.153e-01 -5.382e-02  9.840e-01  2.225e-15 -2.909e-01 -7.283e-02]\n",
      " [ 5.024e-01  8.278e-01 -2.766e-01 -4.006e-16  1.058e-01 -2.185e-01]\n",
      " [ 2.208e-32  3.600e-02 -1.300e-01  8.723e-01 -4.652e-01  7.571e-02]\n",
      " [-2.156e-15  2.725e-01  1.566e-01  1.153e-01  2.412e-01  9.508e-01]\n",
      " [-5.692e-16  9.825e-20  2.616e-01  5.024e-01  8.630e-01  8.669e-02]]\n",
      "Hamiltoniano canónico:\n",
      "[[ 1.000e+00+0.j  5.684e-16+0.j -1.513e-15+0.j -2.885e-16+0.j  4.497e-16+0.j -7.330e-17+0.j]\n",
      " [ 9.655e-17+0.j  1.414e+00+0.j  2.500e-16+0.j -4.606e-16+0.j  1.386e-16+0.j -1.095e-16+0.j]\n",
      " [-1.287e-15+0.j -7.540e-17+0.j  1.414e+00+0.j  6.308e-16+0.j  2.780e-17+0.j  6.650e-16+0.j]\n",
      " [-2.885e-16+0.j -5.198e-16+0.j  6.429e-16+0.j  1.000e+00+0.j  9.382e-16+0.j -1.743e-15+0.j]\n",
      " [ 3.705e-16+0.j  2.747e-16+0.j  1.495e-16+0.j  8.343e-16+0.j  1.414e+00+0.j -1.098e-16+0.j]\n",
      " [ 1.271e-17+0.j -9.792e-17+0.j  4.973e-16+0.j -1.560e-15+0.j -1.808e-16+0.j  1.414e+00+0.j]]\n"
     ]
    }
   ],
   "source": [
    "#SYMMETRIC SQUARE CIRCUIT \n",
    "np.set_printoptions(linewidth=150, threshold=np.inf)\n",
    "\n",
    "cr = Circuit(starcircuit_4)\n",
    "sc4_hamiltonian = cr.classical_hamiltonian\n",
    "\n",
    "print(\"Matriz cambio de base T:\")\n",
    "print(cr.T)\n",
    "print(\"Hamiltoniano canónico:\")\n",
    "print(cr.canonical_hamiltonian)"
   ]
  },
  {
   "cell_type": "code",
   "execution_count": 15,
   "metadata": {},
   "outputs": [
    {
     "name": "stdout",
     "output_type": "stream",
     "text": [
      "Matriz cambio de base T:\n",
      "[[-9.407e-01  3.475e-01  1.826e-16 -9.711e-16]\n",
      " [-1.372e-01 -9.099e-01  3.482e-18  1.611e-16]\n",
      " [ 0.000e+00  4.576e-16 -1.007e+00  1.519e-01]\n",
      " [ 1.451e-16  0.000e+00 -3.846e-01 -1.041e+00]]\n",
      "Hamiltoniano canónico:\n",
      "[[ 1.155e+00+0.j -3.580e-16+0.j -1.059e-16+0.j  1.009e-15+0.j]\n",
      " [-3.672e-16+0.j  1.414e+00+0.j -4.412e-16+0.j -1.258e-16+0.j]\n",
      " [-1.059e-16+0.j -4.412e-16+0.j  1.155e+00+0.j -1.612e-16+0.j]\n",
      " [ 1.009e-15+0.j -1.258e-16+0.j -1.278e-16+0.j  1.414e+00+0.j]]\n"
     ]
    }
   ],
   "source": [
    "# NO-SYMMETRIC STAR CIRCUIT\n",
    "np.set_printoptions(linewidth=150, threshold=np.inf)\n",
    "\n",
    "\n",
    "cr = Circuit(starcircuit_nonsymmetric)\n",
    "scns_hamiltonian = cr.classical_hamiltonian\n",
    "\n",
    "print(\"Matriz cambio de base T:\")\n",
    "print(cr.T)\n",
    "print(\"Hamiltoniano canónico:\")\n",
    "print(cr.canonical_hamiltonian)"
   ]
  },
  {
   "cell_type": "code",
   "execution_count": 16,
   "metadata": {},
   "outputs": [
    {
     "name": "stdout",
     "output_type": "stream",
     "text": [
      "eigval K: [0.000e+00+0.999j 1.015e-16+0.577j 2.257e-16-0.999j 5.354e-17-0.577j]\n",
      "[[ 6.155e-35 -4.892e-16  1.000e+00  1.820e-16]\n",
      " [ 4.892e-16 -2.460e-35  6.196e-16  1.000e+00]\n",
      " [-1.000e+00 -6.196e-16 -5.099e-32 -7.121e-16]\n",
      " [-1.820e-16 -1.000e+00  7.121e-16  2.436e-32]]\n"
     ]
    }
   ],
   "source": [
    "from scircuit.algebra import*\n",
    "\n",
    "c_H = np.array([[ 1.00e+00+0.j,  8.41e-01+0.j,  3.28e-16+0.j, -1.57e-16+0.j],\n",
    "                                  [ 8.41e-01+0.j,  1.41e+00+0.j,  4.34e-16+0.j, -7.37e-18+0.j],\n",
    "                                  [ 3.28e-16+0.j,  4.34e-16+0.j,  6.67e-01+0.j, -3.96e-01+0.j],\n",
    "                                  [-1.57e-16+0.j, -7.37e-18+0.j, -3.96e-01+0.j,  9.43e-01+0.j]])\n",
    "J = np.zeros((4,4))\n",
    "I = np.eye(2)\n",
    "    \n",
    "J[:2, 2:4] = I\n",
    "J[2:4, :2] = -I \n",
    "\n",
    "K = J @ c_H\n",
    "eigval_K,eigvec_K = np.linalg.eig(K)\n",
    "print('eigval K:', eigval_K)\n",
    "K_N, T = symplectic_transformation(K)\n",
    "\n",
    "print(T.T @ J @ T)"
   ]
  }
 ],
 "metadata": {
  "kernelspec": {
   "display_name": "Proyect1",
   "language": "python",
   "name": "python3"
  },
  "language_info": {
   "codemirror_mode": {
    "name": "ipython",
    "version": 3
   },
   "file_extension": ".py",
   "mimetype": "text/x-python",
   "name": "python",
   "nbconvert_exporter": "python",
   "pygments_lexer": "ipython3",
   "version": "3.12.3"
  }
 },
 "nbformat": 4,
 "nbformat_minor": 2
}
