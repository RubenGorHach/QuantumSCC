{
 "cells": [
  {
   "cell_type": "code",
   "execution_count": 1,
   "metadata": {},
   "outputs": [],
   "source": [
    "from scircuit import *\n",
    "import numpy as np"
   ]
  },
  {
   "cell_type": "code",
   "execution_count": 2,
   "metadata": {},
   "outputs": [],
   "source": [
    "#Define the circuit\n",
    "C = Capacitor(value = 0.5, unit='F')\n",
    "L1 = Inductor(value = 0.5, unit = 'H')\n",
    "L2 = Inductor(value = 0.5, unit = 'H')\n",
    "L3 = Inductor(value = 0.5, unit = 'H')\n",
    "elements1 = [(0,1,C), (0,1,L1)] \n",
    "elements2 = [(0,2,C), (0,1,L1), (1,2,L2)] \n",
    "elements3 = [(0,2,C), (0,2,L3), (0,1,L1), (1,2,L2)]\n",
    "elements4 = [(0,1,C), (0,1,L1), (0,1,L2)] \n",
    "\n",
    "cr = Circuit(elements3)"
   ]
  },
  {
   "cell_type": "code",
   "execution_count": 3,
   "metadata": {},
   "outputs": [
    {
     "name": "stdout",
     "output_type": "stream",
     "text": [
      "The matrix expression for omega_2B is:\n",
      "[[ 0.   0.   0.   0.   0.5  0.   0.   0. ]\n",
      " [ 0.   0.   0.   0.   0.  -0.5  0.   0. ]\n",
      " [ 0.   0.   0.   0.   0.   0.  -0.5  0. ]\n",
      " [ 0.   0.   0.   0.   0.   0.   0.  -0.5]\n",
      " [-0.5  0.   0.   0.   0.   0.   0.   0. ]\n",
      " [ 0.   0.5  0.   0.   0.   0.   0.   0. ]\n",
      " [ 0.   0.   0.5  0.   0.   0.   0.   0. ]\n",
      " [ 0.   0.   0.   0.5  0.   0.   0.   0. ]]\n",
      "The matrix expression for omega is:\n",
      "[[ 0.  0. -1.  0.]\n",
      " [ 0.  0. -1.  0.]\n",
      " [ 1.  1.  0.  0.]\n",
      " [ 0.  0.  0.  0.]]\n",
      "The determinant of matrix omega is:\n",
      "0.0\n"
     ]
    }
   ],
   "source": [
    "# Calculate omega_2B \n",
    "omega_2B = cr.omega_2B\n",
    "print(f\"The matrix expression for omega_2B is:\\n{omega_2B}\")\n",
    "\n",
    "# Calculate omega\n",
    "omega = cr.omega\n",
    "print(f\"The matrix expression for omega is:\\n{omega}\")\n",
    "print(f\"The determinant of matrix omega is:\\n{np.linalg.det(omega)}\")"
   ]
  },
  {
   "cell_type": "code",
   "execution_count": 4,
   "metadata": {},
   "outputs": [
    {
     "name": "stdout",
     "output_type": "stream",
     "text": [
      "The matrix expression for the H before the variable change is:\n",
      "[[1. 0. 0. 0. 0. 0. 0. 0.]\n",
      " [0. 0. 0. 0. 0. 0. 0. 0.]\n",
      " [0. 0. 0. 0. 0. 0. 0. 0.]\n",
      " [0. 0. 0. 0. 0. 0. 0. 0.]\n",
      " [0. 0. 0. 0. 0. 0. 0. 0.]\n",
      " [0. 0. 0. 0. 0. 1. 0. 0.]\n",
      " [0. 0. 0. 0. 0. 0. 1. 0.]\n",
      " [0. 0. 0. 0. 0. 0. 0. 1.]]\n",
      "The matrix expression for the H after the variable change is:\n",
      "[[ 1.  1.  0.  0.]\n",
      " [ 1.  1.  0.  0.]\n",
      " [ 0.  0.  2. -1.]\n",
      " [ 0.  0. -1.  2.]]\n"
     ]
    }
   ],
   "source": [
    "np.set_printoptions(precision=3)\n",
    "\n",
    "# Calculate the Hamiltonian matrix before the variable change\n",
    "hamiltonian_2B = cr.hamiltonian_2B\n",
    "print(f\"The matrix expression for the H before the variable change is:\\n{hamiltonian_2B}\")\n",
    "\n",
    "# Calculate the Hamiltonian matrix after the variable change\n",
    "hamiltonian = cr.hamiltonian\n",
    "print(f\"The matrix expression for the H after the variable change is:\\n{hamiltonian}\")"
   ]
  },
  {
   "cell_type": "code",
   "execution_count": 6,
   "metadata": {},
   "outputs": [
    {
     "name": "stdout",
     "output_type": "stream",
     "text": [
      "[[ 0.  0. -1.  0.  0.]\n",
      " [ 0.  0.  1.  0.  0.]\n",
      " [ 1. -1.  0.  0.  0.]\n",
      " [ 0.  0.  0.  0.  0.]\n",
      " [ 0.  0.  0.  0.  0.]]\n"
     ]
    }
   ],
   "source": [
    "C = Capacitor(value = 1, unit='GHz')\n",
    "L = Inductor(value = 1, unit = 'GHz')\n",
    "elements = [(0,1,C), (0,1,L), (1,2,L), (2,3,L), (3,0,L)]\n",
    "\n",
    "cr = Circuit(elements)\n",
    "\n",
    "print(cr.omega)"
   ]
  }
 ],
 "metadata": {
  "kernelspec": {
   "display_name": "Proyect1",
   "language": "python",
   "name": "python3"
  },
  "language_info": {
   "codemirror_mode": {
    "name": "ipython",
    "version": 3
   },
   "file_extension": ".py",
   "mimetype": "text/x-python",
   "name": "python",
   "nbconvert_exporter": "python",
   "pygments_lexer": "ipython3",
   "version": "3.12.4"
  }
 },
 "nbformat": 4,
 "nbformat_minor": 2
}
