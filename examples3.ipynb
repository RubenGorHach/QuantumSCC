{
 "cells": [
  {
   "cell_type": "code",
   "execution_count": 19,
   "metadata": {},
   "outputs": [],
   "source": [
    "from scircuit import *\n",
    "import numpy as np"
   ]
  },
  {
   "cell_type": "code",
   "execution_count": 20,
   "metadata": {},
   "outputs": [],
   "source": [
    "#Define the circuit\n",
    "C = Capacitor(value = 1, unit='GHz')\n",
    "Cg = Capacitor(value = 1, unit='GHz')\n",
    "L1 = Inductor(value = 1, unit = 'GHz')\n",
    "L2 = Inductor(value = 1, unit = 'GHz')\n",
    "L3 = Inductor(value = 3, unit = 'GHz')\n",
    "elements1 = [(0,1,C), (0,1,L1)] \n",
    "elements2 = [(0,2,C), (0,1,L1), (1,2,L2)] \n",
    "elements3 = [(0,2,C), (0,2,L1), (0,1,L2), (1,2,L3)]\n",
    "elements4 = [(0,1,C), (0,1,L1), (0,1,L2)] \n",
    "elements5 = [(0,3,C), (0,3,L1), (0,1,L2), (1,2,C), (2,3,L1)]\n",
    "starcircuit = [(0,1,C), (1,2,C), (2,0,C), (0,3,L1), (1,3,L1), (2,3,L1)]\n",
    "starcircuit_4 = [(0,1,C), (1,2,C), (2,3,C), (3,0,C), (0,4,L1), (1,4,L1), (2,4,L1), (3,4,L1)]\n",
    "starcircuit_nonsymmetric = [(0,1,C), (1,2,C), (2,0,C), (0,3,L2), (1,3,L1), (2,3,L1)]\n",
    "#coupled_oscillators = [(0,1,C), (0,1,L1), (1,2,Cg), (2,0,C), (2,0,L1)]\n",
    "coupled_oscillators = [(0,1,L1), (1,2,C), (2,0,L1), (0,1,C), (2,0,C)]\n",
    "\n",
    "cr = Circuit(coupled_oscillators)\n"
   ]
  },
  {
   "cell_type": "code",
   "execution_count": 21,
   "metadata": {},
   "outputs": [
    {
     "name": "stdout",
     "output_type": "stream",
     "text": [
      "The matrix expression for omega_2B is:\n",
      "[[ 0.   0.   0.   0.   0.  -0.5  0.   0.   0.   0. ]\n",
      " [ 0.   0.   0.   0.   0.   0.   0.5  0.   0.   0. ]\n",
      " [ 0.   0.   0.   0.   0.   0.   0.  -0.5  0.   0. ]\n",
      " [ 0.   0.   0.   0.   0.   0.   0.   0.   0.5  0. ]\n",
      " [ 0.   0.   0.   0.   0.   0.   0.   0.   0.   0.5]\n",
      " [ 0.5  0.   0.   0.   0.   0.   0.   0.   0.   0. ]\n",
      " [ 0.  -0.5  0.   0.   0.   0.   0.   0.   0.   0. ]\n",
      " [ 0.   0.   0.5  0.   0.   0.   0.   0.   0.   0. ]\n",
      " [ 0.   0.   0.  -0.5  0.   0.   0.   0.   0.   0. ]\n",
      " [ 0.   0.   0.   0.  -0.5  0.   0.   0.   0.   0. ]]\n",
      "The matrix expression for omega is:\n",
      "[[ 0.  0.  1.  0.]\n",
      " [ 0.  0.  0.  1.]\n",
      " [-1. -0.  0.  0.]\n",
      " [-0. -1.  0.  0.]]\n",
      "The matrix variable change for omega is:\n",
      "[[ 1.000e+00 -0.000e+00  0.000e+00  0.000e+00  0.000e+00]\n",
      " [ 0.000e+00 -5.946e-01  0.000e+00 -8.395e-17  7.071e-01]\n",
      " [ 0.000e+00  5.946e-01 -0.000e+00 -2.053e-16  7.071e-01]\n",
      " [ 0.000e+00 -0.000e+00 -0.000e+00 -8.409e-01 -1.590e-16]\n",
      " [ 0.000e+00 -0.000e+00  1.000e+00  0.000e+00  0.000e+00]]\n",
      "The determinant of matrix omega is:\n",
      "1.0\n"
     ]
    }
   ],
   "source": [
    "# Calculate omega_2B \n",
    "E_2B = cr.omega_2B\n",
    "print(f\"The matrix expression for omega_2B is:\\n{E_2B}\")\n",
    "\n",
    "# Calculate omega\n",
    "E = cr.omega_symplectic\n",
    "print(f\"The matrix expression for omega is:\\n{cr.omega_symplectic}\")\n",
    "print(f\"The matrix variable change for omega is:\\n{cr.symplectic_basis_change}\")\n",
    "print(f\"The determinant of matrix omega is:\\n{np.linalg.det(E)}\")"
   ]
  },
  {
   "cell_type": "code",
   "execution_count": 22,
   "metadata": {},
   "outputs": [
    {
     "name": "stdout",
     "output_type": "stream",
     "text": [
      "The matrix expression for the H before the variable change is:\n",
      "[[0. 0. 0. 0. 0. 0. 0. 0. 0. 0.]\n",
      " [0. 1. 0. 0. 0. 0. 0. 0. 0. 0.]\n",
      " [0. 0. 0. 0. 0. 0. 0. 0. 0. 0.]\n",
      " [0. 0. 0. 1. 0. 0. 0. 0. 0. 0.]\n",
      " [0. 0. 0. 0. 1. 0. 0. 0. 0. 0.]\n",
      " [0. 0. 0. 0. 0. 1. 0. 0. 0. 0.]\n",
      " [0. 0. 0. 0. 0. 0. 0. 0. 0. 0.]\n",
      " [0. 0. 0. 0. 0. 0. 0. 1. 0. 0.]\n",
      " [0. 0. 0. 0. 0. 0. 0. 0. 0. 0.]\n",
      " [0. 0. 0. 0. 0. 0. 0. 0. 0. 0.]]\n",
      "The matrix expression for the H in the same basis as E_canonical is:\n",
      "[[ 1.000e+00  5.946e-01  0.000e+00 -2.053e-16  7.071e-01]\n",
      " [ 5.946e-01  1.061e+00  0.000e+00 -1.943e-16  4.204e-01]\n",
      " [ 0.000e+00  0.000e+00  1.000e+00 -8.409e-01 -1.590e-16]\n",
      " [-2.053e-16 -1.943e-16 -8.409e-01  1.414e+00 -8.233e-17]\n",
      " [ 7.071e-01  4.204e-01 -1.590e-16 -8.233e-17  1.500e+00]]\n",
      "[[ 0.  0.  1.  0.]\n",
      " [ 0.  0.  0.  1.]\n",
      " [-1. -0.  0.  0.]\n",
      " [-0. -1.  0.  0.]]\n",
      "eig: [ 5.188e-18+0.577j  5.188e-18-0.577j -6.123e-17+1.j    -6.123e-17-1.j   ]\n",
      "The final matrix expression for the H is:\n",
      "[[ 6.667e-01  3.964e-01  7.496e-17 -1.665e-16]\n",
      " [ 3.964e-01  9.428e-01  4.457e-17 -1.712e-16]\n",
      " [ 7.496e-17  4.457e-17  1.000e+00 -8.409e-01]\n",
      " [-1.665e-16 -1.712e-16 -8.409e-01  1.414e+00]]\n"
     ]
    }
   ],
   "source": [
    "np.set_printoptions(precision=3)\n",
    "\n",
    "# Calculate the Hamiltonian matrix before the variable change\n",
    "Total_energy_2B = cr.Total_energy_2B\n",
    "print(f\"The matrix expression for the H before the variable change is:\\n{Total_energy_2B}\")\n",
    "\n",
    "# Calculate the Hamiltonian matrix in the same basis as E_canonical\n",
    "Total_energy_symplectic_basis = cr.Total_energy_symplectic_basis\n",
    "print(f\"The matrix expression for the H in the same basis as E_canonical is:\\n{Total_energy_symplectic_basis}\")\n",
    "\n",
    "# Calculate the final expression for the Hamiltonian matrix, hamiltonian_xi\n",
    "hamiltonian = cr.classical_hamiltonian\n",
    "hamiltonian_prueba = hamiltonian.copy()\n",
    "\n",
    "print(cr.omega_symplectic)\n",
    "\n",
    "eigenval,_ = np.linalg.eig(cr.omega_symplectic @ hamiltonian)\n",
    "\n",
    "print(\"eig:\", eigenval)\n",
    "\n",
    "print(f\"The final matrix expression for the H is:\\n{hamiltonian}\")\n",
    "\n"
   ]
  },
  {
   "cell_type": "code",
   "execution_count": 23,
   "metadata": {},
   "outputs": [
    {
     "name": "stdout",
     "output_type": "stream",
     "text": [
      "Canonical Hamiltonian\n",
      "[[ 5.774e-01 -1.611e-16 -2.406e-17 -1.303e-16]\n",
      " [-1.961e-16  1.000e+00 -5.485e-17 -7.218e-17]\n",
      " [-2.406e-17 -5.485e-17  5.774e-01 -3.910e-16]\n",
      " [-1.303e-16 -7.218e-17 -2.661e-16  1.000e+00]]\n",
      "Basis change matrix, T\n",
      "[[-9.306e-01  7.071e-01  0.000e+00  0.000e+00]\n",
      " [ 8.273e-16 -1.189e+00  0.000e+00  0.000e+00]\n",
      " [ 0.000e+00  0.000e+00 -1.075e+00 -6.375e-16]\n",
      " [ 0.000e+00  0.000e+00 -6.389e-01 -8.409e-01]]\n"
     ]
    }
   ],
   "source": [
    "from scircuit.algebra import *\n",
    "\n",
    "H_n, T = canonical_transformation_quadratic_quantum_hamiltonian(hamiltonian)\n",
    "\n",
    "print(\"Canonical Hamiltonian\")\n",
    "print(H_n)\n",
    "\n",
    "print(\"Basis change matrix, T\")\n",
    "print(T)\n"
   ]
  },
  {
   "cell_type": "code",
   "execution_count": 24,
   "metadata": {},
   "outputs": [
    {
     "name": "stdout",
     "output_type": "stream",
     "text": [
      "Quantum Hamiltonian\n",
      "[[ 5.774e-01+0.000e+00j -2.761e-16-3.774e-17j  5.551e-17-2.406e-17j -1.150e-16-9.258e-17j]\n",
      " [-2.311e-16+3.774e-17j  1.000e+00+0.000e+00j -3.499e-17-9.258e-17j  0.000e+00-7.218e-17j]\n",
      " [ 5.551e-17+2.406e-17j -1.150e-16+9.258e-17j  5.774e-01+0.000e+00j -2.761e-16+3.774e-17j]\n",
      " [-3.499e-17+9.258e-17j  0.000e+00+7.218e-17j -2.311e-16-3.774e-17j  1.000e+00+0.000e+00j]]\n"
     ]
    }
   ],
   "source": [
    "quantum_hamiltonian = cr.quantum_hamiltonian\n",
    "np.set_printoptions(precision=3)\n",
    "print(\"Quantum Hamiltonian\")\n",
    "print(quantum_hamiltonian)"
   ]
  },
  {
   "cell_type": "code",
   "execution_count": 25,
   "metadata": {},
   "outputs": [
    {
     "name": "stdout",
     "output_type": "stream",
     "text": [
      "T inverse\n",
      "[[-1.075e+00 -6.389e-01 -0.000e+00 -0.000e+00]\n",
      " [-7.476e-16 -8.409e-01 -0.000e+00 -0.000e+00]\n",
      " [-0.000e+00 -0.000e+00 -9.306e-01  7.055e-16]\n",
      " [-0.000e+00 -0.000e+00  7.071e-01 -1.189e+00]]\n",
      "T transpose\n",
      "[[-9.306e-01  8.273e-16  0.000e+00  0.000e+00]\n",
      " [ 7.071e-01 -1.189e+00  0.000e+00  0.000e+00]\n",
      " [ 0.000e+00  0.000e+00 -1.075e+00 -6.389e-01]\n",
      " [ 0.000e+00  0.000e+00 -6.375e-16 -8.409e-01]]\n"
     ]
    }
   ],
   "source": [
    "#np.set_printoptions(precision=3)\n",
    "print(\"T inverse\")\n",
    "print(np.linalg.inv(T))\n",
    "\n",
    "print(\"T transpose\")\n",
    "print(T.T)\n",
    "\n"
   ]
  },
  {
   "cell_type": "code",
   "execution_count": 26,
   "metadata": {},
   "outputs": [
    {
     "name": "stdout",
     "output_type": "stream",
     "text": [
      "Matriz cambio de base T:\n",
      "[[-9.306e-01  7.071e-01  0.000e+00  0.000e+00]\n",
      " [ 8.273e-16 -1.189e+00  0.000e+00  0.000e+00]\n",
      " [ 0.000e+00  0.000e+00 -1.075e+00 -6.375e-16]\n",
      " [ 0.000e+00  0.000e+00 -6.389e-01 -8.409e-01]]\n",
      "Hamiltoniano canónico:\n",
      "[[ 5.774e-01 -1.611e-16 -2.406e-17 -1.303e-16]\n",
      " [-1.961e-16  1.000e+00 -5.485e-17 -7.218e-17]\n",
      " [-2.406e-17 -5.485e-17  5.774e-01 -3.910e-16]\n",
      " [-1.303e-16 -7.218e-17 -2.661e-16  1.000e+00]]\n"
     ]
    }
   ],
   "source": [
    "# COUPLED OSCILLATORS\n",
    "np.set_printoptions(linewidth=150, threshold=np.inf)\n",
    "\n",
    "C1 = Capacitor(value = 1, unit='GHz')\n",
    "C2 = Capacitor(value = 1, unit='GHz')\n",
    "Cg = Capacitor(value = 1, unit='GHz')\n",
    "L1 = Inductor(value = 1, unit = 'GHz')\n",
    "L2 = Inductor(value = 1, unit = 'GHz')\n",
    "\n",
    "coupled_oscillators = [(0,1,L1), (1,2,Cg), (2,0,L1), (0,1,C1),(2,0,C1)]\n",
    "\n",
    "cr = Circuit(coupled_oscillators)\n",
    "co_hamiltonian = cr.classical_hamiltonian\n",
    "\n",
    "H_n_co, T = canonical_transformation_quadratic_quantum_hamiltonian(co_hamiltonian)\n",
    "print(\"Matriz cambio de base T:\")\n",
    "print(T)\n",
    "print(\"Hamiltoniano canónico:\")\n",
    "print(H_n_co)"
   ]
  },
  {
   "cell_type": "code",
   "execution_count": 27,
   "metadata": {},
   "outputs": [
    {
     "name": "stdout",
     "output_type": "stream",
     "text": [
      "Hamiltoniano canónico:\n",
      "[[ 7.071e-01  1.527e-32  3.786e-17  1.218e-17]\n",
      " [ 1.341e-32  1.000e+00 -3.374e-17 -1.120e-16]\n",
      " [ 3.786e-17 -3.374e-17  7.071e-01 -1.233e-32]\n",
      " [ 1.218e-17 -1.120e-16 -6.987e-33  1.000e+00]]\n"
     ]
    }
   ],
   "source": [
    "# COUPLED OSCILLATORS -> Adrian's tests\n",
    "np.set_printoptions(linewidth=150, threshold=np.inf)\n",
    "\n",
    "C1 = Capacitor(value = 1, unit='GHz')\n",
    "C2 = Capacitor(value = 1, unit='GHz')\n",
    "Cg = Capacitor(value = 2, unit='GHz')\n",
    "L1 = Inductor(value = 1, unit = 'GHz')\n",
    "L2 = Inductor(value = 1, unit = 'GHz')\n",
    "Lg = Inductor(value = 2, unit = 'GHz')\n",
    "\n",
    "coupled_oscillators1 = [(0,1,L1), (1,2,Lg), (2,0,L2), (0,1,C1), (1,2,Cg),(2,0,C2)]\n",
    "coupled_oscillators2 = [(0,1,L1), (2,0,L2), (0,1,C1), (1,2,Cg), (2,0,C2)]\n",
    "coupled_oscillators3 = [(0,1,L1), (2,0,L2), (0,1,C1), (2,0,C2)]\n",
    "\n",
    "cr = Circuit(coupled_oscillators2)\n",
    "co_hamiltonian = cr.classical_hamiltonian\n",
    "\n",
    "H_n_co, T = canonical_transformation_quadratic_quantum_hamiltonian(co_hamiltonian)\n",
    "\n",
    "print(\"Hamiltoniano canónico:\")\n",
    "print(H_n_co)\n",
    "\n",
    "\n",
    "# segun adrian tiene que ser 1 y 0.6"
   ]
  },
  {
   "cell_type": "code",
   "execution_count": 28,
   "metadata": {},
   "outputs": [
    {
     "name": "stdout",
     "output_type": "stream",
     "text": [
      "Hamiltoniano canónico:\n",
      "[[0.707 0.   ]\n",
      " [0.    0.707]]\n",
      "Hamiltoniano canónico:\n",
      "[[1.414 0.   ]\n",
      " [0.    1.414]]\n",
      "Hamiltoniano canónico:\n",
      "[[0.707 0.   ]\n",
      " [0.    0.707]]\n",
      "Hamiltoniano canónico:\n",
      "[[ 1.414e+00 -1.614e-17]\n",
      " [-1.614e-17  1.414e+00]]\n"
     ]
    }
   ],
   "source": [
    "# CHECKS CON ADRIAN\n",
    "np.set_printoptions(linewidth=150, threshold=np.inf)\n",
    "\n",
    "C = Capacitor(value = 1, unit='GHz')\n",
    "L = Inductor(value = 1, unit = 'GHz')\n",
    "\n",
    "# 2 C Y 1 L en paralelo\n",
    "check1 = [(0,1,C),(0,1,C),(0,1,L)]\n",
    "cr = Circuit(check1)\n",
    "hamiltonian = cr.classical_hamiltonian\n",
    "\n",
    "H_n, T = canonical_transformation_quadratic_quantum_hamiltonian(hamiltonian)\n",
    "print(\"Hamiltoniano canónico:\")\n",
    "print(H_n)\n",
    "\n",
    "# 2 C Y 1 L en serie\n",
    "check2 = [(0,1,C),(1,2,C),(2,0,L)]\n",
    "cr = Circuit(check2)\n",
    "hamiltonian = cr.classical_hamiltonian\n",
    "\n",
    "H_n, T = canonical_transformation_quadratic_quantum_hamiltonian(hamiltonian)\n",
    "print(\"Hamiltoniano canónico:\")\n",
    "print(H_n)\n",
    "\n",
    "# 1 C Y 2 L en serie\n",
    "check3 = [(0,1,C),(1,2,L),(2,0,L)]\n",
    "cr = Circuit(check3)\n",
    "hamiltonian = cr.classical_hamiltonian\n",
    "\n",
    "H_n, T = canonical_transformation_quadratic_quantum_hamiltonian(hamiltonian)\n",
    "print(\"Hamiltoniano canónico:\")\n",
    "print(H_n)\n",
    "\n",
    "# 1 C Y 2 L en paralelo\n",
    "check4 = [(0,1,C),(0,1,L),(0,1,L)]\n",
    "cr = Circuit(check4)\n",
    "hamiltonian = cr.classical_hamiltonian\n",
    "\n",
    "H_n, T = canonical_transformation_quadratic_quantum_hamiltonian(hamiltonian)\n",
    "print(\"Hamiltoniano canónico:\")\n",
    "print(H_n)"
   ]
  },
  {
   "cell_type": "code",
   "execution_count": 29,
   "metadata": {},
   "outputs": [
    {
     "name": "stdout",
     "output_type": "stream",
     "text": [
      "Matriz cambio de base T:\n",
      "[[-1.006 -0.144  0.     0.   ]\n",
      " [ 0.112  1.01   0.     0.   ]\n",
      " [ 0.     0.    -1.01   0.112]\n",
      " [ 0.     0.    -0.144  1.006]]\n",
      "Hamiltoniano canónico:\n",
      "[[ 5.774e-01 -1.178e-16 -1.270e-16  2.201e-18]\n",
      " [-2.044e-16  5.774e-01  4.409e-17  2.750e-17]\n",
      " [-1.270e-16  4.409e-17  5.774e-01 -5.057e-16]\n",
      " [ 2.201e-18  2.750e-17 -2.299e-16  5.774e-01]]\n"
     ]
    }
   ],
   "source": [
    "#SYMMETRIC STAR CIRCUIT \n",
    "np.set_printoptions(linewidth=150, threshold=np.inf)\n",
    "\n",
    "cr = Circuit(starcircuit)\n",
    "sc_hamiltonian = cr.classical_hamiltonian\n",
    "\n",
    "H_n_sc, T = canonical_transformation_quadratic_quantum_hamiltonian(sc_hamiltonian)\n",
    "print(\"Matriz cambio de base T:\")\n",
    "print(T)\n",
    "print(\"Hamiltoniano canónico:\")\n",
    "print(H_n_sc)\n"
   ]
  },
  {
   "cell_type": "code",
   "execution_count": 30,
   "metadata": {},
   "outputs": [
    {
     "name": "stdout",
     "output_type": "stream",
     "text": [
      "Matriz cambio de base T:\n",
      "[[ 0.502  0.     0.906  0.     0.     0.   ]\n",
      " [ 0.115  0.963  0.366  0.     0.     0.   ]\n",
      " [ 0.872  0.127 -0.473  0.     0.     0.   ]\n",
      " [ 0.     0.     0.     0.502 -0.374  0.825]\n",
      " [ 0.     0.     0.    -0.115  1.028  0.064]\n",
      " [ 0.     0.    -0.     0.872  0.079 -0.484]]\n",
      "Hamiltoniano canónico:\n",
      "[[ 5.000e-01  4.556e-15  5.057e-15  9.197e-17 -2.802e-17  6.750e-17]\n",
      " [ 4.514e-15  7.071e-01 -3.374e-16 -4.336e-17 -3.868e-17  1.242e-16]\n",
      " [ 5.007e-15 -4.578e-16  7.071e-01  4.698e-17  1.245e-16 -1.309e-16]\n",
      " [ 9.197e-17 -4.336e-17  4.698e-17  5.000e-01  6.259e-15  6.978e-15]\n",
      " [-2.802e-17 -3.868e-17  1.245e-16  6.285e-15  7.071e-01  2.033e-16]\n",
      " [ 6.750e-17  1.242e-16 -1.309e-16  6.771e-15  5.411e-16  7.071e-01]]\n"
     ]
    }
   ],
   "source": [
    "#SYMMETRIC SQUARE CIRCUIT \n",
    "np.set_printoptions(linewidth=150, threshold=np.inf)\n",
    "\n",
    "cr = Circuit(starcircuit_4)\n",
    "sc4_hamiltonian = cr.classical_hamiltonian\n",
    "\n",
    "H_n_sc4, T = canonical_transformation_quadratic_quantum_hamiltonian(sc4_hamiltonian)\n",
    "print(\"Matriz cambio de base T:\")\n",
    "print(T)\n",
    "print(\"Hamiltoniano canónico:\")\n",
    "print(H_n_sc4)"
   ]
  },
  {
   "cell_type": "code",
   "execution_count": 31,
   "metadata": {},
   "outputs": [
    {
     "name": "stdout",
     "output_type": "stream",
     "text": [
      "Matriz cambio de base T:\n",
      "[[-1.006 -0.144  0.     0.   ]\n",
      " [ 0.112  1.01   0.     0.   ]\n",
      " [ 0.     0.    -1.01   0.112]\n",
      " [ 0.     0.    -0.144  1.006]]\n",
      "Hamiltoniano canónico:\n",
      "[[ 5.774e-01 -1.178e-16 -1.270e-16  2.201e-18]\n",
      " [-2.044e-16  5.774e-01  4.409e-17  2.750e-17]\n",
      " [-1.270e-16  4.409e-17  5.774e-01 -5.057e-16]\n",
      " [ 2.201e-18  2.750e-17 -2.299e-16  5.774e-01]]\n"
     ]
    }
   ],
   "source": [
    "# NO-SYMMETRIC STAR CIRCUIT\n",
    "np.set_printoptions(linewidth=150, threshold=np.inf)\n",
    "\n",
    "\n",
    "cr = Circuit(starcircuit_nonsymmetric)\n",
    "scns_hamiltonian = cr.classical_hamiltonian\n",
    "\n",
    "H_n_scns, T = canonical_transformation_quadratic_quantum_hamiltonian(scns_hamiltonian)\n",
    "print(\"Matriz cambio de base T:\")\n",
    "print(T)\n",
    "print(\"Hamiltoniano canónico:\")\n",
    "print(H_n_scns)"
   ]
  },
  {
   "cell_type": "code",
   "execution_count": 32,
   "metadata": {},
   "outputs": [
    {
     "name": "stdout",
     "output_type": "stream",
     "text": [
      "[3 0]\n"
     ]
    },
    {
     "data": {
      "text/plain": [
       "1"
      ]
     },
     "execution_count": 32,
     "metadata": {},
     "output_type": "execute_result"
    }
   ],
   "source": [
    "v = np.array([[1,2],\n",
    "              [0,0]])\n",
    "\n",
    "print(np.sum(v,axis=1))\n",
    "np.linalg.matrix_rank(v)\n",
    "\n"
   ]
  },
  {
   "cell_type": "code",
   "execution_count": 33,
   "metadata": {},
   "outputs": [
    {
     "name": "stdout",
     "output_type": "stream",
     "text": [
      "[[ 5.774e-01 -3.767e-15 -1.303e-16 -1.523e-17]\n",
      " [-3.784e-15  5.774e-01  2.664e-17  3.069e-17]\n",
      " [-1.303e-16  2.664e-17  5.774e-01  1.673e-15]\n",
      " [-1.523e-17  3.069e-17  1.655e-15  5.774e-01]]\n",
      "[[ 9.840e-01  2.541e-01  0.000e+00  0.000e+00]\n",
      " [ 0.000e+00 -1.016e+00  0.000e+00  0.000e+00]\n",
      " [ 0.000e+00  0.000e+00  1.016e+00  3.851e-15]\n",
      " [ 0.000e+00 -0.000e+00  2.541e-01 -9.840e-01]]\n"
     ]
    }
   ],
   "source": [
    "hamiltonian = np.array([[ 5.963e-01,  1.491e-01, -1.342e-16,  1.573e-17],\n",
    "                                [ 1.491e-01,  5.963e-01, -6.702e-17,  3.462e-17],\n",
    "                                [-1.342e-16, -6.702e-17,  5.963e-01, -1.491e-01],\n",
    "                                [ 1.573e-17,  3.462e-17, -1.491e-01,  5.963e-01]])\n",
    "        \n",
    "\n",
    "canonical_hamiltonian, T = canonical_transformation_quadratic_quantum_hamiltonian(hamiltonian)\n",
    "\n",
    "print(canonical_hamiltonian)\n",
    "print(T)"
   ]
  },
  {
   "cell_type": "code",
   "execution_count": 34,
   "metadata": {},
   "outputs": [
    {
     "name": "stdout",
     "output_type": "stream",
     "text": [
      "[[1. 0. 0.]\n",
      " [0. 1. 0.]\n",
      " [0. 0. 1.]]\n"
     ]
    }
   ],
   "source": [
    "print(np.eye(3))"
   ]
  },
  {
   "cell_type": "code",
   "execution_count": 35,
   "metadata": {},
   "outputs": [
    {
     "name": "stdout",
     "output_type": "stream",
     "text": [
      "[[0.   -0.707j 0.   +0.j    0.   +0.707j 0.   +0.j   ]\n",
      " [0.   +0.j    0.   -0.707j 0.   +0.j    0.   +0.707j]\n",
      " [0.707+0.j    0.   +0.j    0.707+0.j    0.   +0.j   ]\n",
      " [0.   +0.j    0.707+0.j    0.   +0.j    0.707+0.j   ]]\n"
     ]
    }
   ],
   "source": [
    "I = np.eye(2)\n",
    "G = (1 / np.sqrt(2)) * np.block([[-1j * I, 1j * I], [I, I]])\n",
    "print(G)"
   ]
  },
  {
   "cell_type": "code",
   "execution_count": 36,
   "metadata": {},
   "outputs": [
    {
     "name": "stdout",
     "output_type": "stream",
     "text": [
      "[[1 2]\n",
      " [3 4]]\n"
     ]
    }
   ],
   "source": [
    "x = np.array([1,2])\n",
    "y = np.array([3,4])\n",
    "\n",
    "z = np.array([x]+[y])\n",
    "print(z)"
   ]
  }
 ],
 "metadata": {
  "kernelspec": {
   "display_name": "Proyect1",
   "language": "python",
   "name": "python3"
  },
  "language_info": {
   "codemirror_mode": {
    "name": "ipython",
    "version": 3
   },
   "file_extension": ".py",
   "mimetype": "text/x-python",
   "name": "python",
   "nbconvert_exporter": "python",
   "pygments_lexer": "ipython3",
   "version": "3.12.3"
  }
 },
 "nbformat": 4,
 "nbformat_minor": 2
}
