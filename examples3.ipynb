{
 "cells": [
  {
   "cell_type": "code",
   "execution_count": 1,
   "metadata": {},
   "outputs": [],
   "source": [
    "from scircuit import *\n",
    "import numpy as np"
   ]
  },
  {
   "cell_type": "code",
   "execution_count": 2,
   "metadata": {},
   "outputs": [],
   "source": [
    "#Define the circuit\n",
    "C = Capacitor(value = 1, unit='GHz')\n",
    "Cg = Capacitor(value = 1, unit='GHz')\n",
    "L1 = Inductor(value = 1, unit = 'GHz')\n",
    "L2 = Inductor(value = 2, unit = 'GHz')\n",
    "L3 = Inductor(value = 3, unit = 'GHz')\n",
    "elements1 = [(0,1,C), (0,1,L1)] \n",
    "elements2 = [(0,2,C), (0,1,L1), (1,2,L2)] \n",
    "elements3 = [(0,2,C), (0,2,L1), (0,1,L2), (1,2,L3)]\n",
    "elements4 = [(0,1,C), (0,1,L1), (0,1,L2)] \n",
    "elements5 = [(0,3,C), (0,3,L1), (0,1,L2), (1,2,C), (2,3,L1)]\n",
    "starcircuit = [(0,1,C), (1,2,C), (2,0,C), (0,3,L1), (1,3,L1), (2,3,L1)]\n",
    "#coupled_oscillators = [(0,1,C), (0,1,L1), (1,2,Cg), (2,0,C), (2,0,L1)]\n",
    "coupled_oscillators = [(0,1,L1), (1,2,Cg), (2,0,L1), (0,1,C), (2,0,C)]\n",
    "\n",
    "cr = Circuit(elements5)\n",
    "\n",
    "\n",
    "\n",
    "\n"
   ]
  },
  {
   "cell_type": "code",
   "execution_count": 3,
   "metadata": {},
   "outputs": [
    {
     "name": "stdout",
     "output_type": "stream",
     "text": [
      "The matrix expression for omega_2B is:\n",
      "[[ 0.   0.   0.   0.   0.   0.5  0.   0.   0.   0. ]\n",
      " [ 0.   0.   0.   0.   0.   0.  -0.5  0.   0.   0. ]\n",
      " [ 0.   0.   0.   0.   0.   0.   0.   0.5  0.   0. ]\n",
      " [ 0.   0.   0.   0.   0.   0.   0.   0.  -0.5  0. ]\n",
      " [ 0.   0.   0.   0.   0.   0.   0.   0.   0.  -0.5]\n",
      " [-0.5  0.   0.   0.   0.   0.   0.   0.   0.   0. ]\n",
      " [ 0.   0.5  0.   0.   0.   0.   0.   0.   0.   0. ]\n",
      " [ 0.   0.  -0.5  0.   0.   0.   0.   0.   0.   0. ]\n",
      " [ 0.   0.   0.   0.5  0.   0.   0.   0.   0.   0. ]\n",
      " [ 0.   0.   0.   0.   0.5  0.   0.   0.   0.   0. ]]\n",
      "The matrix expression for omega is:\n",
      "[[ 0.  0.  1.  0.]\n",
      " [ 0.  0.  0.  1.]\n",
      " [-1. -0.  0.  0.]\n",
      " [-0. -1.  0.  0.]]\n",
      "The matrix variable change for omega is:\n",
      "[[ 4.13304238e-01 -1.08204454e+00 -6.53062818e-17  3.10420274e-17\n",
      "   0.00000000e+00]\n",
      " [ 6.68740305e-01  6.68740305e-01  0.00000000e+00 -6.17602229e-17\n",
      "   0.00000000e+00]\n",
      " [-1.76595832e-16  6.17602229e-17 -6.68740305e-01  6.68740305e-01\n",
      "   0.00000000e+00]\n",
      " [ 0.00000000e+00 -0.00000000e+00  0.00000000e+00  0.00000000e+00\n",
      "   1.00000000e+00]\n",
      " [ 9.61645406e-17 -0.00000000e+00  4.13304238e-01  1.08204454e+00\n",
      "   0.00000000e+00]]\n",
      "The determinant of matrix omega is:\n",
      "1.0\n"
     ]
    }
   ],
   "source": [
    "# Calculate omega_2B \n",
    "E_2B = cr.omega_2B\n",
    "print(f\"The matrix expression for omega_2B is:\\n{E_2B}\")\n",
    "\n",
    "# Calculate omega\n",
    "E = cr.omega_symplectic\n",
    "print(f\"The matrix expression for omega is:\\n{cr.omega_symplectic}\")\n",
    "print(f\"The matrix variable change for omega is:\\n{cr.symplectic_basis_change}\")\n",
    "print(f\"The determinant of matrix omega is:\\n{np.linalg.det(E)}\")"
   ]
  },
  {
   "cell_type": "code",
   "execution_count": 4,
   "metadata": {},
   "outputs": [
    {
     "name": "stdout",
     "output_type": "stream",
     "text": [
      "The matrix expression for the H before the variable change is:\n",
      "[[1. 0. 0. 0. 0. 0. 0. 0. 0. 0.]\n",
      " [0. 0. 0. 0. 0. 0. 0. 0. 0. 0.]\n",
      " [0. 0. 1. 0. 0. 0. 0. 0. 0. 0.]\n",
      " [0. 0. 0. 0. 0. 0. 0. 0. 0. 0.]\n",
      " [0. 0. 0. 0. 0. 0. 0. 0. 0. 0.]\n",
      " [0. 0. 0. 0. 0. 0. 0. 0. 0. 0.]\n",
      " [0. 0. 0. 0. 0. 0. 2. 0. 0. 0.]\n",
      " [0. 0. 0. 0. 0. 0. 0. 0. 0. 0.]\n",
      " [0. 0. 0. 0. 0. 0. 0. 0. 1. 0.]\n",
      " [0. 0. 0. 0. 0. 0. 0. 0. 0. 1.]]\n",
      "The matrix expression for the H in the same basis as E_canonical is:\n",
      "[[ 1.618e+00  6.662e-17  3.426e-16 -7.990e-17  2.728e-16]\n",
      " [ 9.182e-17  6.180e-01 -8.114e-17 -1.283e-17 -6.176e-17]\n",
      " [ 3.426e-16 -8.114e-17  1.618e+00  4.280e-16  1.082e+00]\n",
      " [-7.990e-17 -1.283e-17  2.857e-16  6.180e-01  4.133e-01]\n",
      " [ 2.728e-16 -6.176e-17  1.082e+00  4.133e-01  3.000e+00]]\n",
      "The final matrix expression for the H is:\n",
      "[[ 1.618e+00  6.662e-17  2.442e-16 -1.175e-16]\n",
      " [ 9.182e-17  6.180e-01 -5.886e-17 -4.321e-18]\n",
      " [ 2.442e-16 -5.886e-17  1.228e+00 -1.491e-01]\n",
      " [-1.175e-16 -4.321e-18 -1.491e-01  5.611e-01]]\n"
     ]
    }
   ],
   "source": [
    "np.set_printoptions(precision=3)\n",
    "\n",
    "# Calculate the Hamiltonian matrix before the variable change\n",
    "Total_energy_2B = cr.Total_energy_2B\n",
    "print(f\"The matrix expression for the H before the variable change is:\\n{Total_energy_2B}\")\n",
    "\n",
    "# Calculate the Hamiltonian matrix in the same basis as E_canonical\n",
    "Total_energy_symplectic_basis = cr.Total_energy_symplectic_basis\n",
    "print(f\"The matrix expression for the H in the same basis as E_canonical is:\\n{Total_energy_symplectic_basis}\")\n",
    "\n",
    "# Calculate the final expression for the Hamiltonian matrix, hamiltonian_xi\n",
    "hamiltonian = cr.hamiltonian\n",
    "\n",
    "print(f\"The final matrix expression for the H is:\\n{hamiltonian}\")\n",
    "\n"
   ]
  },
  {
   "cell_type": "code",
   "execution_count": 5,
   "metadata": {},
   "outputs": [
    {
     "name": "stdout",
     "output_type": "stream",
     "text": [
      "The initial Hmailtonian:\n",
      "[[ 1.618e+00  6.662e-17  2.442e-16 -1.175e-16]\n",
      " [ 9.182e-17  6.180e-01 -5.886e-17 -4.321e-18]\n",
      " [ 2.442e-16 -5.886e-17  1.228e+00 -1.491e-01]\n",
      " [-1.175e-16 -4.321e-18 -1.491e-01  5.611e-01]]\n",
      "The normal Hmailtonian:\n",
      "[[ 1.414e+00  3.037e-17  7.061e-18 -2.472e-17]\n",
      " [-1.206e-16  5.774e-01 -1.886e-18 -6.811e-18]\n",
      " [ 7.061e-18 -1.886e-18  1.414e+00 -6.149e-17]\n",
      " [-2.472e-17 -6.811e-18 -4.010e-17  5.774e-01]]\n",
      "The normal form transfromation matrix T:\n",
      "[[-1.623e-16  5.426e-17 -9.311e-01 -5.365e-02]\n",
      " [ 2.366e-16  3.488e-17  1.358e-01 -9.626e-01]\n",
      " [ 1.065e+00  1.503e-01  0.000e+00  4.267e-17]\n",
      " [-5.937e-02  1.030e+00  3.610e-19  0.000e+00]]\n",
      "The eigenvalues of K\n",
      "[-3.436e-18-1.414j -3.436e-18+1.414j  3.422e-18-0.577j  3.422e-18+0.577j]\n",
      "The product T.T @ J @ T, that must be J:\n",
      "[[ 6.488e-33  1.637e-16  1.000e+00 -8.715e-18]\n",
      " [-1.637e-16 -4.452e-34 -7.159e-17  1.000e+00]\n",
      " [-1.000e+00  7.159e-17  1.267e-36 -3.938e-17]\n",
      " [ 8.715e-18 -1.000e+00  3.938e-17 -6.874e-35]]\n"
     ]
    }
   ],
   "source": [
    "from scircuit.algebra import *\n",
    "a = np.linalg.matrix_rank(hamiltonian)\n",
    "canonical_transformation_quadratic_hamiltonian(hamiltonian)\n"
   ]
  },
  {
   "cell_type": "code",
   "execution_count": 6,
   "metadata": {},
   "outputs": [
    {
     "name": "stdout",
     "output_type": "stream",
     "text": [
      "[ 1.053e-16+1.066j  1.053e-16-1.066j  5.266e-01+0.j    -5.266e-01+0.j   ]\n",
      "[[-7.024e-17+3.857e-01j -7.024e-17-3.857e-01j -7.805e-01+0.000e+00j\n",
      "   7.805e-01+0.000e+00j]\n",
      " [-2.854e-16+5.790e-01j -2.854e-16-5.790e-01j  4.502e-01+0.000e+00j\n",
      "  -4.502e-01+0.000e+00j]\n",
      " [ 3.589e-01+1.583e-17j  3.589e-01-1.583e-17j -3.610e-01+0.000e+00j\n",
      "  -3.610e-01+0.000e+00j]\n",
      " [ 6.222e-01+0.000e+00j  6.222e-01-0.000e+00j  2.405e-01+0.000e+00j\n",
      "   2.405e-01+0.000e+00j]]\n",
      "The initial Hmailtonian:\n",
      "[[-0.451 -0.36   0.     0.   ]\n",
      " [-0.36  -0.906  0.     0.   ]\n",
      " [ 0.     0.     0.504 -0.952]\n",
      " [ 0.     0.    -0.952 -0.443]]\n",
      "The normal Hmailtonian:\n",
      "[[ 3.973e-17+0.j  3.036e-16+0.j  5.266e-01+0.j -6.148e-17+0.j]\n",
      " [ 3.105e-16+0.j -1.066e+00+0.j  2.620e-16+0.j -4.204e-16+0.j]\n",
      " [ 5.266e-01+0.j  2.414e-16+0.j  2.224e-16+0.j  1.279e-16+0.j]\n",
      " [-7.562e-17+0.j -4.204e-16+0.j  3.423e-17+0.j -1.066e+00+0.j]]\n",
      "The normal form transfromation matrix T:\n",
      "[[-8.837e-01+0.j -9.946e-17+0.j  8.837e-01+0.j -5.462e-01+0.j]\n",
      " [ 5.098e-01+0.j -4.041e-16+0.j -5.098e-01+0.j -8.198e-01+0.j]\n",
      " [-4.087e-01+0.j  5.083e-01+0.j -4.087e-01+0.j -2.242e-17+0.j]\n",
      " [ 2.723e-01+0.j  8.811e-01+0.j  2.723e-01+0.j  0.000e+00+0.j]]\n",
      "The eigenvalues of K\n",
      "[1.053e-16+1.066j 1.053e-16-1.066j]\n",
      "The product T.T @ J @ T, that must be J:\n",
      "[[-1.278e-17+0.j  1.010e-16+0.j  1.000e+00+0.j -1.526e-16+0.j]\n",
      " [-1.149e-16+0.j  3.063e-32+0.j -1.070e-17+0.j  1.000e+00+0.j]\n",
      " [-1.000e+00+0.j  5.234e-17+0.j -1.304e-17+0.j -2.023e-16+0.j]\n",
      " [ 1.447e-16+0.j -1.000e+00+0.j  2.102e-16+0.j  5.999e-34+0.j]]\n"
     ]
    }
   ],
   "source": [
    "size = 2\n",
    "random_block_1 = np.random.normal(size=(size, size))\n",
    "random_block_1 = 0.5 * (random_block_1 + random_block_1.T)\n",
    "\n",
    "random_block_2 = np.random.normal(size=(size, size))\n",
    "random_block_2 = 0.5 * (random_block_2 + random_block_2.T)\n",
    "\n",
    "random_hamiltonian = np.zeros((2*size, 2*size))\n",
    "random_hamiltonian[:size, :size] = random_block_1\n",
    "random_hamiltonian[size:, size:] = random_block_2\n",
    "\n",
    "J = np.zeros((2*size, 2*size))\n",
    "I = np.eye(size)\n",
    "    \n",
    "J[:size, size:] = I\n",
    "J[size:, :size] = -I\n",
    "\n",
    "K = J @ random_hamiltonian\n",
    "\n",
    "s, V = np.linalg.eig(K)\n",
    "print(s)\n",
    "print(V)\n",
    "\n",
    "canonical_transformation_quadratic_hamiltonian(random_hamiltonian)\n",
    "\n",
    "\n"
   ]
  },
  {
   "cell_type": "code",
   "execution_count": 7,
   "metadata": {},
   "outputs": [
    {
     "name": "stdout",
     "output_type": "stream",
     "text": [
      "The initial Hmailtonian:\n",
      "[[-0.451 -0.36   0.     0.   ]\n",
      " [-0.36  -0.906  0.     0.   ]\n",
      " [ 0.     0.     0.504 -0.952]\n",
      " [ 0.     0.    -0.952 -0.443]]\n",
      "The normal Hmailtonian:\n",
      "[[ 3.973e-17+0.j  3.036e-16+0.j  5.266e-01+0.j -6.148e-17+0.j]\n",
      " [ 3.105e-16+0.j -1.066e+00+0.j  2.620e-16+0.j -4.204e-16+0.j]\n",
      " [ 5.266e-01+0.j  2.414e-16+0.j  2.224e-16+0.j  1.279e-16+0.j]\n",
      " [-7.562e-17+0.j -4.204e-16+0.j  3.423e-17+0.j -1.066e+00+0.j]]\n",
      "The normal form transfromation matrix T:\n",
      "[[-8.837e-01+0.j -9.946e-17+0.j  8.837e-01+0.j -5.462e-01+0.j]\n",
      " [ 5.098e-01+0.j -4.041e-16+0.j -5.098e-01+0.j -8.198e-01+0.j]\n",
      " [-4.087e-01+0.j  5.083e-01+0.j -4.087e-01+0.j -2.242e-17+0.j]\n",
      " [ 2.723e-01+0.j  8.811e-01+0.j  2.723e-01+0.j  0.000e+00+0.j]]\n",
      "The eigenvalues of K\n",
      "[1.053e-16+1.066j 1.053e-16-1.066j]\n",
      "The product T.T @ J @ T, that must be J:\n",
      "[[-1.278e-17+0.j  1.010e-16+0.j  1.000e+00+0.j -1.526e-16+0.j]\n",
      " [-1.149e-16+0.j  3.063e-32+0.j -1.070e-17+0.j  1.000e+00+0.j]\n",
      " [-1.000e+00+0.j  5.234e-17+0.j -1.304e-17+0.j -2.023e-16+0.j]\n",
      " [ 1.447e-16+0.j -1.000e+00+0.j  2.102e-16+0.j  5.999e-34+0.j]]\n"
     ]
    }
   ],
   "source": [
    "canonical_transformation_quadratic_hamiltonian(random_hamiltonian)"
   ]
  }
 ],
 "metadata": {
  "kernelspec": {
   "display_name": "Proyect1",
   "language": "python",
   "name": "python3"
  },
  "language_info": {
   "codemirror_mode": {
    "name": "ipython",
    "version": 3
   },
   "file_extension": ".py",
   "mimetype": "text/x-python",
   "name": "python",
   "nbconvert_exporter": "python",
   "pygments_lexer": "ipython3",
   "version": "3.12.3"
  }
 },
 "nbformat": 4,
 "nbformat_minor": 2
}
