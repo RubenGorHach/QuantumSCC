{
 "cells": [
  {
   "cell_type": "code",
   "execution_count": 1,
   "metadata": {},
   "outputs": [],
   "source": [
    "from scircuit import *\n",
    "import numpy as np"
   ]
  },
  {
   "cell_type": "code",
   "execution_count": null,
   "metadata": {},
   "outputs": [],
   "source": [
    "#Define the circuit\n",
    "C = Capacitor(value = 1, unit='GHz')\n",
    "Cg = Capacitor(value = 1, unit='GHz')\n",
    "L1 = Inductor(value = 1, unit = 'GHz')\n",
    "L2 = Inductor(value = 2, unit = 'GHz')\n",
    "L3 = Inductor(value = 3, unit = 'GHz')\n",
    "elements1 = [(0,1,C), (0,1,L1)] \n",
    "elements2 = [(0,2,C), (0,1,L1), (1,2,L2)] \n",
    "elements3 = [(0,2,C), (0,2,L1), (0,1,L2), (1,2,L3)]\n",
    "elements4 = [(0,1,C), (0,1,L1), (0,1,L2)] \n",
    "elements5 = [(0,3,C), (0,3,L1), (0,1,L2), (1,2,C), (2,3,L1)]\n",
    "starcircuit = [(0,1,C), (1,2,C), (2,0,C), (0,3,L1), (1,3,L1), (2,3,L1)]\n",
    "#coupled_oscillators = [(0,1,C), (0,1,L1), (1,2,Cg), (2,0,C), (2,0,L1)]\n",
    "coupled_oscillators = [(0,1,L1), (1,2,C), (2,0,L1), (0,1,C), (2,0,C)]\n",
    "\n",
    "cr = Circuit(starcircuit)\n",
    "\n",
    "\n",
    "\n",
    "\n"
   ]
  },
  {
   "cell_type": "code",
   "execution_count": 3,
   "metadata": {},
   "outputs": [
    {
     "name": "stdout",
     "output_type": "stream",
     "text": [
      "The matrix expression for omega_2B is:\n",
      "[[ 0.   0.   0.   0.   0.   0.   0.5  0.   0.   0.   0.   0. ]\n",
      " [ 0.   0.   0.   0.   0.   0.   0.   0.5  0.   0.   0.   0. ]\n",
      " [ 0.   0.   0.   0.   0.   0.   0.   0.  -0.5  0.   0.   0. ]\n",
      " [ 0.   0.   0.   0.   0.   0.   0.   0.   0.   0.5  0.   0. ]\n",
      " [ 0.   0.   0.   0.   0.   0.   0.   0.   0.   0.  -0.5  0. ]\n",
      " [ 0.   0.   0.   0.   0.   0.   0.   0.   0.   0.   0.  -0.5]\n",
      " [-0.5  0.   0.   0.   0.   0.   0.   0.   0.   0.   0.   0. ]\n",
      " [ 0.  -0.5  0.   0.   0.   0.   0.   0.   0.   0.   0.   0. ]\n",
      " [ 0.   0.   0.5  0.   0.   0.   0.   0.   0.   0.   0.   0. ]\n",
      " [ 0.   0.   0.  -0.5  0.   0.   0.   0.   0.   0.   0.   0. ]\n",
      " [ 0.   0.   0.   0.   0.5  0.   0.   0.   0.   0.   0.   0. ]\n",
      " [ 0.   0.   0.   0.   0.   0.5  0.   0.   0.   0.   0.   0. ]]\n",
      "The matrix expression for omega is:\n",
      "[[ 0.  0.  1.  0.]\n",
      " [ 0.  0.  0.  1.]\n",
      " [-1. -0.  0.  0.]\n",
      " [-0. -1.  0.  0.]]\n",
      "The matrix variable change for omega is:\n",
      "[[-0.00000000e+00  0.00000000e+00  0.00000000e+00 -0.00000000e+00\n",
      "   1.00000000e+00  0.00000000e+00]\n",
      " [ 4.13304238e-01  1.08204454e+00 -1.15828925e-16  0.00000000e+00\n",
      "   0.00000000e+00  0.00000000e+00]\n",
      " [ 6.68740305e-01 -6.68740305e-01 -2.03531219e-16  9.95340900e-17\n",
      "   0.00000000e+00  0.00000000e+00]\n",
      " [-0.00000000e+00  2.46395228e-17  6.68740305e-01  6.68740305e-01\n",
      "   0.00000000e+00  0.00000000e+00]\n",
      " [ 8.49706659e-17 -8.22512052e-17  4.13304238e-01 -1.08204454e+00\n",
      "   0.00000000e+00  0.00000000e+00]\n",
      " [-0.00000000e+00  0.00000000e+00  0.00000000e+00 -0.00000000e+00\n",
      "   0.00000000e+00  1.00000000e+00]]\n",
      "The determinant of matrix omega is:\n",
      "1.0\n"
     ]
    }
   ],
   "source": [
    "# Calculate omega_2B \n",
    "E_2B = cr.omega_2B\n",
    "print(f\"The matrix expression for omega_2B is:\\n{E_2B}\")\n",
    "\n",
    "# Calculate omega\n",
    "E = cr.omega_symplectic\n",
    "print(f\"The matrix expression for omega is:\\n{cr.omega_symplectic}\")\n",
    "print(f\"The matrix variable change for omega is:\\n{cr.symplectic_basis_change}\")\n",
    "print(f\"The determinant of matrix omega is:\\n{np.linalg.det(E)}\")"
   ]
  },
  {
   "cell_type": "code",
   "execution_count": 4,
   "metadata": {},
   "outputs": [
    {
     "name": "stdout",
     "output_type": "stream",
     "text": [
      "The matrix expression for the H before the variable change is:\n",
      "[[1. 0. 0. 0. 0. 0. 0. 0. 0. 0. 0. 0.]\n",
      " [0. 1. 0. 0. 0. 0. 0. 0. 0. 0. 0. 0.]\n",
      " [0. 0. 0. 0. 0. 0. 0. 0. 0. 0. 0. 0.]\n",
      " [0. 0. 0. 1. 0. 0. 0. 0. 0. 0. 0. 0.]\n",
      " [0. 0. 0. 0. 0. 0. 0. 0. 0. 0. 0. 0.]\n",
      " [0. 0. 0. 0. 0. 0. 0. 0. 0. 0. 0. 0.]\n",
      " [0. 0. 0. 0. 0. 0. 0. 0. 0. 0. 0. 0.]\n",
      " [0. 0. 0. 0. 0. 0. 0. 0. 0. 0. 0. 0.]\n",
      " [0. 0. 0. 0. 0. 0. 0. 0. 1. 0. 0. 0.]\n",
      " [0. 0. 0. 0. 0. 0. 0. 0. 0. 0. 0. 0.]\n",
      " [0. 0. 0. 0. 0. 0. 0. 0. 0. 0. 1. 0.]\n",
      " [0. 0. 0. 0. 0. 0. 0. 0. 0. 0. 0. 1.]]\n",
      "The matrix expression for the H in the same basis as E_canonical is:\n",
      "[[ 1.618e+00  4.261e-16 -3.897e-16  1.391e-16  1.751e+00 -8.497e-17]\n",
      " [ 5.135e-16  6.180e-01 -4.174e-17  1.486e-17 -2.554e-01  3.297e-17]\n",
      " [-3.897e-16 -4.174e-17  1.618e+00  4.419e-16 -5.229e-16 -1.751e+00]\n",
      " [ 1.391e-16  1.486e-17  1.850e-16  6.180e-01  1.991e-16 -2.554e-01]\n",
      " [ 1.751e+00 -2.554e-01 -5.229e-16  1.991e-16  3.000e+00  0.000e+00]\n",
      " [-8.497e-17  3.297e-17 -1.751e+00 -2.554e-01  0.000e+00  3.000e+00]]\n",
      "The final matrix expression for the H is:\n",
      "[[ 5.963e-01  1.491e-01 -1.342e-16  1.573e-17]\n",
      " [ 1.491e-01  5.963e-01 -6.702e-17  3.462e-17]\n",
      " [-1.342e-16 -6.702e-17  5.963e-01 -1.491e-01]\n",
      " [ 1.573e-17  3.462e-17 -1.491e-01  5.963e-01]]\n"
     ]
    }
   ],
   "source": [
    "np.set_printoptions(precision=3)\n",
    "\n",
    "# Calculate the Hamiltonian matrix before the variable change\n",
    "Total_energy_2B = cr.Total_energy_2B\n",
    "print(f\"The matrix expression for the H before the variable change is:\\n{Total_energy_2B}\")\n",
    "\n",
    "# Calculate the Hamiltonian matrix in the same basis as E_canonical\n",
    "Total_energy_symplectic_basis = cr.Total_energy_symplectic_basis\n",
    "print(f\"The matrix expression for the H in the same basis as E_canonical is:\\n{Total_energy_symplectic_basis}\")\n",
    "\n",
    "# Calculate the final expression for the Hamiltonian matrix, hamiltonian_xi\n",
    "hamiltonian = cr.hamiltonian\n",
    "hamiltonian_prueba = hamiltonian.copy()\n",
    "\n",
    "print(f\"The final matrix expression for the H is:\\n{hamiltonian}\")\n",
    "\n"
   ]
  },
  {
   "cell_type": "code",
   "execution_count": 5,
   "metadata": {},
   "outputs": [
    {
     "name": "stdout",
     "output_type": "stream",
     "text": [
      "The initial Hmailtonian:\n",
      "[[ 5.963e-01  1.491e-01 -1.342e-16  1.573e-17]\n",
      " [ 1.491e-01  5.963e-01 -6.702e-17  3.462e-17]\n",
      " [-1.342e-16 -6.702e-17  5.963e-01 -1.491e-01]\n",
      " [ 1.573e-17  3.462e-17 -1.491e-01  5.963e-01]]\n",
      "The normal Hmailtonian:\n",
      "[[ 5.774e-01  2.408e-16 -7.630e-17  5.576e-17]\n",
      " [ 1.722e-16  5.774e-01  1.891e-16  1.900e-16]\n",
      " [-3.549e-17  3.408e-17  5.774e-01 -3.295e-16]\n",
      " [ 1.081e-16  1.958e-16 -9.182e-17  5.774e-01]]\n",
      "The normal form transfromation matrix T:\n",
      "[[-0.992 -0.212 -0.042 -0.04 ]\n",
      " [ 0.11   0.785  0.168 -0.613]\n",
      " [ 0.     0.2   -0.996 -0.016]\n",
      " [-0.162  0.644 -0.142  0.756]]\n",
      "The eigenvalues of K\n",
      "[1.236e-16+0.577j 1.320e-17+0.577j]\n",
      "The eigenvectors of K\n",
      "[[-0.702-0.03j  -0.15 -0.028j]\n",
      " [ 0.078+0.119j  0.555-0.434j]\n",
      " [ 0.   -0.704j  0.141-0.012j]\n",
      " [-0.115-0.101j  0.455+0.535j]]\n",
      "The product T.T @ J @ T, that must be J:\n",
      "[[ 8.566e-19  4.996e-16  1.000e+00  4.756e-16]\n",
      " [-5.004e-16 -6.258e-17  1.993e-16  1.000e+00]\n",
      " [-1.000e+00 -1.765e-16 -6.979e-19  9.026e-18]\n",
      " [-4.916e-16 -1.000e+00 -2.684e-17  1.493e-17]]\n",
      "[[ 0.  0.  1.  0.]\n",
      " [ 0.  0.  0.  1.]\n",
      " [-1. -0.  0.  0.]\n",
      " [-0. -1.  0.  0.]]\n"
     ]
    }
   ],
   "source": [
    "from scircuit.algebra import *\n",
    "\n",
    "canonical_transformation_quadratic_hamiltonian(hamiltonian)\n"
   ]
  }
 ],
 "metadata": {
  "kernelspec": {
   "display_name": "Proyect1",
   "language": "python",
   "name": "python3"
  },
  "language_info": {
   "codemirror_mode": {
    "name": "ipython",
    "version": 3
   },
   "file_extension": ".py",
   "mimetype": "text/x-python",
   "name": "python",
   "nbconvert_exporter": "python",
   "pygments_lexer": "ipython3",
   "version": "3.12.3"
  }
 },
 "nbformat": 4,
 "nbformat_minor": 2
}
