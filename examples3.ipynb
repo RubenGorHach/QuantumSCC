{
 "cells": [
  {
   "cell_type": "code",
   "execution_count": 42,
   "metadata": {},
   "outputs": [],
   "source": [
    "from scircuit import *\n",
    "import numpy as np"
   ]
  },
  {
   "cell_type": "code",
   "execution_count": 43,
   "metadata": {},
   "outputs": [],
   "source": [
    "#Define the circuit\n",
    "C = Capacitor(value = 1, unit='GHz')\n",
    "Cg = Capacitor(value = 1, unit='GHz')\n",
    "L1 = Inductor(value = 1, unit = 'GHz')\n",
    "L2 = Inductor(value = 1, unit = 'GHz')\n",
    "L3 = Inductor(value = 3, unit = 'GHz')\n",
    "elements1 = [(0,1,C), (0,1,L1)] \n",
    "elements2 = [(0,2,C), (0,1,L1), (1,2,L2)] \n",
    "elements3 = [(0,2,C), (0,2,L1), (0,1,L2), (1,2,L3)]\n",
    "elements4 = [(0,1,C), (0,1,L1), (0,1,L2)] \n",
    "starcircuit = [(0,1,C), (1,2,C), (2,0,C), (0,3,L1), (1,3,L1), (2,3,L1)]\n",
    "#coupled_oscillators = [(0,1,C), (0,1,L1), (1,2,Cg), (2,0,C), (2,0,L1)]\n",
    "coupled_oscillators = [(0,1,L1), (1,2,Cg), (2,0,L1), (0,1,C), (2,0,C)]\n",
    "\n",
    "cr = Circuit(coupled_oscillators)\n",
    "\n",
    "\n",
    "\n",
    "\n"
   ]
  },
  {
   "cell_type": "code",
   "execution_count": 44,
   "metadata": {},
   "outputs": [
    {
     "name": "stdout",
     "output_type": "stream",
     "text": [
      "The matrix expression for omega_2B is:\n",
      "[[ 0.   0.   0.   0.   0.  -0.5  0.   0.   0.   0. ]\n",
      " [ 0.   0.   0.   0.   0.   0.   0.5  0.   0.   0. ]\n",
      " [ 0.   0.   0.   0.   0.   0.   0.  -0.5  0.   0. ]\n",
      " [ 0.   0.   0.   0.   0.   0.   0.   0.   0.5  0. ]\n",
      " [ 0.   0.   0.   0.   0.   0.   0.   0.   0.   0.5]\n",
      " [ 0.5  0.   0.   0.   0.   0.   0.   0.   0.   0. ]\n",
      " [ 0.  -0.5  0.   0.   0.   0.   0.   0.   0.   0. ]\n",
      " [ 0.   0.   0.5  0.   0.   0.   0.   0.   0.   0. ]\n",
      " [ 0.   0.   0.  -0.5  0.   0.   0.   0.   0.   0. ]\n",
      " [ 0.   0.   0.   0.  -0.5  0.   0.   0.   0.   0. ]]\n",
      "The matrix expression for omega is:\n",
      "[[ 0.  0.  1.  0.  0.]\n",
      " [ 0.  0.  0.  1.  0.]\n",
      " [-1. -0.  0.  0.  0.]\n",
      " [-0. -1.  0.  0.  0.]\n",
      " [ 0.  0.  0.  0.  0.]]\n",
      "The matrix variable change for omega is:\n",
      "[[ 1.000e+00 -0.000e+00  0.000e+00  0.000e+00  0.000e+00]\n",
      " [ 0.000e+00 -5.946e-01  0.000e+00 -8.395e-17  7.071e-01]\n",
      " [ 0.000e+00  5.946e-01 -0.000e+00 -2.053e-16  7.071e-01]\n",
      " [ 0.000e+00 -0.000e+00 -0.000e+00 -8.409e-01 -1.590e-16]\n",
      " [ 0.000e+00 -0.000e+00  1.000e+00  0.000e+00  0.000e+00]]\n",
      "The determinant of matrix omega is:\n",
      "0.0\n"
     ]
    }
   ],
   "source": [
    "# Calculate omega_2B \n",
    "E_2B = cr.E_2B\n",
    "print(f\"The matrix expression for omega_2B is:\\n{E_2B}\")\n",
    "\n",
    "# Calculate omega\n",
    "E = cr.E_symplectic\n",
    "print(f\"The matrix expression for omega is:\\n{cr.E_symplectic}\")\n",
    "print(f\"The matrix variable change for omega is:\\n{cr.symplectic_basis_change}\")\n",
    "print(f\"The determinant of matrix omega is:\\n{np.linalg.det(E)}\")"
   ]
  },
  {
   "cell_type": "code",
   "execution_count": 45,
   "metadata": {},
   "outputs": [
    {
     "name": "stdout",
     "output_type": "stream",
     "text": [
      "The matrix expression for the H before the variable change is:\n",
      "[[0. 0. 0. 0. 0. 0. 0. 0. 0. 0.]\n",
      " [0. 1. 0. 0. 0. 0. 0. 0. 0. 0.]\n",
      " [0. 0. 0. 0. 0. 0. 0. 0. 0. 0.]\n",
      " [0. 0. 0. 1. 0. 0. 0. 0. 0. 0.]\n",
      " [0. 0. 0. 0. 1. 0. 0. 0. 0. 0.]\n",
      " [0. 0. 0. 0. 0. 1. 0. 0. 0. 0.]\n",
      " [0. 0. 0. 0. 0. 0. 0. 0. 0. 0.]\n",
      " [0. 0. 0. 0. 0. 0. 0. 1. 0. 0.]\n",
      " [0. 0. 0. 0. 0. 0. 0. 0. 0. 0.]\n",
      " [0. 0. 0. 0. 0. 0. 0. 0. 0. 0.]]\n",
      "The matrix expression for the H in the same basis as E_canonical is:\n",
      "[[ 1.000e+00  5.946e-01  0.000e+00 -2.053e-16  7.071e-01]\n",
      " [ 5.946e-01  1.061e+00  0.000e+00 -1.943e-16  4.204e-01]\n",
      " [ 0.000e+00  0.000e+00  1.000e+00 -8.409e-01 -1.590e-16]\n",
      " [-2.053e-16 -1.943e-16 -8.409e-01  1.414e+00 -8.233e-17]\n",
      " [ 7.071e-01  4.204e-01 -1.590e-16 -8.233e-17  1.500e+00]]\n",
      "The final matrix expression for the H is:\n",
      "[[ 6.667e-01  3.964e-01  7.496e-17 -1.665e-16]\n",
      " [ 3.964e-01  9.428e-01  4.457e-17 -1.712e-16]\n",
      " [ 7.496e-17  4.457e-17  1.000e+00 -8.409e-01]\n",
      " [-1.665e-16 -1.712e-16 -8.409e-01  1.414e+00]]\n"
     ]
    }
   ],
   "source": [
    "np.set_printoptions(precision=3)\n",
    "\n",
    "# Calculate the Hamiltonian matrix before the variable change\n",
    "Total_energy_2B = cr.Total_energy_2B\n",
    "print(f\"The matrix expression for the H before the variable change is:\\n{Total_energy_2B}\")\n",
    "\n",
    "# Calculate the Hamiltonian matrix in the same basis as E_canonical\n",
    "Total_energy_symplectic_basis = cr.Total_energy_symplectic_basis\n",
    "print(f\"The matrix expression for the H in the same basis as E_canonical is:\\n{Total_energy_symplectic_basis}\")\n",
    "\n",
    "# Calculate the final expression for the Hamiltonian matrix, hamiltonian_xi\n",
    "hamiltonian = cr.hamiltonian\n",
    "\n",
    "print(f\"The final matrix expression for the H is:\\n{hamiltonian}\")\n",
    "\n"
   ]
  }
 ],
 "metadata": {
  "kernelspec": {
   "display_name": "Proyect1",
   "language": "python",
   "name": "python3"
  },
  "language_info": {
   "codemirror_mode": {
    "name": "ipython",
    "version": 3
   },
   "file_extension": ".py",
   "mimetype": "text/x-python",
   "name": "python",
   "nbconvert_exporter": "python",
   "pygments_lexer": "ipython3",
   "version": "3.12.3"
  }
 },
 "nbformat": 4,
 "nbformat_minor": 2
}
