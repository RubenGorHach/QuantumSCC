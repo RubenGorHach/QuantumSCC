{
 "cells": [
  {
   "cell_type": "code",
   "execution_count": 1,
   "metadata": {},
   "outputs": [],
   "source": [
    "from scircuit import *\n",
    "import numpy as np"
   ]
  },
  {
   "cell_type": "code",
   "execution_count": 2,
   "metadata": {},
   "outputs": [],
   "source": [
    "#Define the circuit\n",
    "C = Capacitor(value = 1, unit='GHz')\n",
    "Cg = Capacitor(value = 1, unit='GHz')\n",
    "L1 = Inductor(value = 1, unit = 'GHz')\n",
    "L2 = Inductor(value = 2, unit = 'GHz')\n",
    "L3 = Inductor(value = 3, unit = 'GHz')\n",
    "elements1 = [(0,1,C), (0,1,L1)] \n",
    "elements2 = [(0,2,C), (0,1,L1), (1,2,L2)] \n",
    "elements3 = [(0,2,C), (0,2,L1), (0,1,L2), (1,2,L3)]\n",
    "elements4 = [(0,1,C), (0,1,L1), (0,1,L2)] \n",
    "elements5 = [(0,3,C), (0,3,L1), (0,1,L2), (1,2,C), (2,3,L1)]\n",
    "starcircuit = [(0,1,C), (1,2,C), (2,0,C), (0,3,L1), (1,3,L1), (2,3,L1)]\n",
    "#coupled_oscillators = [(0,1,C), (0,1,L1), (1,2,Cg), (2,0,C), (2,0,L1)]\n",
    "coupled_oscillators = [(0,1,L1), (1,2,C), (2,0,L1), (0,1,C), (2,0,C)]\n",
    "\n",
    "cr = Circuit(coupled_oscillators)\n",
    "\n",
    "\n",
    "\n",
    "\n"
   ]
  },
  {
   "cell_type": "code",
   "execution_count": 3,
   "metadata": {},
   "outputs": [
    {
     "name": "stdout",
     "output_type": "stream",
     "text": [
      "The matrix expression for omega_2B is:\n",
      "[[ 0.   0.   0.   0.   0.  -0.5  0.   0.   0.   0. ]\n",
      " [ 0.   0.   0.   0.   0.   0.   0.5  0.   0.   0. ]\n",
      " [ 0.   0.   0.   0.   0.   0.   0.  -0.5  0.   0. ]\n",
      " [ 0.   0.   0.   0.   0.   0.   0.   0.   0.5  0. ]\n",
      " [ 0.   0.   0.   0.   0.   0.   0.   0.   0.   0.5]\n",
      " [ 0.5  0.   0.   0.   0.   0.   0.   0.   0.   0. ]\n",
      " [ 0.  -0.5  0.   0.   0.   0.   0.   0.   0.   0. ]\n",
      " [ 0.   0.   0.5  0.   0.   0.   0.   0.   0.   0. ]\n",
      " [ 0.   0.   0.  -0.5  0.   0.   0.   0.   0.   0. ]\n",
      " [ 0.   0.   0.   0.  -0.5  0.   0.   0.   0.   0. ]]\n",
      "The matrix expression for omega is:\n",
      "[[ 0.  0.  1.  0.]\n",
      " [ 0.  0.  0.  1.]\n",
      " [-1. -0.  0.  0.]\n",
      " [-0. -1.  0.  0.]]\n",
      "The matrix variable change for omega is:\n",
      "[[ 1.00000000e+00 -0.00000000e+00  0.00000000e+00  0.00000000e+00\n",
      "   0.00000000e+00]\n",
      " [ 0.00000000e+00 -5.94603558e-01  0.00000000e+00 -8.39456067e-17\n",
      "   7.07106781e-01]\n",
      " [ 0.00000000e+00  5.94603558e-01 -0.00000000e+00 -2.05343847e-16\n",
      "   7.07106781e-01]\n",
      " [ 0.00000000e+00 -0.00000000e+00 -0.00000000e+00 -8.40896415e-01\n",
      "  -1.59013129e-16]\n",
      " [ 0.00000000e+00 -0.00000000e+00  1.00000000e+00  0.00000000e+00\n",
      "   0.00000000e+00]]\n",
      "The determinant of matrix omega is:\n",
      "1.0\n"
     ]
    }
   ],
   "source": [
    "# Calculate omega_2B \n",
    "E_2B = cr.omega_2B\n",
    "print(f\"The matrix expression for omega_2B is:\\n{E_2B}\")\n",
    "\n",
    "# Calculate omega\n",
    "E = cr.omega_symplectic\n",
    "print(f\"The matrix expression for omega is:\\n{cr.omega_symplectic}\")\n",
    "print(f\"The matrix variable change for omega is:\\n{cr.symplectic_basis_change}\")\n",
    "print(f\"The determinant of matrix omega is:\\n{np.linalg.det(E)}\")"
   ]
  },
  {
   "cell_type": "code",
   "execution_count": 4,
   "metadata": {},
   "outputs": [
    {
     "name": "stdout",
     "output_type": "stream",
     "text": [
      "The matrix expression for the H before the variable change is:\n",
      "[[0. 0. 0. 0. 0. 0. 0. 0. 0. 0.]\n",
      " [0. 1. 0. 0. 0. 0. 0. 0. 0. 0.]\n",
      " [0. 0. 0. 0. 0. 0. 0. 0. 0. 0.]\n",
      " [0. 0. 0. 1. 0. 0. 0. 0. 0. 0.]\n",
      " [0. 0. 0. 0. 1. 0. 0. 0. 0. 0.]\n",
      " [0. 0. 0. 0. 0. 1. 0. 0. 0. 0.]\n",
      " [0. 0. 0. 0. 0. 0. 0. 0. 0. 0.]\n",
      " [0. 0. 0. 0. 0. 0. 0. 1. 0. 0.]\n",
      " [0. 0. 0. 0. 0. 0. 0. 0. 0. 0.]\n",
      " [0. 0. 0. 0. 0. 0. 0. 0. 0. 0.]]\n",
      "The matrix expression for the H in the same basis as E_canonical is:\n",
      "[[ 1.000e+00  5.946e-01  0.000e+00 -2.053e-16  7.071e-01]\n",
      " [ 5.946e-01  1.061e+00  0.000e+00 -1.943e-16  4.204e-01]\n",
      " [ 0.000e+00  0.000e+00  1.000e+00 -8.409e-01 -1.590e-16]\n",
      " [-2.053e-16 -1.943e-16 -8.409e-01  1.414e+00 -8.233e-17]\n",
      " [ 7.071e-01  4.204e-01 -1.590e-16 -8.233e-17  1.500e+00]]\n",
      "The final matrix expression for the H is:\n",
      "[[ 6.667e-01  3.964e-01  7.496e-17 -1.665e-16]\n",
      " [ 3.964e-01  9.428e-01  4.457e-17 -1.712e-16]\n",
      " [ 7.496e-17  4.457e-17  1.000e+00 -8.409e-01]\n",
      " [-1.665e-16 -1.712e-16 -8.409e-01  1.414e+00]]\n"
     ]
    }
   ],
   "source": [
    "np.set_printoptions(precision=3)\n",
    "\n",
    "# Calculate the Hamiltonian matrix before the variable change\n",
    "Total_energy_2B = cr.Total_energy_2B\n",
    "print(f\"The matrix expression for the H before the variable change is:\\n{Total_energy_2B}\")\n",
    "\n",
    "# Calculate the Hamiltonian matrix in the same basis as E_canonical\n",
    "Total_energy_symplectic_basis = cr.Total_energy_symplectic_basis\n",
    "print(f\"The matrix expression for the H in the same basis as E_canonical is:\\n{Total_energy_symplectic_basis}\")\n",
    "\n",
    "# Calculate the final expression for the Hamiltonian matrix, hamiltonian_xi\n",
    "hamiltonian = cr.hamiltonian\n",
    "hamiltonian_prueba = hamiltonian.copy()\n",
    "\n",
    "print(f\"The final matrix expression for the H is:\\n{hamiltonian}\")\n",
    "\n"
   ]
  },
  {
   "cell_type": "code",
   "execution_count": 5,
   "metadata": {},
   "outputs": [
    {
     "name": "stdout",
     "output_type": "stream",
     "text": [
      "Canonical Hamiltonian\n",
      "[[ 5.774e-01 -1.477e-16  8.571e-18  1.611e-16]\n",
      " [-1.477e-16  1.000e+00 -2.661e-16  1.198e-17]\n",
      " [ 8.571e-18 -3.910e-16  5.774e-01 -3.275e-16]\n",
      " [ 1.961e-16  1.198e-17 -3.275e-16  1.000e+00]]\n",
      "Basis change matrix, T\n",
      "[[-9.306e-01  1.900e-16 -1.056e-17 -7.071e-01]\n",
      " [ 8.273e-16  0.000e+00 -7.070e-17  1.189e+00]\n",
      " [ 0.000e+00 -6.375e-16 -1.075e+00  6.010e-16]\n",
      " [-8.447e-17 -8.409e-01 -6.389e-01  4.080e-16]]\n"
     ]
    }
   ],
   "source": [
    "from scircuit.algebra import *\n",
    "\n",
    "H_n, T = canonical_transformation_quadratic_hamiltonian(hamiltonian)\n",
    "\n",
    "print(\"Canonical Hamiltonian\")\n",
    "print(H_n)\n",
    "\n",
    "print(\"Basis change matrix, T\")\n",
    "print(T)\n"
   ]
  },
  {
   "cell_type": "code",
   "execution_count": 6,
   "metadata": {},
   "outputs": [
    {
     "name": "stdout",
     "output_type": "stream",
     "text": [
      "Canonical Hamiltonian\n",
      "[[ 5.774e-01 -4.609e-17 -6.179e-18 -4.333e-16]\n",
      " [-4.609e-17  1.000e+00  2.239e-16 -1.765e-16]\n",
      " [-6.179e-18  2.750e-16  5.774e-01 -1.956e-16]\n",
      " [-2.920e-16 -1.765e-16 -1.956e-16  1.000e+00]]\n",
      "Basis change matrix, T\n",
      "[[ 0.000e+00 -4.028e-16 -1.075e+00 -7.002e-17]\n",
      " [ 6.845e-17 -8.409e-01 -6.389e-01  1.067e-16]\n",
      " [ 9.306e-01  5.691e-17 -1.749e-16  7.071e-01]\n",
      " [-2.617e-16  0.000e+00  2.773e-16 -1.189e+00]]\n"
     ]
    }
   ],
   "source": [
    "hamiltonian2 = np.block([[hamiltonian[2:,2:], np.zeros((2,2))],[np.zeros((2,2)), hamiltonian[:2, :2]]])\n",
    "H_n, T = canonical_transformation_quadratic_hamiltonian(hamiltonian2)\n",
    "\n",
    "print(\"Canonical Hamiltonian\")\n",
    "print(H_n)\n",
    "\n",
    "print(\"Basis change matrix, T\")\n",
    "print(T)"
   ]
  }
 ],
 "metadata": {
  "kernelspec": {
   "display_name": "Proyect1",
   "language": "python",
   "name": "python3"
  },
  "language_info": {
   "codemirror_mode": {
    "name": "ipython",
    "version": 3
   },
   "file_extension": ".py",
   "mimetype": "text/x-python",
   "name": "python",
   "nbconvert_exporter": "python",
   "pygments_lexer": "ipython3",
   "version": "3.12.3"
  }
 },
 "nbformat": 4,
 "nbformat_minor": 2
}
