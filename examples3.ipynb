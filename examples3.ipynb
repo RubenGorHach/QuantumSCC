{
 "cells": [
  {
   "cell_type": "code",
   "execution_count": 17,
   "metadata": {},
   "outputs": [],
   "source": [
    "from scircuit import *\n",
    "import numpy as np"
   ]
  },
  {
   "cell_type": "code",
   "execution_count": 18,
   "metadata": {},
   "outputs": [],
   "source": [
    "#Define the circuit\n",
    "C = Capacitor(value = 0.5, unit='F')\n",
    "L1 = Inductor(value = 0.5, unit = 'H')\n",
    "L2 = Inductor(value = 0.5, unit = 'H')\n",
    "L3 = Inductor(value = 0.5, unit = 'H')\n",
    "elements1 = [(0,1,C), (0,1,L1)] \n",
    "elements2 = [(0,2,C), (0,1,L1), (1,2,L2)] \n",
    "elements3 = [(0,2,C), (0,2,L3), (0,1,L1), (1,2,L2)]\n",
    "elements4 = [(0,1,C), (0,1,L1), (0,1,L2)] \n",
    "starcircuit = [(0,1,C), (1,2,C), (2,0,C), (0,3,L1), (1,3,L1), (2,3,L1)]\n",
    "\n",
    "cr = Circuit(starcircuit)"
   ]
  },
  {
   "cell_type": "code",
   "execution_count": 19,
   "metadata": {},
   "outputs": [
    {
     "name": "stdout",
     "output_type": "stream",
     "text": [
      "The matrix expression for omega_2B is:\n",
      "[[ 0.   0.   0.   0.   0.   0.   0.5  0.   0.   0.   0.   0. ]\n",
      " [ 0.   0.   0.   0.   0.   0.   0.   0.5  0.   0.   0.   0. ]\n",
      " [ 0.   0.   0.   0.   0.   0.   0.   0.  -0.5  0.   0.   0. ]\n",
      " [ 0.   0.   0.   0.   0.   0.   0.   0.   0.   0.5  0.   0. ]\n",
      " [ 0.   0.   0.   0.   0.   0.   0.   0.   0.   0.  -0.5  0. ]\n",
      " [ 0.   0.   0.   0.   0.   0.   0.   0.   0.   0.   0.  -0.5]\n",
      " [-0.5  0.   0.   0.   0.   0.   0.   0.   0.   0.   0.   0. ]\n",
      " [ 0.  -0.5  0.   0.   0.   0.   0.   0.   0.   0.   0.   0. ]\n",
      " [ 0.   0.   0.5  0.   0.   0.   0.   0.   0.   0.   0.   0. ]\n",
      " [ 0.   0.   0.  -0.5  0.   0.   0.   0.   0.   0.   0.   0. ]\n",
      " [ 0.   0.   0.   0.   0.5  0.   0.   0.   0.   0.   0.   0. ]\n",
      " [ 0.   0.   0.   0.   0.   0.5  0.   0.   0.   0.   0.   0. ]]\n",
      "The matrix expression for omega is:\n",
      "[[ 0.  0.  1.  0.  0.  0.]\n",
      " [ 0.  0.  0.  1.  0.  0.]\n",
      " [-1. -0.  0.  0.  0.  0.]\n",
      " [-0. -1.  0.  0.  0.  0.]\n",
      " [ 0.  0.  0.  0.  0.  0.]\n",
      " [ 0.  0.  0.  0.  0.  0.]]\n",
      "The matrix variable change for omega is:\n",
      "[[ 0.000e+00 -1.158e-16 -2.035e-16  6.687e-01  4.133e-01  0.000e+00]\n",
      " [ 0.000e+00  1.082e+00 -6.687e-01  2.464e-17 -8.225e-17  0.000e+00]\n",
      " [ 0.000e+00 -4.133e-01 -6.687e-01  0.000e+00 -8.497e-17  0.000e+00]\n",
      " [-0.000e+00  0.000e+00  9.953e-17  6.687e-01 -1.082e+00 -0.000e+00]\n",
      " [ 1.000e+00  0.000e+00  0.000e+00  0.000e+00  0.000e+00  0.000e+00]\n",
      " [ 0.000e+00  0.000e+00  0.000e+00  0.000e+00  0.000e+00  1.000e+00]]\n",
      "The determinant of matrix omega is:\n",
      "0.0\n"
     ]
    }
   ],
   "source": [
    "# Calculate omega_2B \n",
    "omega_2B = cr.omega_2B\n",
    "print(f\"The matrix expression for omega_2B is:\\n{omega_2B}\")\n",
    "\n",
    "# Calculate omega\n",
    "omega = cr.omega_canonical\n",
    "print(f\"The matrix expression for omega is:\\n{cr.omega_canonical}\")\n",
    "print(f\"The matrix variable change for omega is:\\n{cr.canonical_basis_change}\")\n",
    "print(f\"The determinant of matrix omega is:\\n{np.linalg.det(omega)}\")"
   ]
  },
  {
   "cell_type": "code",
   "execution_count": 20,
   "metadata": {},
   "outputs": [
    {
     "name": "stdout",
     "output_type": "stream",
     "text": [
      "The matrix expression for the H before the variable change is:\n",
      "[[1. 0. 0. 0. 0. 0. 0. 0. 0. 0. 0. 0.]\n",
      " [0. 1. 0. 0. 0. 0. 0. 0. 0. 0. 0. 0.]\n",
      " [0. 0. 0. 0. 0. 0. 0. 0. 0. 0. 0. 0.]\n",
      " [0. 0. 0. 1. 0. 0. 0. 0. 0. 0. 0. 0.]\n",
      " [0. 0. 0. 0. 0. 0. 0. 0. 0. 0. 0. 0.]\n",
      " [0. 0. 0. 0. 0. 0. 0. 0. 0. 0. 0. 0.]\n",
      " [0. 0. 0. 0. 0. 0. 0. 0. 0. 0. 0. 0.]\n",
      " [0. 0. 0. 0. 0. 0. 0. 0. 0. 0. 0. 0.]\n",
      " [0. 0. 0. 0. 0. 0. 0. 0. 1. 0. 0. 0.]\n",
      " [0. 0. 0. 0. 0. 0. 0. 0. 0. 0. 0. 0.]\n",
      " [0. 0. 0. 0. 0. 0. 0. 0. 0. 0. 1. 0.]\n",
      " [0. 0. 0. 0. 0. 0. 0. 0. 0. 0. 0. 1.]]\n",
      "The matrix expression for the H after the variable change is:\n",
      "[[ 3.  1.  2.  0.  0.  0.]\n",
      " [ 1.  1.  1.  0.  0.  0.]\n",
      " [ 2.  1.  2.  0.  0.  0.]\n",
      " [ 0.  0.  0.  2.  1. -2.]\n",
      " [ 0.  0.  0.  1.  1. -1.]\n",
      " [ 0.  0.  0. -2. -1.  3.]]\n"
     ]
    }
   ],
   "source": [
    "np.set_printoptions(precision=3)\n",
    "\n",
    "# Calculate the Hamiltonian matrix before the variable change\n",
    "hamiltonian_2B = cr.hamiltonian_2B\n",
    "print(f\"The matrix expression for the H before the variable change is:\\n{hamiltonian_2B}\")\n",
    "\n",
    "# Calculate the Hamiltonian matrix after the variable change\n",
    "hamiltonian = cr.hamiltonian\n",
    "print(f\"The matrix expression for the H after the variable change is:\\n{hamiltonian}\")"
   ]
  }
 ],
 "metadata": {
  "kernelspec": {
   "display_name": "Proyect1",
   "language": "python",
   "name": "python3"
  },
  "language_info": {
   "codemirror_mode": {
    "name": "ipython",
    "version": 3
   },
   "file_extension": ".py",
   "mimetype": "text/x-python",
   "name": "python",
   "nbconvert_exporter": "python",
   "pygments_lexer": "ipython3",
   "version": "3.12.3"
  }
 },
 "nbformat": 4,
 "nbformat_minor": 2
}
