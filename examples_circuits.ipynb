{
 "cells": [
  {
   "cell_type": "code",
   "execution_count": 1,
   "metadata": {},
   "outputs": [],
   "source": [
    "from scircuit import *\n",
    "import numpy as np"
   ]
  },
  {
   "cell_type": "markdown",
   "metadata": {},
   "source": [
    "#### LC circuit"
   ]
  },
  {
   "cell_type": "code",
   "execution_count": 2,
   "metadata": {},
   "outputs": [
    {
     "name": "stdout",
     "output_type": "stream",
     "text": [
      "Hamiltonian:\n",
      "[[31.62276348  0.        ]\n",
      " [ 0.         31.62276348]]\n",
      "Basis change matrix, T\n",
      "[[ -0.07000232  -0.        ]\n",
      " [  0.         -14.28523999]]\n",
      "Hamiltoniano final:\n",
      "[[31.62276348+0.j  0.        +0.j]\n",
      " [ 0.        +0.j 31.62276348+0.j]]\n",
      "[[6.45319668e+03 0.00000000e+00 0.00000000e+00 0.00000000e+00]\n",
      " [0.00000000e+00 0.00000000e+00 0.00000000e+00 0.00000000e+00]\n",
      " [0.00000000e+00 0.00000000e+00 0.00000000e+00 0.00000000e+00]\n",
      " [0.00000000e+00 0.00000000e+00 0.00000000e+00 1.54961831e-01]]\n"
     ]
    }
   ],
   "source": [
    "# LC circuit\n",
    "np.set_printoptions(linewidth=150, threshold=np.inf)\n",
    "\n",
    "#C = Capacitor(value = 1, unit='GHz')\n",
    "#L = Inductor(value = 1, unit = 'GHz')\n",
    "C = Capacitor(value = 1, unit='pF')\n",
    "L = Inductor(value = 1, unit = 'nH')\n",
    "\n",
    "LC = [(0,1,L), (0,1,C)]\n",
    "\n",
    "cr = Circuit(LC)\n",
    "\n",
    "print(\"Hamiltonian:\")\n",
    "print(cr.canonical_hamiltonian)\n",
    "\n",
    "print(\"Basis change matrix, T\")\n",
    "print(cr.T)\n",
    "\n",
    "print(\"Hamiltoniano final:\")\n",
    "print(cr.quantum_hamiltonian)\n",
    "\n",
    "print(cr.Total_energy_2B)\n"
   ]
  },
  {
   "cell_type": "markdown",
   "metadata": {},
   "source": [
    "#### 2 Capacitors and 1 inductor, all in parallel"
   ]
  },
  {
   "cell_type": "code",
   "execution_count": 3,
   "metadata": {},
   "outputs": [
    {
     "name": "stdout",
     "output_type": "stream",
     "text": [
      "Hamiltonian:\n",
      "[[22.3606705+0.j  0.       +0.j]\n",
      " [ 0.       +0.j 22.3606705+0.j]]\n",
      "Basis change matrix, T\n",
      "[[ -0.0588647   -0.        ]\n",
      " [  0.         -16.98810903]]\n",
      "Hamiltoniano final:\n",
      "[[2.23606705e+01+0.j 1.77635684e-15+0.j]\n",
      " [1.77635684e-15+0.j 2.23606705e+01+0.j]]\n"
     ]
    }
   ],
   "source": [
    "# 2 C and 1 L all in parallel\n",
    "np.set_printoptions(linewidth=150, threshold=np.inf)\n",
    "\n",
    "#C = Capacitor(value = 1, unit='GHz')\n",
    "#L = Inductor(value = 1, unit = 'GHz')\n",
    "C = Capacitor(value = 1, unit='pF')\n",
    "L = Inductor(value = 1, unit = 'nH')\n",
    "\n",
    "check1 = [(0,1,C),(0,1,C),(0,1,L)]\n",
    "cr = Circuit(check1)\n",
    "\n",
    "print(\"Hamiltonian:\")\n",
    "print(cr.canonical_hamiltonian)\n",
    "\n",
    "print(\"Basis change matrix, T\")\n",
    "print(cr.T)\n",
    "\n",
    "print(\"Hamiltoniano final:\")\n",
    "print(cr.quantum_hamiltonian)\n"
   ]
  },
  {
   "cell_type": "markdown",
   "metadata": {},
   "source": [
    "#### 2 capacitors and 1 inductor all in series"
   ]
  },
  {
   "cell_type": "code",
   "execution_count": 4,
   "metadata": {},
   "outputs": [
    {
     "name": "stdout",
     "output_type": "stream",
     "text": [
      "Hamiltonian:\n",
      "[[ 4.47213410e+01+0.j -2.58798533e-15+0.j]\n",
      " [-2.58798533e-15+0.j  4.47213410e+01+0.j]]\n",
      "Basis change matrix, T\n",
      "[[-7.00023241e-02 -1.59022707e-16]\n",
      " [ 0.00000000e+00 -1.42852400e+01]]\n",
      "Hamiltoniano final:\n",
      "[[44.721341+2.32713967e-29j  0.      -2.58798533e-15j]\n",
      " [ 0.      +2.58798533e-15j 44.721341-2.32713967e-29j]]\n"
     ]
    }
   ],
   "source": [
    "# 2 C and 1 L all in series\n",
    "np.set_printoptions(linewidth=150, threshold=np.inf)\n",
    "\n",
    "#C = Capacitor(value = 1, unit='GHz')\n",
    "#L = Inductor(value = 1, unit = 'GHz')\n",
    "C = Capacitor(value = 1, unit='pF')\n",
    "L = Inductor(value = 1, unit = 'nH')\n",
    "\n",
    "check2 = [(0,1,C),(1,2,C),(2,0,L)]\n",
    "cr = Circuit(check2)\n",
    "\n",
    "print(\"Hamiltonian:\")\n",
    "print(cr.canonical_hamiltonian)\n",
    "\n",
    "print(\"Basis change matrix, T\")\n",
    "print(cr.T)\n",
    "\n",
    "print(\"Hamiltoniano final:\")\n",
    "print(cr.quantum_hamiltonian)\n"
   ]
  },
  {
   "cell_type": "markdown",
   "metadata": {},
   "source": [
    "#### Capacitor coupled oscillators"
   ]
  },
  {
   "cell_type": "code",
   "execution_count": 5,
   "metadata": {},
   "outputs": [
    {
     "name": "stdout",
     "output_type": "stream",
     "text": [
      "Hamiltonian:\n",
      "[[ 1.41421298e+01+0.j -2.75076118e-15+0.j  1.92192728e-15+0.j -1.49520178e-14+0.j]\n",
      " [-2.24111695e-15+0.j  3.16227635e+01+0.j  1.06800420e-14+0.j  1.28164789e-14+0.j]\n",
      " [ 1.92192728e-15+0.j  1.06800420e-14+0.j  1.41421298e+01+0.j -2.99342075e-15+0.j]\n",
      " [-1.49520178e-14+0.j  1.28164789e-14+0.j -5.59248287e-16+0.j  3.16227635e+01+0.j]]\n",
      "Basis change matrix, T\n",
      "[[-6.62041107e-02 -2.89676344e-17 -1.78154667e-15  6.44361448e-15]\n",
      " [ 3.93651997e-02 -5.88647034e-02  6.76631942e-15 -8.43222416e-16]\n",
      " [ 0.00000000e+00 -6.56062774e-13 -1.51048023e+01 -1.01011901e+01]\n",
      " [-7.31420920e-13  0.00000000e+00  4.32370034e-15 -1.69881090e+01]]\n",
      "Hamiltoniano final:\n",
      "[[ 1.41421298e+01+8.71691300e-29j -2.87209096e-15+1.28160299e-14j -6.21724894e-15+1.92192728e-15j  1.21329788e-16-2.13598792e-15j]\n",
      " [-1.40018262e-15-1.28160299e-14j  3.16227635e+01-1.80649147e-28j -8.40934332e-16-2.13598792e-15j  3.55271368e-15+1.28164789e-14j]\n",
      " [-6.21724894e-15-1.92192728e-15j  1.21329788e-16+2.13598792e-15j  1.41421298e+01-8.71691300e-29j -2.87209096e-15-1.28160299e-14j]\n",
      " [-8.40934332e-16+2.13598792e-15j  3.55271368e-15-1.28164789e-14j -1.40018262e-15+1.28160299e-14j  3.16227635e+01+1.80649147e-28j]]\n"
     ]
    }
   ],
   "source": [
    "# COUPLED OSCILLATORS\n",
    "np.set_printoptions(linewidth=150, threshold=np.inf)\n",
    "\n",
    "C1 = Capacitor(value = 1, unit='pF')\n",
    "C2 = Capacitor(value = 1, unit='pF')\n",
    "Cg = Capacitor(value = 2, unit='pF')\n",
    "L1 = Inductor(value = 1, unit = 'nH')\n",
    "L2 = Inductor(value = 1, unit = 'nH')\n",
    "\n",
    "coupled_oscillators = [(0,1,L1), (1,2,Cg), (2,0,L2), (0,1,C1),(2,0,C2)]\n",
    "\n",
    "cr = Circuit(coupled_oscillators)\n",
    "\n",
    "print(\"Hamiltonian:\")\n",
    "print(cr.canonical_hamiltonian)\n",
    "\n",
    "print(\"Basis change matrix, T\")\n",
    "print(cr.T)\n",
    "\n",
    "print(\"Hamiltoniano final:\")\n",
    "print(cr.quantum_hamiltonian)\n"
   ]
  },
  {
   "cell_type": "code",
   "execution_count": 6,
   "metadata": {},
   "outputs": [
    {
     "name": "stdout",
     "output_type": "stream",
     "text": [
      "[[-2.64837855e-32 -3.78291926e-16  1.00000000e+00 -1.83037051e-16]\n",
      " [ 3.78291926e-16 -1.57772181e-30  2.22044605e-16  1.00000000e+00]\n",
      " [-1.00000000e+00 -2.22044605e-16  0.00000000e+00 -3.79176961e-16]\n",
      " [ 1.83037051e-16 -1.00000000e+00  3.79176961e-16  0.00000000e+00]]\n"
     ]
    }
   ],
   "source": [
    "Tinv = np.linalg.inv(cr.T)\n",
    "J = cr.omega_symplectic\n",
    "conmut = np.zeros((len(Tinv), len(Tinv)))\n",
    "\n",
    "for i in range(len(Tinv)):\n",
    "    for j in range(len(Tinv)):\n",
    "        sum = 0\n",
    "        for k in range(len(Tinv)):\n",
    "            for l in range(len(Tinv)):\n",
    "                sum = sum + Tinv[i,k]*Tinv[j,l]*J[k,l]\n",
    "\n",
    "        conmut[i,j] = sum\n",
    "\n",
    "print(conmut)"
   ]
  },
  {
   "cell_type": "markdown",
   "metadata": {},
   "source": [
    "#### Star circuit"
   ]
  },
  {
   "cell_type": "code",
   "execution_count": 7,
   "metadata": {},
   "outputs": [
    {
     "name": "stdout",
     "output_type": "stream",
     "text": [
      "Matriz cambio de base T:\n",
      "[[-4.76463654e-02 -5.12320706e-02 -1.08130682e-02  7.01503104e-03]\n",
      " [-1.74583402e-02  2.53171144e-02  4.32522726e-02 -4.73764212e-02]\n",
      " [ 0.00000000e+00  1.01777863e+00 -1.09618596e+01 -9.46373975e+00]\n",
      " [-8.54613308e+00  9.61546029e+00 -6.19002464e+00  2.63642485e+00]]\n",
      "Hamiltoniano canónico:\n",
      "[[ 1.82574110e+01+0.j  4.25731747e-15+0.j  5.89238149e-15+0.j  4.01003850e-15+0.j]\n",
      " [ 4.86507298e-15+0.j  1.82574110e+01+0.j  2.51719442e-15+0.j  2.89006939e-16+0.j]\n",
      " [ 4.75095388e-15+0.j  3.06335471e-15+0.j  1.82574110e+01+0.j -5.76627843e-16+0.j]\n",
      " [ 2.86906707e-15+0.j  1.69183138e-15+0.j -2.24879365e-15+0.j  1.82574110e+01+0.j]]\n",
      "Hamiltoniano final:\n",
      "[[ 1.82574110e+01-5.70713807e-16j  1.84034481e-15-4.73341896e-16j  5.32907052e-15+5.32166769e-15j  2.41697266e-15+3.53669661e-15j]\n",
      " [ 1.30813966e-15+1.75936328e-16j  1.82574110e+01+7.01412219e-16j  3.55693332e-15+2.69313075e-15j -8.88178420e-15+9.90419158e-16j]\n",
      " [ 5.32907052e-15-5.32166769e-15j  2.41697266e-15-3.53669661e-15j  1.82574110e+01+5.70713807e-16j  1.84034481e-15+4.73341896e-16j]\n",
      " [ 3.55693332e-15-2.69313075e-15j -8.88178420e-15-9.90419158e-16j  1.30813966e-15-1.75936328e-16j  1.82574110e+01-7.01412219e-16j]]\n"
     ]
    }
   ],
   "source": [
    "#SYMMETRIC STAR CIRCUIT \n",
    "np.set_printoptions(linewidth=150, threshold=np.inf)\n",
    "\n",
    "#C = Capacitor(value = 1, unit='GHz')\n",
    "#L = Inductor(value = 1, unit = 'GHz')\n",
    "C = Capacitor(value = 1, unit='pF')\n",
    "L = Inductor(value = 1, unit = 'nH')\n",
    "\n",
    "symmetric_starcircuit = [(0,1,C), (1,2,C), (2,0,C), (0,3,L), (1,3,L), (2,3,L)]\n",
    "\n",
    "cr = Circuit(symmetric_starcircuit)\n",
    "sc_hamiltonian = cr.classical_hamiltonian\n",
    "\n",
    "print(\"Matriz cambio de base T:\")\n",
    "print(cr.T)\n",
    "print(\"Hamiltoniano canónico:\")\n",
    "print(cr.canonical_hamiltonian)\n",
    "\n",
    "print(\"Hamiltoniano final:\")\n",
    "print(cr.quantum_hamiltonian)\n",
    "\n"
   ]
  },
  {
   "cell_type": "code",
   "execution_count": 8,
   "metadata": {},
   "outputs": [
    {
     "name": "stdout",
     "output_type": "stream",
     "text": [
      "[[ 0.00000000e+00 -2.02615702e-15  1.00000000e+00 -2.22044605e-16]\n",
      " [ 2.05391260e-15  0.00000000e+00  5.55111512e-17  1.00000000e+00]\n",
      " [-1.00000000e+00 -6.93889390e-17  0.00000000e+00 -2.77555756e-16]\n",
      " [ 2.22044605e-16 -1.00000000e+00  2.77555756e-16  0.00000000e+00]]\n"
     ]
    }
   ],
   "source": [
    "Tinv = np.linalg.inv(cr.T)\n",
    "J = cr.omega_symplectic\n",
    "conmut = np.zeros((len(Tinv), len(Tinv)))\n",
    "\n",
    "for i in range(len(Tinv)):\n",
    "    for j in range(len(Tinv)):\n",
    "        sum = 0\n",
    "        for k in range(len(Tinv)):\n",
    "            for l in range(len(Tinv)):\n",
    "                sum = sum + Tinv[i,k]*Tinv[j,l]*J[k,l]\n",
    "\n",
    "        conmut[i,j] = sum\n",
    "\n",
    "print(conmut)"
   ]
  },
  {
   "cell_type": "markdown",
   "metadata": {},
   "source": [
    "#### Non-symmetric star circuit"
   ]
  },
  {
   "cell_type": "code",
   "execution_count": 9,
   "metadata": {},
   "outputs": [
    {
     "name": "stdout",
     "output_type": "stream",
     "text": [
      "Matriz cambio de base T:\n",
      "[[-2.02245399e-16 -1.00300763e+00  7.76164525e-02  3.15904573e-16]\n",
      " [ 0.00000000e+00  7.76164525e-02 -1.00300763e+00  4.39070621e-16]\n",
      " [ 7.76164525e-02  0.00000000e+00  7.47779483e-17 -1.00300763e+00]\n",
      " [ 1.00300763e+00 -3.50690813e-16 -1.01532678e-16 -7.76164525e-02]]\n",
      "Hamiltoniano canónico:\n",
      "[[ 1.18614066e+00+0.j -2.35383880e-16+0.j -2.10227861e-16+0.j -6.46882514e-16+0.j]\n",
      " [-2.35383880e-16+0.j  1.68614066e+00+0.j  4.21432912e-16+0.j -5.06286395e-16+0.j]\n",
      " [-2.10227861e-16+0.j  6.60242957e-16+0.j  1.18614066e+00+0.j -7.38887849e-16+0.j]\n",
      " [-6.89259229e-16+0.j -5.06286395e-16+0.j -7.38887849e-16+0.j  1.68614066e+00+0.j]]\n",
      "Hamiltoniano final:\n",
      "[[ 1.18614066e+00+0.00000000e+00j -4.87135865e-16+6.53562736e-16j -3.33066907e-16-2.10227861e-16j  2.51751984e-16+6.68022182e-18j]\n",
      " [-4.87135865e-16-5.55346071e-16j  1.68614066e+00+0.00000000e+00j  2.51751984e-16-1.33913158e-16j -7.77156117e-16-5.06286395e-16j]\n",
      " [-3.33066907e-16+2.10227861e-16j  2.51751984e-16-6.68022182e-18j  1.18614066e+00+0.00000000e+00j -4.87135865e-16-6.53562736e-16j]\n",
      " [ 2.51751984e-16+1.33913158e-16j -7.77156117e-16+5.06286395e-16j -4.87135865e-16+5.55346071e-16j  1.68614066e+00+0.00000000e+00j]]\n"
     ]
    }
   ],
   "source": [
    "#NON-SYMMETRIC STAR CIRCUIT \n",
    "np.set_printoptions(linewidth=150, threshold=np.inf)\n",
    "\n",
    "C1 = Capacitor(value = 1, unit='GHz')\n",
    "L1 = Inductor(value = 1, unit = 'GHz')\n",
    "C2 = Capacitor(value = 2, unit='GHz')\n",
    "L2 = Inductor(value = 2, unit = 'GHz')\n",
    "C3 = Capacitor(value = 1, unit='GHz')\n",
    "L3 = Inductor(value = 1, unit = 'GHz')\n",
    "\n",
    "\n",
    "nonsymmetric_starcircuit = [(0,1,C1), (1,2,C2), (2,0,C3), (0,3,L1), (1,3,L2), (2,3,L3)]\n",
    "\n",
    "cr = Circuit(nonsymmetric_starcircuit)\n",
    "sc_hamiltonian = cr.classical_hamiltonian\n",
    "\n",
    "print(\"Matriz cambio de base T:\")\n",
    "print(cr.T)\n",
    "print(\"Hamiltoniano canónico:\")\n",
    "print(cr.canonical_hamiltonian)\n",
    "\n",
    "print(\"Hamiltoniano final:\")\n",
    "print(cr.quantum_hamiltonian)\n",
    "\n",
    "\n"
   ]
  },
  {
   "cell_type": "code",
   "execution_count": 10,
   "metadata": {},
   "outputs": [
    {
     "name": "stdout",
     "output_type": "stream",
     "text": [
      "[[ 0.00000000e+00 -3.05311332e-16  1.00000000e+00  4.34629022e-16]\n",
      " [ 3.05311332e-16  0.00000000e+00  2.62056898e-16  1.00000000e+00]\n",
      " [-1.00000000e+00 -2.62056898e-16  0.00000000e+00 -3.19189120e-16]\n",
      " [-4.34629022e-16 -1.00000000e+00  3.19189120e-16 -7.70371978e-34]]\n"
     ]
    }
   ],
   "source": [
    "Tinv = np.linalg.inv(cr.T)\n",
    "J = cr.omega_symplectic\n",
    "conmut = np.zeros((len(Tinv), len(Tinv)))\n",
    "\n",
    "for i in range(len(Tinv)):\n",
    "    for j in range(len(Tinv)):\n",
    "        sum = 0\n",
    "        for k in range(len(Tinv)):\n",
    "            for l in range(len(Tinv)):\n",
    "                sum = sum + Tinv[i,k]*Tinv[j,l]*J[k,l]\n",
    "\n",
    "        conmut[i,j] = sum\n",
    "\n",
    "print(conmut)\n"
   ]
  },
  {
   "cell_type": "code",
   "execution_count": 11,
   "metadata": {},
   "outputs": [
    {
     "name": "stdout",
     "output_type": "stream",
     "text": [
      "[[-1. -0. -0.  1.  0.  0.  0.  0.  0.  0.]\n",
      " [ 1.  1.  1.  0.  1.  0.  0.  0.  0.  0.]\n",
      " [ 0.  0.  0.  0.  0.  1.  0.  0.  1. -1.]\n",
      " [ 0.  0.  0.  0.  0.  0.  1.  0.  0. -1.]\n",
      " [ 0.  0.  0.  0.  0.  0.  0.  1.  0. -1.]]\n"
     ]
    }
   ],
   "source": [
    "C = Capacitor(value = 1, unit='GHz')\n",
    "L = Inductor(value = 1, unit = 'GHz')\n",
    "elements = [(0,1,C), (0,1,L), (1,2,L), (2,3,L), (3,0,L)]\n",
    "\n",
    "cr = Circuit(elements)\n",
    "\n",
    "print(cr.F)"
   ]
  }
 ],
 "metadata": {
  "kernelspec": {
   "display_name": "Proyect1",
   "language": "python",
   "name": "python3"
  },
  "language_info": {
   "codemirror_mode": {
    "name": "ipython",
    "version": 3
   },
   "file_extension": ".py",
   "mimetype": "text/x-python",
   "name": "python",
   "nbconvert_exporter": "python",
   "pygments_lexer": "ipython3",
   "version": "3.12.3"
  }
 },
 "nbformat": 4,
 "nbformat_minor": 2
}
