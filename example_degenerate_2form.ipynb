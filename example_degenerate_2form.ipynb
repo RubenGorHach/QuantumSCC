{
 "cells": [
  {
   "cell_type": "code",
   "execution_count": 1,
   "metadata": {},
   "outputs": [],
   "source": [
    "from QuantumSCC import *\n",
    "import numpy as np"
   ]
  },
  {
   "cell_type": "code",
   "execution_count": 2,
   "metadata": {},
   "outputs": [],
   "source": [
    "# Nota: Para poder ver las conclusiones de este código tienes que hacer lo siguiente:\n",
    "#   - En circuit.py, en la función __init__, en lugar de self.elements = complete_elements poner self.elements = elements para que el código no ordene \n",
    "#     los elementos como él quiera\n",
    "#\n",
    "#   - En algebra.py, en la función symplectic_transformation() con Omega=True, imprimir los autovalores de M: print(M_eigval)"
   ]
  },
  {
   "cell_type": "code",
   "execution_count": 3,
   "metadata": {},
   "outputs": [
    {
     "name": "stdout",
     "output_type": "stream",
     "text": [
      "Lista de elementos\n",
      "[(0, 1, <QuantumSCC.elements.Inductor object at 0x000001F45F1ED700>), (0, 1, <QuantumSCC.elements.Capacitor object at 0x000001F45EF6EDB0>), (1, 2, <QuantumSCC.elements.Capacitor object at 0x000001F45F504D70>), (2, 3, <QuantumSCC.elements.Inductor object at 0x000001F45EFA0E00>), (2, 3, <QuantumSCC.elements.Capacitor object at 0x000001F45F959D60>), (3, 4, <QuantumSCC.elements.Capacitor object at 0x000001F45F504D70>), (4, 0, <QuantumSCC.elements.Inductor object at 0x000001F45F1ED700>), (4, 0, <QuantumSCC.elements.Capacitor object at 0x000001F45EF6EDB0>)]\n",
      "Eigenvalues and eigenvectors of OMEGA:\n",
      "[-5.06647609e-17-1.73205081j  0.00000000e+00-1.41421356j -1.00875766e-16-1.j          0.00000000e+00+0.j          0.00000000e+00+0.j\n",
      " -1.00875766e-16+1.j          0.00000000e+00+1.41421356j -5.06647609e-17+1.73205081j]\n",
      "Caso: 1\n",
      "----------------------------------------------------------------------\n",
      "Diagonalized quantum Hamiltonian:\n",
      "H/h (GHz) =  2.134 (a†_0 a_0 + 1/2) +  2.906 (a†_1 a_1 + 1/2) +  4.196 (a†_2 a_2 + 1/2)\n",
      "----------------------------------------------------------------------\n"
     ]
    }
   ],
   "source": [
    "np.set_printoptions(linewidth=150, threshold=np.inf)\n",
    "\n",
    "C1 = Capacitor(value = 3, unit='pF')\n",
    "C2 = Capacitor(value = 1, unit='pF')\n",
    "Cg = Capacitor(value = 2, unit='pF')\n",
    "L1 = Inductor(value = 1, unit = 'nH')\n",
    "L2 = Inductor(value = 1, unit = 'nH')\n",
    "\n",
    "coupled_oscillators_test_1 = [(0,1,L1), (0,1,C1), (1,2,Cg), (2,3,L2), (2,3,C2), (3,4,Cg), (4,0,L1), (4,0,C1)]\n",
    "coupled_oscillators_test_2 = [(0,1,L1), (4,0,L1), (0,1,C1), (1,2,Cg), (2,3,C2), (3,4,Cg), (4,0,C1), (2,3,L2)]\n",
    "\n",
    "cr1 = Circuit(coupled_oscillators_test_1)\n",
    "cr1.circuit_description()"
   ]
  },
  {
   "cell_type": "code",
   "execution_count": 4,
   "metadata": {},
   "outputs": [
    {
     "name": "stdout",
     "output_type": "stream",
     "text": [
      "Lista de elementos\n",
      "[(0, 1, <QuantumSCC.elements.Inductor object at 0x000001F45F1ED700>), (4, 0, <QuantumSCC.elements.Inductor object at 0x000001F45F1ED700>), (0, 1, <QuantumSCC.elements.Capacitor object at 0x000001F45EF6EDB0>), (1, 2, <QuantumSCC.elements.Capacitor object at 0x000001F45F504D70>), (2, 3, <QuantumSCC.elements.Capacitor object at 0x000001F45F959D60>), (3, 4, <QuantumSCC.elements.Capacitor object at 0x000001F45F504D70>), (4, 0, <QuantumSCC.elements.Capacitor object at 0x000001F45EF6EDB0>), (2, 3, <QuantumSCC.elements.Inductor object at 0x000001F45EFA0E00>)]\n",
      "Eigenvalues and eigenvectors of OMEGA:\n",
      "[ 7.32e-17-1.73j -3.35e-17-1.j   -1.79e-17-1.j    5.35e-17+0.j    0.00e+00+0.j   -1.79e-17+1.j   -3.35e-17+1.j    7.32e-17+1.73j]\n",
      "Caso: 1\n",
      "----------------------------------------------------------------------\n",
      "Diagonalized quantum Hamiltonian:\n",
      "H/h (GHz) =  2.134 (a†_0 a_0 + 1/2) +  2.906 (a†_1 a_1 + 1/2) +  4.196 (a†_2 a_2 + 1/2)\n",
      "----------------------------------------------------------------------\n"
     ]
    }
   ],
   "source": [
    "coupled_oscillators_test_2 = [(0,1,L1), (4,0,L1), (0,1,C1), (1,2,Cg), (2,3,C2), (3,4,Cg), (4,0,C1), (2,3,L2)]\n",
    "\n",
    "cr2 = Circuit(coupled_oscillators_test_2)\n",
    "cr2.circuit_description()"
   ]
  }
 ],
 "metadata": {
  "kernelspec": {
   "display_name": "Proyect1",
   "language": "python",
   "name": "python3"
  },
  "language_info": {
   "codemirror_mode": {
    "name": "ipython",
    "version": 3
   },
   "file_extension": ".py",
   "mimetype": "text/x-python",
   "name": "python",
   "nbconvert_exporter": "python",
   "pygments_lexer": "ipython3",
   "version": "3.12.3"
  }
 },
 "nbformat": 4,
 "nbformat_minor": 2
}
