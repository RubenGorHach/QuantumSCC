{
 "cells": [
  {
   "cell_type": "code",
   "execution_count": 2,
   "metadata": {},
   "outputs": [
    {
     "name": "stdout",
     "output_type": "stream",
     "text": [
      "[[ 1. -0. -0. -1.  0.  0.  0.  0.]\n",
      " [ 0.  1. -0. -1.  0.  0.  0.  0.]\n",
      " [ 0.  0.  1. -1.  0.  0.  0.  0.]\n",
      " [ 0.  0.  0.  0.  1.  1.  1.  1.]]\n"
     ]
    }
   ],
   "source": [
    "from scircuit import *"
   ]
  },
  {
   "cell_type": "code",
   "execution_count": 6,
   "metadata": {},
   "outputs": [
    {
     "name": "stdout",
     "output_type": "stream",
     "text": [
      "[[ 1. -0. -0. -1.  0.  0.  0.  0.]\n",
      " [ 0.  1. -0. -1.  0.  0.  0.  0.]\n",
      " [ 0.  0.  1. -1.  0.  0.  0.  0.]\n",
      " [ 0.  0.  0.  0.  1.  1.  1.  1.]]\n"
     ]
    }
   ],
   "source": [
    "\n",
    "    \n",
    "# -----------------Test the program--------------------------\n",
    "#      \n",
    "loop1 = Loop()\n",
    "C = Capacitor(value = 1, unit='GHz')\n",
    "L = Inductor(value = 1, unit = 'GHz')  \n",
    "\n",
    "#Define the circuit\n",
    "elements1 = [(0,1,C), (1,2,L), (2,3,L), (3,0,L)]\n",
    "cr = Circuit(elements1)\n",
    "print(cr.K)\n"
   ]
  },
  {
   "cell_type": "code",
   "execution_count": null,
   "metadata": {},
   "outputs": [],
   "source": [
    "elements2 = [(0,1,C), (0,1,L), (1,2,L), (2,3,L), (3,0,L)]\n",
    "cr = Circuit(elements2)\n",
    "print(cr.K)\n"
   ]
  },
  {
   "cell_type": "code",
   "execution_count": null,
   "metadata": {},
   "outputs": [],
   "source": [
    "elements3 = [(0,1,C), (1,2,L), (2,3,L), (3,0,L), (0,1,L)]\n",
    "cr = Circuit(elements3)\n",
    "print(cr.K)"
   ]
  }
 ],
 "metadata": {
  "kernelspec": {
   "display_name": "quantum",
   "language": "python",
   "name": "python3"
  },
  "language_info": {
   "codemirror_mode": {
    "name": "ipython",
    "version": 3
   },
   "file_extension": ".py",
   "mimetype": "text/x-python",
   "name": "python",
   "nbconvert_exporter": "python",
   "pygments_lexer": "ipython3",
   "version": "3.12.2"
  }
 },
 "nbformat": 4,
 "nbformat_minor": 2
}
