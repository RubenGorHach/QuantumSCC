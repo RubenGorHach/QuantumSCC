{
 "cells": [
  {
   "cell_type": "markdown",
   "metadata": {},
   "source": [
    "# Nonlinear circuit examples"
   ]
  },
  {
   "cell_type": "code",
   "execution_count": 1,
   "metadata": {},
   "outputs": [],
   "source": [
    "from QuantumSCC import *"
   ]
  },
  {
   "cell_type": "markdown",
   "metadata": {},
   "source": [
    "## Masther thesis examples"
   ]
  },
  {
   "cell_type": "markdown",
   "metadata": {},
   "source": [
    "#### 1- Fluxonium"
   ]
  },
  {
   "cell_type": "code",
   "execution_count": 2,
   "metadata": {},
   "outputs": [
    {
     "name": "stdout",
     "output_type": "stream",
     "text": [
      "----------------------------------------------------------------------\n",
      "Quantum Hamiltonian:\n",
      "H/ℏ (GHz) = + 3.162 [(φ_e1)^2 + (Q_e1)^2]  - 1.000 cos(v_1 ξ)\n",
      "\n",
      "Vectors v:\n",
      "[[-0.055  0.   ]]\n",
      "Variable vectors ξᵀ: (  φ_e1  Q_e1 )\n",
      "\n",
      "Subindex explanation:\n",
      " - Subindex e indicates that the operator belongs to the extended flux subspace\n",
      " - Subindex c indicates that the operator belongs to the compact flux subspace\n",
      "IMPORTANT: Flux and Charge operators of this expression are dimensionless (number-phase representation).\n",
      "----------------------------------------------------------------------\n"
     ]
    }
   ],
   "source": [
    "# Set components properties\n",
    "C_J = Capacitor(value = 0.1, unit='nF')\n",
    "J = Junction(value = 1, unit = 'GHz', cap = C_J)\n",
    "L = Inductor(value = 1, unit = 'nH')\n",
    "\n",
    "# Set circuit topology\n",
    "fluxonium_topology = [(0,1,J),(0,1,L)]\n",
    "\n",
    "# Introduce the circuit topology into the Circuit class\n",
    "fluxonium_circuit = Circuit(fluxonium_topology)\n",
    "\n",
    "# Print the quantum Hamiltonian\n",
    "fluxonium_circuit.Hamiltonian_expression(precision=3)"
   ]
  },
  {
   "cell_type": "markdown",
   "metadata": {},
   "source": [
    "#### 2- Singular circuit"
   ]
  },
  {
   "cell_type": "code",
   "execution_count": 3,
   "metadata": {},
   "outputs": [
    {
     "name": "stdout",
     "output_type": "stream",
     "text": [
      "----------------------------------------------------------------------\n",
      "Quantum Hamiltonian:\n",
      "H/ℏ (GHz) = + 4.472 [(φ_e1)^2 + (Q_e1)^2]  + 0.170 Q_e1 Q_c1  + 0.016 (Q_c1)^2  - 1.000 cos(v_1 ξ)\n",
      "\n",
      "Vectors v:\n",
      "[[-0.577 -0.022  0.     0.   ]]\n",
      "Variable vectors ξᵀ: ( φ_c1  φ_e1  Q_c1  Q_e1 )\n",
      "\n",
      "Subindex explanation:\n",
      " - Subindex e indicates that the operator belongs to the extended flux subspace\n",
      " - Subindex c indicates that the operator belongs to the compact flux subspace\n",
      "IMPORTANT: Flux and Charge operators of this expression are dimensionless (number-phase representation).\n",
      "----------------------------------------------------------------------\n"
     ]
    }
   ],
   "source": [
    "# Set components properties\n",
    "C = Capacitor(value = 0.1, unit='nF')\n",
    "C_J = Capacitor(value = 0.1, unit='nF')\n",
    "J = Junction(value = 1, unit = 'GHz', cap = C_J)\n",
    "L = Inductor(value = 1, unit = 'nH')\n",
    "\n",
    "# Set circuit topology\n",
    "example2_topology = [(0,1,J),(1,2,C),(2,0,L)]\n",
    "\n",
    "# Introduce the circuit topology into the Circuit class\n",
    "example2_circuit = Circuit(example2_topology)\n",
    "\n",
    "# Print the quantum Hamiltonian\n",
    "example2_circuit.Hamiltonian_expression(precision=3)"
   ]
  },
  {
   "cell_type": "markdown",
   "metadata": {},
   "source": [
    "## Further examples"
   ]
  },
  {
   "cell_type": "markdown",
   "metadata": {},
   "source": [
    "#### 3- LC oscillator coupled capacitively to a Josephson junction"
   ]
  },
  {
   "cell_type": "code",
   "execution_count": 4,
   "metadata": {},
   "outputs": [
    {
     "name": "stdout",
     "output_type": "stream",
     "text": [
      "----------------------------------------------------------------------\n",
      "Quantum Hamiltonian:\n",
      "H/ℏ (GHz) = + 2.582 [(φ_e1)^2 + (Q_e1)^2]  + 0.075 Q_e1 Q_c1  + 0.015 (Q_c1)^2  - 1.000 cos(v_1 ξ)\n",
      "\n",
      "Vectors v:\n",
      "[[0.577 0.017 0.    0.   ]]\n",
      "Variable vectors ξᵀ: ( φ_c1  φ_e1  Q_c1  Q_e1 )\n",
      "\n",
      "Subindex explanation:\n",
      " - Subindex e indicates that the operator belongs to the extended flux subspace\n",
      " - Subindex c indicates that the operator belongs to the compact flux subspace\n",
      "IMPORTANT: Flux and Charge operators of this expression are dimensionless (number-phase representation).\n",
      "----------------------------------------------------------------------\n"
     ]
    }
   ],
   "source": [
    "# Set components properties\n",
    "C_L = Capacitor(value = 0.1, unit='nF')\n",
    "C_J = Capacitor(value = 0.1, unit='nF')\n",
    "Cg = Capacitor(value = 0.1, unit='nF')\n",
    "J = Junction(value = 1, unit = 'GHz', cap = C_J)\n",
    "L = Inductor(value = 1, unit = 'nH')\n",
    "\n",
    "# Set circuit topology\n",
    "example3_topology = [(0,1,L),(0,1,C_L),(1,2,Cg), (2,0,J)]\n",
    "\n",
    "# Introduce the circuit topology into the Circuit class\n",
    "example3_circuit = Circuit(example3_topology)\n",
    "\n",
    "# Print the quantum Hamiltonian\n",
    "example3_circuit.Hamiltonian_expression()"
   ]
  },
  {
   "cell_type": "markdown",
   "metadata": {},
   "source": [
    "#### 4- Transmon  "
   ]
  },
  {
   "cell_type": "code",
   "execution_count": 5,
   "metadata": {},
   "outputs": [
    {
     "name": "stdout",
     "output_type": "stream",
     "text": [
      "----------------------------------------------------------------------\n",
      "Quantum Hamiltonian:\n",
      "H/ℏ (GHz) =  + 0.002 (Q_c1)^2  - 50.000 cos(v_1 ξ)\n",
      "\n",
      "Vectors v:\n",
      "[[0.707 0.   ]]\n",
      "Variable vectors ξᵀ: ( φ_c1  Q_c1 )\n",
      "\n",
      "Subindex explanation:\n",
      " - Subindex e indicates that the operator belongs to the extended flux subspace\n",
      " - Subindex c indicates that the operator belongs to the compact flux subspace\n",
      "IMPORTANT: Flux and Charge operators of this expression are dimensionless (number-phase representation).\n",
      "----------------------------------------------------------------------\n"
     ]
    }
   ],
   "source": [
    "# Set components properties\n",
    "C_J = Capacitor(value = 1, unit='nF')\n",
    "J = Junction(value = 50, unit = 'GHz', cap = C_J)\n",
    "\n",
    "# Set circuit topology\n",
    "transmon_topology = [(0,1,J)]\n",
    "\n",
    "# Introduce the circuit topology into the Circuit class\n",
    "transmon_circuit = Circuit(transmon_topology)\n",
    "\n",
    "# Print the quantum Hamiltonian\n",
    "transmon_circuit.Hamiltonian_expression()"
   ]
  },
  {
   "cell_type": "markdown",
   "metadata": {},
   "source": [
    "#### 5 - Two capacitively coupled Josephson junctions "
   ]
  },
  {
   "cell_type": "code",
   "execution_count": 6,
   "metadata": {},
   "outputs": [
    {
     "name": "stdout",
     "output_type": "stream",
     "text": [
      "----------------------------------------------------------------------\n",
      "Quantum Hamiltonian:\n",
      "H/ℏ (GHz) =  + 0.001 (Q_c1)^2  + 0.001 (Q_c2)^2  - 1.000 cos(v_1 ξ)  - 1.000 cos(v_2 ξ)\n",
      "\n",
      "Vectors v:\n",
      "[[1. 0. 0. 0.]\n",
      " [0. 1. 0. 0.]]\n",
      "Variable vectors ξᵀ: ( φ_c1 φ_c2  Q_c1  Q_c2 )\n",
      "\n",
      "Subindex explanation:\n",
      " - Subindex e indicates that the operator belongs to the extended flux subspace\n",
      " - Subindex c indicates that the operator belongs to the compact flux subspace\n",
      "IMPORTANT: Flux and Charge operators of this expression are dimensionless (number-phase representation).\n",
      "----------------------------------------------------------------------\n"
     ]
    }
   ],
   "source": [
    "# Set components properties\n",
    "CJ = Capacitor(value = 0.1, unit='nF')\n",
    "Cg = Capacitor(value = 0.2, unit='nF')\n",
    "J = Junction(value = 1, unit = 'GHz', cap = C_J)\n",
    "\n",
    "# Set circuit topology\n",
    "example5_topology = [(0,1,J), (1,2,Cg), (2,0,J)]\n",
    "\n",
    "example5_circuit = Circuit(example5_topology)\n",
    "\n",
    "# Print the quantum Hamiltonian\n",
    "example5_circuit.Hamiltonian_expression()"
   ]
  }
 ],
 "metadata": {
  "kernelspec": {
   "display_name": "Proyect1",
   "language": "python",
   "name": "python3"
  },
  "language_info": {
   "codemirror_mode": {
    "name": "ipython",
    "version": 3
   },
   "file_extension": ".py",
   "mimetype": "text/x-python",
   "name": "python",
   "nbconvert_exporter": "python",
   "pygments_lexer": "ipython3",
   "version": "3.12.3"
  }
 },
 "nbformat": 4,
 "nbformat_minor": 2
}
