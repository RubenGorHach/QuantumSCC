{
 "cells": [
  {
   "cell_type": "code",
   "execution_count": 1,
   "metadata": {},
   "outputs": [],
   "source": [
    "from QuantumSCC import *\n",
    "import numpy as np"
   ]
  },
  {
   "cell_type": "markdown",
   "metadata": {},
   "source": [
    "## Non-linear tests"
   ]
  },
  {
   "cell_type": "markdown",
   "metadata": {},
   "source": [
    "#### A- LC oscillator coupled capacitively to a Josephson junction"
   ]
  },
  {
   "cell_type": "code",
   "execution_count": 2,
   "metadata": {},
   "outputs": [
    {
     "name": "stdout",
     "output_type": "stream",
     "text": [
      "Number of compact flux variables: 1\n",
      "Number of variables: 4\n",
      "-----------------------------\n",
      "vector_JJ:\n",
      "[[ 0.57735027]\n",
      " [-0.20412415]\n",
      " [ 0.        ]\n",
      " [ 0.        ]]\n",
      "-----------------------------\n",
      "total Hamiltonian\n",
      "[[ 0.00000000e+00  0.00000000e+00  0.00000000e+00  0.00000000e+00]\n",
      " [ 0.00000000e+00  6.12980180e+01  0.00000000e+00  0.00000000e+00]\n",
      " [ 0.00000000e+00  0.00000000e+00  2.41051737e-01 -4.86998050e-02]\n",
      " [ 0.00000000e+00  0.00000000e+00 -4.86998050e-02  2.75487699e-01]]\n",
      "-----------------------------\n",
      "compact quadratic hamiltonian\n",
      "[[0.         0.        ]\n",
      " [0.         0.24105174]]\n",
      "-----------------------------\n",
      "extended quadratic hamiltonian\n",
      "[[61.29801803  0.        ]\n",
      " [ 0.          0.2754877 ]]\n",
      "-----------------------------\n",
      "interaction quadratic hamiltonian\n",
      "[[ 0.          0.          0.          0.        ]\n",
      " [ 0.          0.          0.          0.        ]\n",
      " [ 0.          0.          0.         -0.04869981]\n",
      " [ 0.          0.         -0.04869981  0.        ]]\n",
      "-----------------------------\n",
      "Caso: 1\n"
     ]
    }
   ],
   "source": [
    "C_L = Capacitor(value = 1, unit='pF')\n",
    "C_J = Capacitor(value = 1, unit='pF')\n",
    "Cg = Capacitor(value = 1, unit='pF')\n",
    "L = Inductor(value = 1, unit = 'nH')\n",
    "J = Junction(value = 1, unit = 'GHz', cap = C_J)\n",
    "\n",
    "elements_a = [(0,1,L),(0,1,C_L),(1,2,Cg), (2,0,J)]\n",
    "\n",
    "cr_a = Circuit(elements_a)\n"
   ]
  },
  {
   "cell_type": "markdown",
   "metadata": {},
   "source": [
    "#### B- Josephson Junction in series to an inductor and a capacitor"
   ]
  },
  {
   "cell_type": "code",
   "execution_count": 3,
   "metadata": {},
   "outputs": [
    {
     "name": "stdout",
     "output_type": "stream",
     "text": [
      "Number of compact flux variables: 1\n",
      "Number of variables: 4\n",
      "-----------------------------\n",
      "vector_JJ:\n",
      "[[-0.57735027]\n",
      " [ 0.25819889]\n",
      " [ 0.        ]\n",
      " [ 0.        ]]\n",
      "-----------------------------\n",
      "total Hamiltonian\n",
      "[[ 0.          0.          0.          0.        ]\n",
      " [ 0.         98.07682884  0.          0.        ]\n",
      " [ 0.          0.          0.25826972 -0.11550173]\n",
      " [ 0.          0.         -0.11550173  0.51653944]]\n",
      "-----------------------------\n",
      "compact quadratic hamiltonian\n",
      "[[0.         0.        ]\n",
      " [0.         0.25826972]]\n",
      "-----------------------------\n",
      "extended quadratic hamiltonian\n",
      "[[98.07682884  0.        ]\n",
      " [ 0.          0.51653944]]\n",
      "-----------------------------\n",
      "interaction quadratic hamiltonian\n",
      "[[ 0.          0.          0.          0.        ]\n",
      " [ 0.          0.          0.          0.        ]\n",
      " [ 0.          0.          0.         -0.11550173]\n",
      " [ 0.          0.         -0.11550173  0.        ]]\n",
      "-----------------------------\n",
      "Caso: 1\n"
     ]
    }
   ],
   "source": [
    "C = Capacitor(value = 1, unit='pF')\n",
    "C_J = Capacitor(value = 1, unit='pF')\n",
    "L = Inductor(value = 1, unit = 'nH')\n",
    "J = Junction(value = 1, unit = 'GHz', cap = C_J)\n",
    "\n",
    "elements_b = [(0,1,J),(1,2,L),(2,0,C)]\n",
    "\n",
    "cr_b = Circuit(elements_b)\n",
    "\n"
   ]
  },
  {
   "cell_type": "markdown",
   "metadata": {},
   "source": [
    "#### C- Josephson junction in parallel to an inductor"
   ]
  },
  {
   "cell_type": "code",
   "execution_count": 4,
   "metadata": {},
   "outputs": [
    {
     "name": "stdout",
     "output_type": "stream",
     "text": [
      "Number of compact flux variables: 0\n",
      "Number of variables: 2\n",
      "-----------------------------\n",
      "vector_JJ:\n",
      "[[1.]\n",
      " [0.]]\n",
      "-----------------------------\n",
      "total Hamiltonian\n",
      "[[1.63461381e+02 0.00000000e+00]\n",
      " [0.00000000e+00 1.54961831e-01]]\n",
      "-----------------------------\n",
      "compact quadratic hamiltonian\n",
      "[]\n",
      "-----------------------------\n",
      "extended quadratic hamiltonian\n",
      "[[1.63461381e+02 0.00000000e+00]\n",
      " [0.00000000e+00 1.54961831e-01]]\n",
      "-----------------------------\n",
      "interaction quadratic hamiltonian\n",
      "[[0. 0.]\n",
      " [0. 0.]]\n",
      "-----------------------------\n",
      "Caso: 1\n"
     ]
    }
   ],
   "source": [
    "C_J = Capacitor(value = 1, unit='pF')\n",
    "L = Inductor(value = 1, unit = 'nH')\n",
    "J = Junction(value = 1, unit = 'GHz', cap = C_J)\n",
    "\n",
    "elements_c = [(0,1,J),(0,1,L)]\n",
    "\n",
    "cr_c = Circuit(elements_c)"
   ]
  },
  {
   "cell_type": "markdown",
   "metadata": {},
   "source": [
    "#### D- Two Josephson junction in series to an inductor"
   ]
  },
  {
   "cell_type": "code",
   "execution_count": 5,
   "metadata": {},
   "outputs": [
    {
     "name": "stdout",
     "output_type": "stream",
     "text": [
      "Number of compact flux variables: 1\n",
      "Number of variables: 4\n",
      "-----------------------------\n",
      "vector_JJ:\n",
      "[[-0.5         0.5       ]\n",
      " [ 0.35355339  0.35355339]\n",
      " [ 0.          0.        ]\n",
      " [ 0.          0.        ]]\n",
      "-----------------------------\n",
      "total Hamiltonian\n",
      "[[0.00000000e+00 0.00000000e+00 0.00000000e+00 0.00000000e+00]\n",
      " [0.00000000e+00 8.17306907e+01 0.00000000e+00 0.00000000e+00]\n",
      " [0.00000000e+00 0.00000000e+00 3.09923661e-01 4.53818644e-17]\n",
      " [0.00000000e+00 0.00000000e+00 5.89362867e-17 6.19847322e-01]]\n",
      "-----------------------------\n",
      "compact quadratic hamiltonian\n",
      "[[0.         0.        ]\n",
      " [0.         0.30992366]]\n",
      "-----------------------------\n",
      "extended quadratic hamiltonian\n",
      "[[81.7306907   0.        ]\n",
      " [ 0.          0.61984732]]\n",
      "-----------------------------\n",
      "interaction quadratic hamiltonian\n",
      "[[0.00000000e+00 0.00000000e+00 0.00000000e+00 0.00000000e+00]\n",
      " [0.00000000e+00 0.00000000e+00 0.00000000e+00 0.00000000e+00]\n",
      " [0.00000000e+00 0.00000000e+00 0.00000000e+00 4.53818644e-17]\n",
      " [0.00000000e+00 0.00000000e+00 5.89362867e-17 0.00000000e+00]]\n",
      "-----------------------------\n",
      "Caso: 1\n"
     ]
    }
   ],
   "source": [
    "C_J1 = Capacitor(value = 1, unit='pF')\n",
    "C_J2 = Capacitor(value = 1, unit='pF')\n",
    "L = Inductor(value = 1, unit = 'nH')\n",
    "J1 = Junction(value = 1, unit = 'GHz', cap = C_J1)\n",
    "J2 = Junction(value = 1, unit = 'GHz', cap = C_J2)\n",
    "\n",
    "elements_d = [(0,1,J1),(1,2,J2),(2,0,L)]\n",
    "\n",
    "cr_d = Circuit(elements_d)"
   ]
  },
  {
   "cell_type": "markdown",
   "metadata": {},
   "source": [
    "## Some tests and other things"
   ]
  },
  {
   "cell_type": "code",
   "execution_count": 6,
   "metadata": {},
   "outputs": [
    {
     "name": "stdout",
     "output_type": "stream",
     "text": [
      "Number of compact flux variables: 1\n",
      "Number of variables: 4\n",
      "-----------------------------\n",
      "vector_JJ:\n",
      "[[1.]\n",
      " [0.]\n",
      " [0.]\n",
      " [0.]]\n",
      "-----------------------------\n",
      "total Hamiltonian\n",
      "[[ 0.          0.          0.          0.        ]\n",
      " [ 0.         68.10890892  0.          0.        ]\n",
      " [ 0.          0.          0.10330789 -0.08002195]\n",
      " [ 0.          0.         -0.08002195  0.24793893]]\n",
      "-----------------------------\n",
      "compact quadratic hamiltonian\n",
      "[[0.         0.        ]\n",
      " [0.         0.10330789]]\n",
      "-----------------------------\n",
      "extended quadratic hamiltonian\n",
      "[[68.10890892  0.        ]\n",
      " [ 0.          0.24793893]]\n",
      "-----------------------------\n",
      "interaction quadratic hamiltonian\n",
      "[[ 0.          0.          0.          0.        ]\n",
      " [ 0.          0.          0.          0.        ]\n",
      " [ 0.          0.          0.         -0.08002195]\n",
      " [ 0.          0.         -0.08002195  0.        ]]\n",
      "-----------------------------\n",
      "Caso: 1\n"
     ]
    }
   ],
   "source": [
    "# COUPLED OSCILLATORS\n",
    "np.set_printoptions(linewidth=150, threshold=np.inf)\n",
    "\n",
    "C1 = Capacitor(value = 1, unit='pF')\n",
    "C2 = Capacitor(value = 1, unit='pF')\n",
    "Cg = Capacitor(value = 2, unit='pF')\n",
    "L1 = Inductor(value = 1, unit = 'nH')\n",
    "L2 = Inductor(value = 1, unit = 'nH')\n",
    "J = Junction(value = 1, unit = 'GHz', cap = C1)\n",
    "\n",
    "coupled_oscillators = [(0,1,J), (1,2,Cg), (2,0,L2),(2,0,C2)]\n",
    "coupled_oscillators = [(0,1,J), (1,2,Cg), (2,3,L2),(2,3,C2), (3,0,Cg)]\n",
    "#coupled_oscillators = [(0,1,J), (1,2,Cg), (2,0,J)]\n",
    "#coupled_oscillators = [(0,1,J), (1,2,Cg), (2,3,L2),(2,3,C2),(3,4,Cg),(4,0,J)]\n",
    "#coupled_oscillators = [(0,1,L), (0,1,C), (1,2,Cg), (2,3,L2),(2,3,C2),(3,4,Cg),(4,0,L),(4,0,C)]\n",
    "\n",
    "cr = Circuit(coupled_oscillators)\n",
    "\n",
    "\n"
   ]
  },
  {
   "cell_type": "code",
   "execution_count": 7,
   "metadata": {},
   "outputs": [
    {
     "name": "stdout",
     "output_type": "stream",
     "text": [
      "Number of compact flux variables: 0\n",
      "Number of variables: 6\n",
      "-----------------------------\n",
      "vector_JJ:\n",
      "[]\n",
      "-----------------------------\n",
      "total Hamiltonian\n",
      "[[ 8.17306907e+01 -8.91712652e-16  4.33022508e-16  0.00000000e+00  0.00000000e+00  0.00000000e+00]\n",
      " [ 0.00000000e+00  5.44871271e+01  1.45622973e+01  0.00000000e+00  0.00000000e+00  0.00000000e+00]\n",
      " [ 0.00000000e+00  1.45622973e+01  7.39468154e+01  0.00000000e+00  0.00000000e+00  0.00000000e+00]\n",
      " [ 0.00000000e+00  0.00000000e+00  0.00000000e+00  3.09923661e-01 -5.55111512e-17  0.00000000e+00]\n",
      " [ 0.00000000e+00  0.00000000e+00  0.00000000e+00 -5.55111512e-17  1.74332059e-01  7.24767598e-02]\n",
      " [ 0.00000000e+00  0.00000000e+00  0.00000000e+00  0.00000000e+00  7.24767598e-02  2.71183204e-01]]\n",
      "-----------------------------\n",
      "compact quadratic hamiltonian\n",
      "[]\n",
      "-----------------------------\n",
      "extended quadratic hamiltonian\n",
      "[[ 8.17306907e+01 -8.91712652e-16  4.33022508e-16  0.00000000e+00  0.00000000e+00  0.00000000e+00]\n",
      " [ 0.00000000e+00  5.44871271e+01  1.45622973e+01  0.00000000e+00  0.00000000e+00  0.00000000e+00]\n",
      " [ 0.00000000e+00  1.45622973e+01  7.39468154e+01  0.00000000e+00  0.00000000e+00  0.00000000e+00]\n",
      " [ 0.00000000e+00  0.00000000e+00  0.00000000e+00  3.09923661e-01 -5.55111512e-17  0.00000000e+00]\n",
      " [ 0.00000000e+00  0.00000000e+00  0.00000000e+00 -5.55111512e-17  1.74332059e-01  7.24767598e-02]\n",
      " [ 0.00000000e+00  0.00000000e+00  0.00000000e+00  0.00000000e+00  7.24767598e-02  2.71183204e-01]]\n",
      "-----------------------------\n",
      "interaction quadratic hamiltonian\n",
      "[[0. 0. 0. 0. 0. 0.]\n",
      " [0. 0. 0. 0. 0. 0.]\n",
      " [0. 0. 0. 0. 0. 0.]\n",
      " [0. 0. 0. 0. 0. 0.]\n",
      " [0. 0. 0. 0. 0. 0.]\n",
      " [0. 0. 0. 0. 0. 0.]]\n",
      "-----------------------------\n",
      "Caso: 1\n"
     ]
    }
   ],
   "source": [
    "C = Capacitor(value = 1, unit='pF')\n",
    "Cg = Capacitor(value = 2, unit='pF')\n",
    "L = Inductor(value = 1, unit = 'nH')\n",
    "J = Junction(value = 1, unit = 'GHz', cap = C1)\n",
    "\n",
    "coupled_oscillators1 = [(0,1,L), (0,1,C), (1,2,Cg), (2,3,L2),(2,3,C2),(3,4,Cg),(4,0,L),(4,0,C)]\n",
    "cr1 = Circuit(coupled_oscillators1)\n"
   ]
  },
  {
   "cell_type": "code",
   "execution_count": 8,
   "metadata": {},
   "outputs": [
    {
     "name": "stdout",
     "output_type": "stream",
     "text": [
      "Number of compact flux variables: 2\n",
      "Number of variables: 6\n",
      "-----------------------------\n",
      "vector_JJ:\n",
      "[[1. 0.]\n",
      " [0. 1.]\n",
      " [0. 0.]\n",
      " [0. 0.]\n",
      " [0. 0.]\n",
      " [0. 0.]]\n",
      "-----------------------------\n",
      "total Hamiltonian\n",
      "[[ 0.00000000e+00  0.00000000e+00  0.00000000e+00  0.00000000e+00  0.00000000e+00  0.00000000e+00]\n",
      " [ 0.00000000e+00  0.00000000e+00  0.00000000e+00  0.00000000e+00  0.00000000e+00  0.00000000e+00]\n",
      " [ 0.00000000e+00  0.00000000e+00  7.26495028e+01  0.00000000e+00  0.00000000e+00  0.00000000e+00]\n",
      " [ 0.00000000e+00  0.00000000e+00  0.00000000e+00  1.20525868e-01 -3.44359624e-02 -5.16539435e-02]\n",
      " [ 0.00000000e+00  0.00000000e+00  0.00000000e+00 -3.44359624e-02  1.20525868e-01 -5.16539435e-02]\n",
      " [ 0.00000000e+00  0.00000000e+00  0.00000000e+00 -5.16539435e-02 -5.16539435e-02  2.71183204e-01]]\n",
      "-----------------------------\n",
      "compact quadratic hamiltonian\n",
      "[[ 0.          0.          0.          0.        ]\n",
      " [ 0.          0.          0.          0.        ]\n",
      " [ 0.          0.          0.12052587 -0.03443596]\n",
      " [ 0.          0.         -0.03443596  0.12052587]]\n",
      "-----------------------------\n",
      "extended quadratic hamiltonian\n",
      "[[72.64950284  0.        ]\n",
      " [ 0.          0.2711832 ]]\n",
      "-----------------------------\n",
      "interaction quadratic hamiltonian\n",
      "[[ 0.          0.          0.          0.          0.          0.        ]\n",
      " [ 0.          0.          0.          0.          0.          0.        ]\n",
      " [ 0.          0.          0.          0.          0.          0.        ]\n",
      " [ 0.          0.          0.          0.          0.         -0.05165394]\n",
      " [ 0.          0.          0.          0.          0.         -0.05165394]\n",
      " [ 0.          0.          0.         -0.05165394 -0.05165394  0.        ]]\n",
      "-----------------------------\n",
      "Caso: 1\n"
     ]
    }
   ],
   "source": [
    "coupled_oscillators2 = [(0,1,J), (1,2,Cg), (2,3,L2),(2,3,C2),(3,4,Cg),(4,5,J), (5,0,Cg)]\n",
    "\n",
    "#coupled_oscillators2 = [(0,1,J), (1,2,Cg), (2,3,L2),(2,3,C2),(3,4,Cg),(4,5,L2),(4,5,C2), (5,6,Cg), (6,7,L2), (6,7,C2),(7,0,Cg)]\n",
    "\n",
    "cr2 = Circuit(coupled_oscillators2)"
   ]
  },
  {
   "cell_type": "code",
   "execution_count": 9,
   "metadata": {},
   "outputs": [
    {
     "name": "stdout",
     "output_type": "stream",
     "text": [
      "Number of compact flux variables: 0\n",
      "Number of variables: 2\n",
      "-----------------------------\n",
      "vector_JJ:\n",
      "[]\n",
      "-----------------------------\n",
      "total Hamiltonian\n",
      "[[1. 0.]\n",
      " [0. 2.]]\n",
      "-----------------------------\n",
      "compact quadratic hamiltonian\n",
      "[]\n",
      "-----------------------------\n",
      "extended quadratic hamiltonian\n",
      "[[1. 0.]\n",
      " [0. 2.]]\n",
      "-----------------------------\n",
      "interaction quadratic hamiltonian\n",
      "[[0. 0.]\n",
      " [0. 0.]]\n",
      "-----------------------------\n",
      "Caso: 1\n"
     ]
    }
   ],
   "source": [
    "C = Capacitor(value = 1, unit='GHz')\n",
    "L = Inductor(value = 1, unit = 'GHz')\n",
    "elements = [(0,2,C), (0,1,L), (1,2,L)] \n",
    "\n",
    "cr = Circuit(elements)\n",
    "\n"
   ]
  }
 ],
 "metadata": {
  "kernelspec": {
   "display_name": "Proyect1",
   "language": "python",
   "name": "python3"
  },
  "language_info": {
   "codemirror_mode": {
    "name": "ipython",
    "version": 3
   },
   "file_extension": ".py",
   "mimetype": "text/x-python",
   "name": "python",
   "nbconvert_exporter": "python",
   "pygments_lexer": "ipython3",
   "version": "3.12.3"
  }
 },
 "nbformat": 4,
 "nbformat_minor": 2
}
