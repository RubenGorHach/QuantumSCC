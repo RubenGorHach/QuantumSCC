{
 "cells": [
  {
   "cell_type": "code",
   "execution_count": 1,
   "metadata": {},
   "outputs": [],
   "source": [
    "from QuantumSCC import *\n",
    "import numpy as np"
   ]
  },
  {
   "cell_type": "markdown",
   "metadata": {},
   "source": [
    "## Non-linear tests"
   ]
  },
  {
   "cell_type": "markdown",
   "metadata": {},
   "source": [
    "#### A- LC oscillator coupled capacitively to a Josephson junction"
   ]
  },
  {
   "cell_type": "code",
   "execution_count": 2,
   "metadata": {},
   "outputs": [
    {
     "name": "stdout",
     "output_type": "stream",
     "text": [
      "----------------------------------------------------------------------\n",
      "Diagonalized quantum Hamiltonian:\n",
      "H/ℏ =  2.582 GHz · (a†_1 a_1)\n",
      "----------------------------------------------------------------------\n",
      "----------------------------------------------------------------------\n",
      "Quantum Hamiltonian:\n",
      "H/ℏ (GHz) = + 2.582 [(φ_R1)^2 + (Q_R1)^2]  + 0.075 Q_R1 Q_S1  + 0.015 (Q_S1)^2  - 1.000 cos(v_0 ξ)\n",
      "\n",
      "Vectors v: [[0.577 0.017 0.    0.   ]]\n",
      "Variable vectors ξᵀ: ( φ_S1,  φ_R1,  Q_S1,  Q_R1 )\n",
      "IMPORTANT: Flux and Charge operators of this expression are dimensionless.\n",
      "----------------------------------------------------------------------\n"
     ]
    }
   ],
   "source": [
    "C_L = Capacitor(value = 0.1, unit='nF')\n",
    "C_J = Capacitor(value = 0.1, unit='nF')\n",
    "Cg = Capacitor(value = 0.1, unit='nF')\n",
    "L = Inductor(value = 1, unit = 'nH')\n",
    "J = Junction(value = 1, unit = 'GHz', cap = C_J)\n",
    "\n",
    "\n",
    "elements_a = [(0,1,L),(0,1,C_L),(1,2,Cg), (2,0,J)]\n",
    "\n",
    "cr_a = Circuit(elements_a)\n",
    "\n",
    "cr_a.diagonal_harmonic_Hamiltonian_expression()\n",
    "\n",
    "cr_a.Hamiltonian_expression()\n"
   ]
  },
  {
   "cell_type": "markdown",
   "metadata": {},
   "source": [
    "#### B- Josephson Junction in series to an inductor and a capacitor"
   ]
  },
  {
   "cell_type": "code",
   "execution_count": 3,
   "metadata": {},
   "outputs": [
    {
     "name": "stdout",
     "output_type": "stream",
     "text": [
      "----------------------------------------------------------------------\n",
      "Quantum Hamiltonian:\n",
      "H/ℏ (GHz) = + 4.472 [(φ_R1)^2 + (Q_R1)^2]  + 0.170 Q_R1 Q_S1  + 0.016 (Q_S1)^2  - 1.000 cos(v_0 ξ)\n",
      "\n",
      "Vectors v: [[-0.577 -0.022  0.     0.   ]]\n",
      "Variable vectors ξᵀ: ( φ_S1,  φ_R1,  Q_S1,  Q_R1 )\n",
      "IMPORTANT: Flux and Charge operators of this expression are dimensionless.\n",
      "----------------------------------------------------------------------\n"
     ]
    }
   ],
   "source": [
    "C = Capacitor(value = 0.1, unit='nF')\n",
    "C_J = Capacitor(value = 0.1, unit='nF')\n",
    "L = Inductor(value = 1, unit = 'nH')\n",
    "J = Junction(value = 1, unit = 'GHz', cap = C_J)\n",
    "\n",
    "elements_b = [(0,1,J),(1,2,C),(2,0,L)]\n",
    "\n",
    "cr_b = Circuit(elements_b)\n",
    "\n",
    "cr_b.Hamiltonian_expression()"
   ]
  },
  {
   "cell_type": "markdown",
   "metadata": {},
   "source": [
    "#### C- Josephson junction in parallel to an inductor"
   ]
  },
  {
   "cell_type": "code",
   "execution_count": 4,
   "metadata": {},
   "outputs": [
    {
     "name": "stdout",
     "output_type": "stream",
     "text": [
      "----------------------------------------------------------------------\n",
      "Quantum Hamiltonian:\n",
      "H/ℏ (GHz) = + 3.162276348447743 [(φ_R1)^2 + (Q_R1)^2]  - 1.000000000000000 cos(v_0 ξ)\n",
      "\n",
      "Vectors v: [[-0.055488424425975  0.               ]]\n",
      "Variable vectors ξᵀ: ( φ_R1,  Q_R1 )\n",
      "IMPORTANT: Flux and Charge operators of this expression are dimensionless.\n",
      "----------------------------------------------------------------------\n"
     ]
    }
   ],
   "source": [
    "C_J = Capacitor(value = 0.1, unit='nF')\n",
    "L = Inductor(value = 1, unit = 'nH')\n",
    "J = Junction(value = 1, unit = 'GHz', cap = C_J)\n",
    "\n",
    "elements_c = [(0,1,J),(0,1,L)]\n",
    "\n",
    "cr_c = Circuit(elements_c)\n",
    "\n",
    "cr_c.Hamiltonian_expression(precision=15)"
   ]
  },
  {
   "cell_type": "markdown",
   "metadata": {},
   "source": [
    "#### D- Two Josephson junction in series to an inductor"
   ]
  },
  {
   "cell_type": "code",
   "execution_count": 5,
   "metadata": {},
   "outputs": [
    {
     "name": "stdout",
     "output_type": "stream",
     "text": [
      "----------------------------------------------------------------------\n",
      "Quantum Hamiltonian:\n",
      "H/ℏ (GHz) = + 44.721 [(φ_R1)^2 + (Q_R1)^2]  + 1.947 (Q_S1)^2  - 1.000 cos(v_0 ξ)  - 1.000 cos(v_1 ξ)\n",
      "\n",
      "Vectors v: [[-0.5   -0.104  0.     0.   ]\n",
      " [ 0.5   -0.104  0.     0.   ]]\n",
      "Variable vectors ξᵀ: ( φ_S1,  φ_R1,  Q_S1,  Q_R1 )\n",
      "IMPORTANT: Flux and Charge operators of this expression are dimensionless.\n",
      "----------------------------------------------------------------------\n"
     ]
    }
   ],
   "source": [
    "C_J1 = Capacitor(value = 1, unit='pF')\n",
    "C_J2 = Capacitor(value = 1, unit='pF')\n",
    "L = Inductor(value = 1, unit = 'nH')\n",
    "J1 = Junction(value = 1, unit = 'GHz', cap = C_J1)\n",
    "J2 = Junction(value = 1, unit = 'GHz', cap = C_J2)\n",
    "\n",
    "elements_d = [(0,1,J1),(1,2,J2),(2,0,L)]\n",
    "\n",
    "cr_d = Circuit(elements_d)\n",
    "\n",
    "cr_d.Hamiltonian_expression()"
   ]
  },
  {
   "cell_type": "markdown",
   "metadata": {},
   "source": [
    "#### E- Transmon  "
   ]
  },
  {
   "cell_type": "code",
   "execution_count": 6,
   "metadata": {},
   "outputs": [
    {
     "name": "stdout",
     "output_type": "stream",
     "text": [
      "----------------------------------------------------------------------\n",
      "Quantum Hamiltonian:\n",
      "H/ℏ (GHz) =  + 3.000 (Q_S1)^2  - 50.000 cos(v_0 ξ)\n",
      "\n",
      "Vectors v: [[-0.577  0.   ]]\n",
      "Variable vectors ξᵀ: ( φ_S1,  Q_S1,  IMPORTANT: Flux and Charge operators of this expression are dimensionless.\n",
      "----------------------------------------------------------------------\n"
     ]
    }
   ],
   "source": [
    "C_J = Capacitor(value = 1, unit='GHz')\n",
    "C = Capacitor(value = 1, unit='GHz')\n",
    "J = Junction(value = 50, unit = 'GHz', cap = C_J)\n",
    "\n",
    "\n",
    "elements_e = [(0,1,J),(1,0,C)]\n",
    "\n",
    "cr_e = Circuit(elements_e)\n",
    "\n",
    "cr_e.Hamiltonian_expression()"
   ]
  },
  {
   "cell_type": "markdown",
   "metadata": {},
   "source": [
    "## Some tests and other things"
   ]
  },
  {
   "cell_type": "code",
   "execution_count": 7,
   "metadata": {},
   "outputs": [
    {
     "name": "stdout",
     "output_type": "stream",
     "text": [
      "----------------------------------------------------------------------\n",
      "Quantum Hamiltonian:\n",
      "H/ℏ (GHz) = + 25.820 [(φ_R1)^2 + (Q_R1)^2]  + 4.094 Q_R1 Q_S1  + 0.649 (Q_S1)^2  - 1.000 cos(v_0 ξ)\n",
      "\n",
      "Vectors v: [[1. 0. 0. 0.]]\n",
      "Variable vectors ξᵀ: ( φ_S1,  φ_R1,  Q_S1,  Q_R1 )\n",
      "IMPORTANT: Flux and Charge operators of this expression are dimensionless.\n",
      "----------------------------------------------------------------------\n"
     ]
    }
   ],
   "source": [
    "# COUPLED OSCILLATORS\n",
    "np.set_printoptions(linewidth=150, threshold=np.inf)\n",
    "\n",
    "C1 = Capacitor(value = 1, unit='pF')\n",
    "C2 = Capacitor(value = 1, unit='pF')\n",
    "Cg = Capacitor(value = 2, unit='pF')\n",
    "L1 = Inductor(value = 1, unit = 'nH')\n",
    "L2 = Inductor(value = 1, unit = 'nH')\n",
    "J = Junction(value = 1, unit = 'GHz', cap = C1)\n",
    "\n",
    "coupled_oscillators = [(0,1,J), (1,2,Cg), (2,0,L2),(2,0,C2)]\n",
    "coupled_oscillators = [(0,1,J), (1,2,Cg), (2,3,L2),(2,3,C2), (3,0,Cg)]\n",
    "#coupled_oscillators = [(0,1,J), (1,2,Cg), (2,0,J)]\n",
    "#coupled_oscillators = [(0,1,J), (1,2,Cg), (2,3,L2),(2,3,C2),(3,4,Cg),(4,0,J)]\n",
    "#coupled_oscillators = [(0,1,L), (0,1,C), (1,2,Cg), (2,3,L2),(2,3,C2),(3,4,Cg),(4,0,L),(4,0,C)]\n",
    "\n",
    "cr = Circuit(coupled_oscillators)\n",
    "\n",
    "cr.Hamiltonian_expression()\n",
    "\n",
    "\n"
   ]
  },
  {
   "cell_type": "code",
   "execution_count": 8,
   "metadata": {},
   "outputs": [
    {
     "name": "stdout",
     "output_type": "stream",
     "text": [
      "----------------------------------------------------------------------\n",
      "Quantum Hamiltonian:\n",
      "H/ℏ (GHz) = + 15.811 [(φ_R1)^2 + (Q_R1)^2] + 31.623 [(φ_R2)^2 + (Q_R2)^2] + 31.623 [(φ_R3)^2 + (Q_R3)^2]  + 0.000 Q_R2 Q_S1 \n",
      "\n",
      "Vectors v: []\n",
      "Variable vectors ξᵀ: ( φ_R1,  φ_R2,  φ_R3,  Q_R1,  Q_R2,  Q_R3 )\n",
      "IMPORTANT: Flux and Charge operators of this expression are dimensionless.\n",
      "----------------------------------------------------------------------\n"
     ]
    }
   ],
   "source": [
    "C = Capacitor(value = 1, unit='pF')\n",
    "Cg = Capacitor(value = 2, unit='pF')\n",
    "L = Inductor(value = 1, unit = 'nH')\n",
    "J = Junction(value = 1, unit = 'GHz', cap = C1)\n",
    "\n",
    "coupled_oscillators1 = [(0,1,L), (0,1,C), (1,2,Cg), (2,3,L2),(2,3,C2),(3,4,Cg),(4,0,L),(4,0,C)]\n",
    "cr1 = Circuit(coupled_oscillators1)\n",
    "\n",
    "cr1.Hamiltonian_expression()\n"
   ]
  },
  {
   "cell_type": "code",
   "execution_count": 9,
   "metadata": {},
   "outputs": [
    {
     "name": "stdout",
     "output_type": "stream",
     "text": [
      "----------------------------------------------------------------------\n",
      "Diagonalized quantum Hamiltonian:\n",
      "H/ℏ =  27.889 GHz · (a†_1 a_1)\n",
      "----------------------------------------------------------------------\n",
      "----------------------------------------------------------------------\n",
      "Quantum Hamiltonian:\n",
      "H/ℏ (GHz) = + 27.889 [(φ_R1)^2 + (Q_R1)^2]  + -3.714 Q_R1 Q_S1  + 0.541 (Q_S1)^2  + 0.974 (Q_S2)^2  - 1.000 cos(v_0 ξ)  - 1.000 cos(v_1 ξ)\n",
      "\n",
      "Vectors v: [[1. 0. 0. 0. 0. 0.]\n",
      " [0. 1. 0. 0. 0. 0.]]\n",
      "Variable vectors ξᵀ: ( φ_S1,  φ_S2,  φ_R1,  Q_S1,  Q_S2,  Q_R1 )\n",
      "IMPORTANT: Flux and Charge operators of this expression are dimensionless.\n",
      "----------------------------------------------------------------------\n"
     ]
    }
   ],
   "source": [
    "coupled_oscillators2 = [(0,1,J), (1,2,Cg), (2,3,L2),(2,3,C2),(3,4,Cg),(4,5,J), (5,0,Cg)]\n",
    "\n",
    "#coupled_oscillators2 = [(0,1,J), (1,2,Cg), (2,3,L2),(2,3,C2),(3,4,Cg),(4,5,L2),(4,5,C2), (5,6,Cg), (6,7,L2), (6,7,C2),(7,0,Cg)]\n",
    "\n",
    "cr2 = Circuit(coupled_oscillators2)\n",
    "\n",
    "cr2.diagonal_harmonic_Hamiltonian_expression()\n",
    "cr2.Hamiltonian_expression()"
   ]
  },
  {
   "cell_type": "code",
   "execution_count": 10,
   "metadata": {},
   "outputs": [],
   "source": [
    "C = Capacitor(value = 1, unit='GHz')\n",
    "L = Inductor(value = 1, unit = 'GHz')\n",
    "elements = [(0,2,C), (0,1,L), (1,2,L)] \n",
    "\n",
    "cr = Circuit(elements)\n",
    "\n"
   ]
  }
 ],
 "metadata": {
  "kernelspec": {
   "display_name": "Proyect1",
   "language": "python",
   "name": "python3"
  },
  "language_info": {
   "codemirror_mode": {
    "name": "ipython",
    "version": 3
   },
   "file_extension": ".py",
   "mimetype": "text/x-python",
   "name": "python",
   "nbconvert_exporter": "python",
   "pygments_lexer": "ipython3",
   "version": "3.12.3"
  }
 },
 "nbformat": 4,
 "nbformat_minor": 2
}
