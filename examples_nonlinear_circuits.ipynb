{
 "cells": [
  {
   "cell_type": "code",
   "execution_count": 1,
   "metadata": {},
   "outputs": [],
   "source": [
    "from QuantumSCC import *\n",
    "import numpy as np"
   ]
  },
  {
   "cell_type": "markdown",
   "metadata": {},
   "source": [
    "## Non-linear tests"
   ]
  },
  {
   "cell_type": "markdown",
   "metadata": {},
   "source": [
    "#### An LC oscillator coupled capacitively to a Josephson junction"
   ]
  },
  {
   "cell_type": "markdown",
   "metadata": {},
   "source": []
  },
  {
   "cell_type": "code",
   "execution_count": 2,
   "metadata": {},
   "outputs": [
    {
     "name": "stdout",
     "output_type": "stream",
     "text": [
      "vector_JJ:\n",
      "[[-6.56e-32+0.j]\n",
      " [ 8.41e-01+0.j]\n",
      " [ 2.51e-16+0.j]\n",
      " [ 0.00e+00+0.j]]\n",
      "-----------------------------\n",
      "Quadratic Hamiltonian:\n",
      "[[ 1.63e+02+0.j  0.00e+00+0.j  3.54e-14+0.j -4.70e-15+0.j]\n",
      " [ 0.00e+00+0.j  0.00e+00+0.j  0.00e+00+0.j  0.00e+00+0.j]\n",
      " [ 3.54e-14+0.j  0.00e+00+0.j  1.03e-01+0.j -6.14e-02+0.j]\n",
      " [-4.70e-15+0.j  0.00e+00+0.j -6.14e-02+0.j  1.46e-01+0.j]]\n",
      "-----------------------------\n",
      "linear Quadratic Hamiltonian:\n",
      "[[1.63e+02+0.j 3.54e-14+0.j]\n",
      " [3.54e-14+0.j 1.03e-01+0.j]]\n",
      "-----------------------------\n",
      "nonlinear Quadratic Hamiltonian:\n",
      "[[0.  +0.j 0.  +0.j]\n",
      " [0.  +0.j 0.15+0.j]]\n",
      "-----------------------------\n",
      "interaction quadratic Hamiltonian\n",
      "[[ 0.00e+00+0.j  0.00e+00+0.j  0.00e+00+0.j -4.70e-15+0.j]\n",
      " [ 0.00e+00+0.j  0.00e+00+0.j  0.00e+00+0.j  0.00e+00+0.j]\n",
      " [ 0.00e+00+0.j  0.00e+00+0.j  0.00e+00+0.j -6.14e-02+0.j]\n",
      " [-4.70e-15+0.j  0.00e+00+0.j -6.14e-02+0.j  0.00e+00+0.j]]\n",
      "-----------------------------\n",
      "Caso: 1\n"
     ]
    }
   ],
   "source": [
    "C_L = Capacitor(value = 1, unit='pF')\n",
    "C_J = Capacitor(value = 1, unit='pF')\n",
    "Cg = Capacitor(value = 1, unit='pF')\n",
    "L = Inductor(value = 1, unit = 'nH')\n",
    "J = Junction(value = 1, unit = 'GHz', cap = C_J)\n",
    "\n",
    "elements_a = [(0,1,L),(0,1,C_L),(1,2,Cg), (2,0,J)]\n",
    "\n",
    "cr_a = Circuit(elements_a)"
   ]
  },
  {
   "cell_type": "code",
   "execution_count": 3,
   "metadata": {},
   "outputs": [
    {
     "name": "stdout",
     "output_type": "stream",
     "text": [
      "Hamiltonian:\n",
      "[[ 4.11e+00+0.j -9.83e-16+0.j]\n",
      " [-9.83e-16+0.j  4.11e+00+0.j]]\n",
      "Basis change matrix, T\n",
      "[[-1.59e-01  1.40e-15]\n",
      " [ 0.00e+00 -6.31e+00]]\n",
      "Hamiltoniano final:\n",
      "[[ 4.11e+00-4.93e-31j -4.44e-16-9.83e-16j]\n",
      " [-4.44e-16+9.83e-16j  4.11e+00+4.93e-31j]]\n",
      "[[0.  +0.j 0.  +0.j]\n",
      " [0.  +0.j 0.15+0.j]]\n",
      "[[-6.56e-32+0.j  8.41e-01+0.j  2.51e-16+0.j  0.00e+00+0.j -5.81e-49+0.j]\n",
      " [ 1.00e+00+0.j  0.00e+00+0.j  1.68e-16+0.j  0.00e+00+0.j  1.02e-16+0.j]\n",
      " [ 1.45e-17+0.j  0.00e+00+0.j  1.08e-17+0.j  5.95e-01+0.j  7.07e-01+0.j]\n",
      " [ 1.53e-16+0.j  0.00e+00+0.j  5.91e-17+0.j -5.95e-01+0.j  7.07e-01+0.j]\n",
      " [-6.16e-33+0.j  0.00e+00+0.j  1.00e+00+0.j  0.00e+00+0.j -2.40e-17+0.j]]\n"
     ]
    }
   ],
   "source": [
    "print(\"Hamiltonian:\")\n",
    "print(cr_a.linear_canonical_hamiltonian)\n",
    "\n",
    "print(\"Basis change matrix, T\")\n",
    "print(cr_a.T)\n",
    "\n",
    "print(\"Hamiltoniano final:\")\n",
    "print(cr_a.linear_quantum_hamiltonian)\n",
    "\n",
    "print(cr_a.nonlinear_quadratic_hamiltonian)\n",
    "\n",
    "print(cr_a.V)"
   ]
  },
  {
   "cell_type": "markdown",
   "metadata": {},
   "source": [
    "#### A Josephson Junction in parallel to an inductor and a capacitor"
   ]
  },
  {
   "cell_type": "code",
   "execution_count": 4,
   "metadata": {},
   "outputs": [
    {
     "name": "stdout",
     "output_type": "stream",
     "text": [
      "vector_JJ:\n",
      "[[1.]\n",
      " [0.]\n",
      " [0.]\n",
      " [0.]]\n",
      "-----------------------------\n",
      "Quadratic Hamiltonian:\n",
      "[[ 1.63e+02 -1.63e+02  0.00e+00  0.00e+00]\n",
      " [-1.63e+02  1.63e+02  0.00e+00  0.00e+00]\n",
      " [ 0.00e+00  0.00e+00  1.55e-01  0.00e+00]\n",
      " [ 0.00e+00  0.00e+00  0.00e+00  1.55e-01]]\n",
      "-----------------------------\n",
      "linear Quadratic Hamiltonian:\n",
      "[[1.63e+02 0.00e+00]\n",
      " [0.00e+00 1.55e-01]]\n",
      "-----------------------------\n",
      "nonlinear Quadratic Hamiltonian:\n",
      "[[1.63e+02 0.00e+00]\n",
      " [0.00e+00 1.55e-01]]\n",
      "-----------------------------\n",
      "interaction quadratic Hamiltonian\n",
      "[[   0.   -163.46    0.      0.  ]\n",
      " [-163.46    0.      0.      0.  ]\n",
      " [   0.      0.      0.      0.  ]\n",
      " [   0.      0.      0.      0.  ]]\n",
      "-----------------------------\n",
      "Caso: 2\n"
     ]
    }
   ],
   "source": [
    "C = Capacitor(value = 1, unit='pF')\n",
    "C_J = Capacitor(value = 1, unit='pF')\n",
    "L = Inductor(value = 1, unit = 'nH')\n",
    "J = Junction(value = 1, unit = 'GHz', cap = C_J)\n",
    "\n",
    "elements_b = [(0,1,J),(1,2,L),(2,0,C)]\n",
    "\n",
    "cr_b = Circuit(elements_b)"
   ]
  },
  {
   "cell_type": "markdown",
   "metadata": {},
   "source": [
    "#### A Josephson junction in parallel to an inductor"
   ]
  },
  {
   "cell_type": "code",
   "execution_count": 5,
   "metadata": {},
   "outputs": [
    {
     "name": "stdout",
     "output_type": "stream",
     "text": [
      "vector_JJ:\n",
      "[[1.+0.j]\n",
      " [0.+0.j]]\n",
      "-----------------------------\n",
      "Quadratic Hamiltonian:\n",
      "[[1.63e+02+0.j 0.00e+00+0.j]\n",
      " [0.00e+00+0.j 1.55e-01+0.j]]\n",
      "-----------------------------\n",
      "linear Quadratic Hamiltonian:\n",
      "[]\n",
      "-----------------------------\n",
      "nonlinear Quadratic Hamiltonian:\n",
      "[[1.63e+02+0.j 0.00e+00+0.j]\n",
      " [0.00e+00+0.j 1.55e-01+0.j]]\n",
      "-----------------------------\n",
      "interaction quadratic Hamiltonian\n",
      "[[0.+0.j 0.+0.j]\n",
      " [0.+0.j 0.+0.j]]\n",
      "-----------------------------\n",
      "Caso: 2\n"
     ]
    }
   ],
   "source": [
    "C_J = Capacitor(value = 1, unit='pF')\n",
    "L = Inductor(value = 1, unit = 'nH')\n",
    "J = Junction(value = 1, unit = 'GHz', cap = C_J)\n",
    "\n",
    "elements_c = [(0,1,J),(0,1,L)]\n",
    "\n",
    "cr_c = Circuit(elements_c)"
   ]
  },
  {
   "cell_type": "markdown",
   "metadata": {},
   "source": [
    "#### Two Josephson junction in series to an inductor"
   ]
  },
  {
   "cell_type": "code",
   "execution_count": 6,
   "metadata": {},
   "outputs": [
    {
     "name": "stdout",
     "output_type": "stream",
     "text": [
      "vector_JJ:\n",
      "[[ 1.+0.j  0.+0.j]\n",
      " [ 0.+0.j -1.+0.j]\n",
      " [ 0.+0.j  0.+0.j]\n",
      " [ 0.+0.j  0.+0.j]]\n",
      "-----------------------------\n",
      "Quadratic Hamiltonian:\n",
      "[[ 1.63e+02+0.j -1.63e+02+0.j  0.00e+00+0.j  0.00e+00+0.j]\n",
      " [-1.63e+02+0.j  1.63e+02+0.j  0.00e+00+0.j  0.00e+00+0.j]\n",
      " [ 0.00e+00+0.j  0.00e+00+0.j  1.55e-01+0.j  0.00e+00+0.j]\n",
      " [ 0.00e+00+0.j  0.00e+00+0.j  0.00e+00+0.j  1.55e-01+0.j]]\n",
      "-----------------------------\n",
      "linear Quadratic Hamiltonian:\n",
      "[]\n",
      "-----------------------------\n",
      "nonlinear Quadratic Hamiltonian:\n",
      "[[ 1.63e+02+0.j -1.63e+02+0.j  0.00e+00+0.j  0.00e+00+0.j]\n",
      " [-1.63e+02+0.j  1.63e+02+0.j  0.00e+00+0.j  0.00e+00+0.j]\n",
      " [ 0.00e+00+0.j  0.00e+00+0.j  1.55e-01+0.j  0.00e+00+0.j]\n",
      " [ 0.00e+00+0.j  0.00e+00+0.j  0.00e+00+0.j  1.55e-01+0.j]]\n",
      "-----------------------------\n",
      "interaction quadratic Hamiltonian\n",
      "[[0.+0.j 0.+0.j 0.+0.j 0.+0.j]\n",
      " [0.+0.j 0.+0.j 0.+0.j 0.+0.j]\n",
      " [0.+0.j 0.+0.j 0.+0.j 0.+0.j]\n",
      " [0.+0.j 0.+0.j 0.+0.j 0.+0.j]]\n",
      "-----------------------------\n",
      "Caso: 2\n"
     ]
    }
   ],
   "source": [
    "C_J1 = Capacitor(value = 1, unit='pF')\n",
    "C_J2 = Capacitor(value = 1, unit='pF')\n",
    "L = Inductor(value = 1, unit = 'nH')\n",
    "J1 = Junction(value = 1, unit = 'GHz', cap = C_J1)\n",
    "J2 = Junction(value = 1, unit = 'GHz', cap = C_J2)\n",
    "\n",
    "elements_d = [(0,1,J1),(1,2,J2),(2,0,L)]\n",
    "\n",
    "cr_d = Circuit(elements_d)"
   ]
  },
  {
   "cell_type": "markdown",
   "metadata": {},
   "source": [
    "## Some tests and other things"
   ]
  },
  {
   "cell_type": "code",
   "execution_count": 7,
   "metadata": {},
   "outputs": [
    {
     "name": "stdout",
     "output_type": "stream",
     "text": [
      "vector_JJ:\n",
      "[[-2.51e-16+0.j]\n",
      " [ 8.41e-01+0.j]\n",
      " [ 0.00e+00+0.j]\n",
      " [ 0.00e+00+0.j]]\n",
      "-----------------------------\n",
      "Quadratic Hamiltonian:\n",
      "[[ 1.63e+02+0.j  0.00e+00+0.j  0.00e+00+0.j  0.00e+00+0.j]\n",
      " [ 0.00e+00+0.j  0.00e+00+0.j  0.00e+00+0.j  0.00e+00+0.j]\n",
      " [ 0.00e+00+0.j  0.00e+00+0.j  1.03e-01+0.j -6.14e-02+0.j]\n",
      " [ 0.00e+00+0.j  0.00e+00+0.j -6.14e-02+0.j  1.46e-01+0.j]]\n",
      "-----------------------------\n",
      "linear Quadratic Hamiltonian:\n",
      "[[1.63e+02+0.j 0.00e+00+0.j]\n",
      " [0.00e+00+0.j 1.03e-01+0.j]]\n",
      "-----------------------------\n",
      "nonlinear Quadratic Hamiltonian:\n",
      "[[0.  +0.j 0.  +0.j]\n",
      " [0.  +0.j 0.15+0.j]]\n",
      "-----------------------------\n",
      "interaction quadratic Hamiltonian\n",
      "[[ 0.  +0.j  0.  +0.j  0.  +0.j  0.  +0.j]\n",
      " [ 0.  +0.j  0.  +0.j  0.  +0.j  0.  +0.j]\n",
      " [ 0.  +0.j  0.  +0.j  0.  +0.j -0.06+0.j]\n",
      " [ 0.  +0.j  0.  +0.j -0.06+0.j  0.  +0.j]]\n",
      "-----------------------------\n",
      "Caso: 1\n",
      "Hamiltonian:\n",
      "[[4.11+0.j 0.  +0.j]\n",
      " [0.  +0.j 4.11+0.j]]\n",
      "Basis change matrix, T\n",
      "[[-0.16 -0.  ]\n",
      " [ 0.   -6.31]]\n",
      "Hamiltoniano final:\n",
      "[[ 4.11e+00+0.j -4.44e-16+0.j]\n",
      " [-4.44e-16+0.j  4.11e+00+0.j]]\n",
      "[[0.  +0.j 0.  +0.j]\n",
      " [0.  +0.j 0.15+0.j]]\n",
      "[[-2.51e-16+0.j  8.41e-01+0.j  0.00e+00+0.j  0.00e+00+0.j  0.00e+00+0.j  0.00e+00+0.j]\n",
      " [ 0.00e+00+0.j  0.00e+00+0.j  0.00e+00+0.j  0.00e+00+0.j  0.00e+00+0.j  1.00e+00+0.j]\n",
      " [ 1.00e+00+0.j  0.00e+00+0.j  0.00e+00+0.j  0.00e+00+0.j  0.00e+00+0.j  0.00e+00+0.j]\n",
      " [ 0.00e+00+0.j  0.00e+00+0.j  9.37e-17+0.j -5.95e-01+0.j  7.07e-01+0.j  0.00e+00+0.j]\n",
      " [ 0.00e+00+0.j  0.00e+00+0.j -9.37e-17+0.j  5.95e-01+0.j  7.07e-01+0.j  0.00e+00+0.j]\n",
      " [ 0.00e+00+0.j  0.00e+00+0.j  1.00e+00+0.j  0.00e+00+0.j  3.13e-17+0.j  0.00e+00+0.j]]\n"
     ]
    }
   ],
   "source": [
    "# COUPLED OSCILLATORS\n",
    "np.set_printoptions(linewidth=150, threshold=np.inf)\n",
    "\n",
    "C1 = Capacitor(value = 1, unit='pF')\n",
    "C2 = Capacitor(value = 1, unit='pF')\n",
    "Cg = Capacitor(value = 2, unit='pF')\n",
    "L1 = Inductor(value = 1, unit = 'nH')\n",
    "L2 = Inductor(value = 1, unit = 'nH')\n",
    "J = Junction(value = 1, unit = 'GHz', cap = C1)\n",
    "\n",
    "coupled_oscillators = [(0,1,J), (1,2,Cg), (2,0,L2),(2,0,C2)]\n",
    "coupled_oscillators = [(0,1,J), (1,2,Cg), (2,3,L2),(2,3,C2), (3,0,Cg)]\n",
    "#coupled_oscillators = [(0,1,J), (1,2,Cg), (2,0,J)]\n",
    "#coupled_oscillators = [(0,1,J), (1,2,Cg), (2,3,L2),(2,3,C2),(3,4,Cg),(4,0,J)]\n",
    "#coupled_oscillators = [(0,1,L), (0,1,C), (1,2,Cg), (2,3,L2),(2,3,C2),(3,4,Cg),(4,0,L),(4,0,C)]\n",
    "\n",
    "cr = Circuit(coupled_oscillators)\n",
    "\n",
    "\n",
    "print(\"Hamiltonian:\")\n",
    "print(cr.linear_canonical_hamiltonian)\n",
    "\n",
    "print(\"Basis change matrix, T\")\n",
    "print(cr.T)\n",
    "\n",
    "print(\"Hamiltoniano final:\")\n",
    "print(cr.linear_quantum_hamiltonian)\n",
    "\n",
    "print(cr.nonlinear_quadratic_hamiltonian)\n",
    "\n",
    "print(cr.V)\n",
    "\n"
   ]
  },
  {
   "cell_type": "code",
   "execution_count": 8,
   "metadata": {},
   "outputs": [
    {
     "name": "stdout",
     "output_type": "stream",
     "text": [
      "vector_JJ:\n",
      "[]\n",
      "-----------------------------\n",
      "Quadratic Hamiltonian:\n",
      "[[ 1.08e+02+0.j  1.58e-14+0.j -4.02e-14+0.j -8.06e-16+0.j  2.10e-14+0.j  3.69e-15+0.j]\n",
      " [ 8.39e-15+0.j  1.63e+02+0.j  8.38e-14+0.j  1.72e-14+0.j  3.06e-14+0.j  2.73e-15+0.j]\n",
      " [-4.88e-14+0.j  6.15e-14+0.j  3.49e+02+0.j  6.21e-14+0.j -2.64e-14+0.j  1.02e-14+0.j]\n",
      " [-8.06e-16+0.j  1.72e-14+0.j  6.21e-14+0.j  6.82e-02+0.j  8.01e-17+0.j -2.23e-02+0.j]\n",
      " [ 2.10e-14+0.j  3.06e-14+0.j -2.64e-14+0.j  7.51e-17+0.j  1.55e-01+0.j -2.05e-18+0.j]\n",
      " [ 3.69e-15+0.j  2.73e-15+0.j  1.02e-14+0.j -2.23e-02+0.j  2.89e-18+0.j  6.95e-02+0.j]]\n",
      "-----------------------------\n",
      "linear Quadratic Hamiltonian:\n",
      "[[ 1.08e+02+0.j  1.58e-14+0.j -4.02e-14+0.j -8.06e-16+0.j  2.10e-14+0.j  3.69e-15+0.j]\n",
      " [ 8.39e-15+0.j  1.63e+02+0.j  8.38e-14+0.j  1.72e-14+0.j  3.06e-14+0.j  2.73e-15+0.j]\n",
      " [-4.88e-14+0.j  6.15e-14+0.j  3.49e+02+0.j  6.21e-14+0.j -2.64e-14+0.j  1.02e-14+0.j]\n",
      " [-8.06e-16+0.j  1.72e-14+0.j  6.21e-14+0.j  6.82e-02+0.j  8.01e-17+0.j -2.23e-02+0.j]\n",
      " [ 2.10e-14+0.j  3.06e-14+0.j -2.64e-14+0.j  7.51e-17+0.j  1.55e-01+0.j -2.05e-18+0.j]\n",
      " [ 3.69e-15+0.j  2.73e-15+0.j  1.02e-14+0.j -2.23e-02+0.j  2.89e-18+0.j  6.95e-02+0.j]]\n",
      "-----------------------------\n",
      "nonlinear Quadratic Hamiltonian:\n",
      "[]\n",
      "-----------------------------\n",
      "interaction quadratic Hamiltonian\n",
      "[[0.+0.j 0.+0.j 0.+0.j 0.+0.j 0.+0.j 0.+0.j]\n",
      " [0.+0.j 0.+0.j 0.+0.j 0.+0.j 0.+0.j 0.+0.j]\n",
      " [0.+0.j 0.+0.j 0.+0.j 0.+0.j 0.+0.j 0.+0.j]\n",
      " [0.+0.j 0.+0.j 0.+0.j 0.+0.j 0.+0.j 0.+0.j]\n",
      " [0.+0.j 0.+0.j 0.+0.j 0.+0.j 0.+0.j 0.+0.j]\n",
      " [0.+0.j 0.+0.j 0.+0.j 0.+0.j 0.+0.j 0.+0.j]]\n",
      "-----------------------------\n",
      "Caso: 1\n"
     ]
    }
   ],
   "source": [
    "C = Capacitor(value = 1, unit='pF')\n",
    "Cg = Capacitor(value = 2, unit='pF')\n",
    "L = Inductor(value = 1, unit = 'nH')\n",
    "J = Junction(value = 1, unit = 'GHz', cap = C1)\n",
    "\n",
    "coupled_oscillators1 = [(0,1,L), (0,1,C), (1,2,Cg), (2,3,L2),(2,3,C2),(3,4,Cg),(4,0,L),(4,0,C)]\n",
    "cr1 = Circuit(coupled_oscillators1)\n"
   ]
  },
  {
   "cell_type": "code",
   "execution_count": 9,
   "metadata": {},
   "outputs": [
    {
     "name": "stdout",
     "output_type": "stream",
     "text": [
      "vector_JJ:\n",
      "[[ 7.07e-01+0.j -7.07e-01+0.j]\n",
      " [-8.79e-17+0.j  3.08e-16+0.j]\n",
      " [ 5.37e-01+0.j  5.37e-01+0.j]\n",
      " [ 8.99e-18+0.j  8.09e-34+0.j]\n",
      " [-2.75e-18+0.j  8.24e-18+0.j]\n",
      " [ 6.35e-18+0.j  6.37e-18+0.j]]\n",
      "-----------------------------\n",
      "Quadratic Hamiltonian:\n",
      "[[ 5.74e-34+0.j  8.20e-35+0.j  2.51e-35+0.j  7.60e-18+0.j  2.35e-18+0.j -5.48e-18+0.j]\n",
      " [ 8.20e-35+0.j  1.63e+02+0.j  7.36e-36+0.j  1.51e-18+0.j  9.46e-20+0.j -2.20e-19+0.j]\n",
      " [ 2.51e-35+0.j  7.36e-36+0.j  5.47e-36+0.j  8.20e-19+0.j -1.77e-19+0.j  4.11e-19+0.j]\n",
      " [ 7.60e-18+0.j  1.51e-18+0.j  8.20e-19+0.j  1.55e-01+0.j -4.41e-19+0.j -6.41e-18+0.j]\n",
      " [ 2.35e-18+0.j  9.46e-20+0.j -1.77e-19+0.j  1.34e-18+0.j  1.21e-01+0.j -6.41e-02+0.j]\n",
      " [-5.48e-18+0.j -2.20e-19+0.j  4.11e-19+0.j -8.97e-18+0.j -6.41e-02+0.j  1.49e-01+0.j]]\n",
      "-----------------------------\n",
      "linear Quadratic Hamiltonian:\n",
      "[[1.63e+02+0.j 9.46e-20+0.j]\n",
      " [9.46e-20+0.j 1.21e-01+0.j]]\n",
      "-----------------------------\n",
      "nonlinear Quadratic Hamiltonian:\n",
      "[[ 5.74e-34+0.j  2.51e-35+0.j  7.60e-18+0.j -5.48e-18+0.j]\n",
      " [ 2.51e-35+0.j  5.47e-36+0.j  8.20e-19+0.j  4.11e-19+0.j]\n",
      " [ 7.60e-18+0.j  8.20e-19+0.j  1.55e-01+0.j -6.41e-18+0.j]\n",
      " [-5.48e-18+0.j  4.11e-19+0.j -8.97e-18+0.j  1.49e-01+0.j]]\n",
      "-----------------------------\n",
      "interaction quadratic Hamiltonian\n",
      "[[ 0.00e+00+0.j  8.20e-35+0.j  0.00e+00+0.j  0.00e+00+0.j  2.35e-18+0.j  0.00e+00+0.j]\n",
      " [ 8.20e-35+0.j  0.00e+00+0.j  7.36e-36+0.j  1.51e-18+0.j  0.00e+00+0.j -2.20e-19+0.j]\n",
      " [ 0.00e+00+0.j  7.36e-36+0.j  0.00e+00+0.j  0.00e+00+0.j -1.77e-19+0.j  0.00e+00+0.j]\n",
      " [ 0.00e+00+0.j  1.51e-18+0.j  0.00e+00+0.j  0.00e+00+0.j -4.41e-19+0.j  0.00e+00+0.j]\n",
      " [ 2.35e-18+0.j  0.00e+00+0.j -1.77e-19+0.j  1.34e-18+0.j  0.00e+00+0.j -6.41e-02+0.j]\n",
      " [ 0.00e+00+0.j -2.20e-19+0.j  0.00e+00+0.j  0.00e+00+0.j -6.41e-02+0.j  0.00e+00+0.j]]\n",
      "-----------------------------\n",
      "Caso: 1\n"
     ]
    }
   ],
   "source": [
    "coupled_oscillators2 = [(0,1,J), (1,2,Cg), (2,3,L2),(2,3,C2),(3,4,Cg),(4,5,J), (5,0,Cg)]\n",
    "\n",
    "cr2 = Circuit(coupled_oscillators2)"
   ]
  },
  {
   "cell_type": "code",
   "execution_count": 10,
   "metadata": {},
   "outputs": [
    {
     "name": "stdout",
     "output_type": "stream",
     "text": [
      "vector_JJ:\n",
      "[]\n",
      "-----------------------------\n",
      "Quadratic Hamiltonian:\n",
      "[[1.+0.j 0.+0.j]\n",
      " [0.+0.j 2.+0.j]]\n",
      "-----------------------------\n",
      "linear Quadratic Hamiltonian:\n",
      "[[1.+0.j 0.+0.j]\n",
      " [0.+0.j 2.+0.j]]\n",
      "-----------------------------\n",
      "nonlinear Quadratic Hamiltonian:\n",
      "[]\n",
      "-----------------------------\n",
      "interaction quadratic Hamiltonian\n",
      "[[0.+0.j 0.+0.j]\n",
      " [0.+0.j 0.+0.j]]\n",
      "-----------------------------\n",
      "Caso: 1\n",
      "[[1.+0.j 0.+0.j]\n",
      " [0.+0.j 2.+0.j]]\n"
     ]
    }
   ],
   "source": [
    "C = Capacitor(value = 1, unit='GHz')\n",
    "L = Inductor(value = 1, unit = 'GHz')\n",
    "elements = [(0,2,C), (0,1,L), (1,2,L)] \n",
    "\n",
    "cr = Circuit(elements)\n",
    "\n",
    "print(cr.linear_quadratic_hamiltonian)"
   ]
  }
 ],
 "metadata": {
  "kernelspec": {
   "display_name": "Proyect1",
   "language": "python",
   "name": "python3"
  },
  "language_info": {
   "codemirror_mode": {
    "name": "ipython",
    "version": 3
   },
   "file_extension": ".py",
   "mimetype": "text/x-python",
   "name": "python",
   "nbconvert_exporter": "python",
   "pygments_lexer": "ipython3",
   "version": "3.12.3"
  }
 },
 "nbformat": 4,
 "nbformat_minor": 2
}
