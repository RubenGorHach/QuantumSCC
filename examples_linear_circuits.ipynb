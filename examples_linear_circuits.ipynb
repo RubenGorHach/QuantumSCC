{
 "cells": [
  {
   "cell_type": "markdown",
   "metadata": {},
   "source": [
    "# Linear circuit examples"
   ]
  },
  {
   "cell_type": "code",
   "execution_count": 1,
   "metadata": {},
   "outputs": [],
   "source": [
    "from QuantumSCC import *"
   ]
  },
  {
   "cell_type": "markdown",
   "metadata": {},
   "source": [
    "## Masther thesis examples"
   ]
  },
  {
   "cell_type": "markdown",
   "metadata": {},
   "source": [
    "#### 1- LC oscillator"
   ]
  },
  {
   "cell_type": "code",
   "execution_count": 2,
   "metadata": {},
   "outputs": [
    {
     "name": "stdout",
     "output_type": "stream",
     "text": [
      "----------------------------------------------------------------------\n",
      "Diagonalized quantum Hamiltonian:\n",
      "H/ℏ =  3.162 GHz · (a†_1 a_1)\n",
      "----------------------------------------------------------------------\n"
     ]
    }
   ],
   "source": [
    "# Set components properties\n",
    "C = Capacitor(value = 0.1, unit='nF')\n",
    "L = Inductor(value = 1, unit = 'nH')\n",
    "\n",
    "# Set circuit topology\n",
    "LC_topology = [(0,1,L), (0,1,C)]\n",
    "\n",
    "# Introduce the circuit topology into the Circuit class\n",
    "LC_circuit = Circuit(LC_topology)\n",
    "\n",
    "# Print the diagonalized quantum Hamiltonian\n",
    "LC_circuit.diagonal_harmonic_Hamiltonian_expression(precision=3)\n"
   ]
  },
  {
   "cell_type": "markdown",
   "metadata": {},
   "source": [
    "#### 2- Capacitively coupled LC oscillators"
   ]
  },
  {
   "cell_type": "code",
   "execution_count": 3,
   "metadata": {},
   "outputs": [
    {
     "name": "stdout",
     "output_type": "stream",
     "text": [
      "----------------------------------------------------------------------\n",
      "Diagonalized quantum Hamiltonian:\n",
      "H/ℏ =  1.414 GHz · (a†_1 a_1) +  3.162 GHz · (a†_2 a_2)\n",
      "----------------------------------------------------------------------\n"
     ]
    }
   ],
   "source": [
    "# Set components properties\n",
    "C = Capacitor(value = 0.1, unit='nF')\n",
    "Cg = Capacitor(value = 0.2, unit='nF')\n",
    "L = Inductor(value = 1, unit = 'nH')\n",
    "\n",
    "# Set circuit topology\n",
    "coupled_LC_topology = [(0,1,L), (1,2,Cg), (2,0,L), (0,1,C),(2,0,C)]\n",
    "\n",
    "# Introduce the circuit topology into the Circuit class\n",
    "coupled_LC_circuit = Circuit(coupled_LC_topology)\n",
    "\n",
    "# Print the diagonalized quantum Hamiltonian\n",
    "coupled_LC_circuit.diagonal_harmonic_Hamiltonian_expression(precision=3)"
   ]
  },
  {
   "cell_type": "markdown",
   "metadata": {},
   "source": [
    "## Further examples"
   ]
  },
  {
   "cell_type": "markdown",
   "metadata": {},
   "source": [
    "#### 3- Two capacitors in parallel with an inductor"
   ]
  },
  {
   "cell_type": "code",
   "execution_count": 4,
   "metadata": {},
   "outputs": [
    {
     "name": "stdout",
     "output_type": "stream",
     "text": [
      "----------------------------------------------------------------------\n",
      "Diagonalized quantum Hamiltonian:\n",
      "H/ℏ =  1.826 GHz · (a†_1 a_1)\n",
      "----------------------------------------------------------------------\n"
     ]
    }
   ],
   "source": [
    "# Set components properties\n",
    "C1 = Capacitor(value = 0.1, unit='nF')\n",
    "C2 = Capacitor(value = 0.2, unit='nF')\n",
    "L = Inductor(value = 1, unit = 'nH')\n",
    "\n",
    "# Set circuit topology\n",
    "example3_topology = [(0,1,C1),(0,1,C2),(0,1,L)]\n",
    "\n",
    "# Introduce the circuit topology into the Circuit class\n",
    "example3_circuit = Circuit(example3_topology)\n",
    "\n",
    "# Print the diagonalized quantum Hamiltonian\n",
    "example3_circuit.diagonal_harmonic_Hamiltonian_expression()"
   ]
  },
  {
   "cell_type": "markdown",
   "metadata": {},
   "source": [
    "#### 4- two capacitors and 1 inductor, all in series"
   ]
  },
  {
   "cell_type": "code",
   "execution_count": 5,
   "metadata": {},
   "outputs": [
    {
     "name": "stdout",
     "output_type": "stream",
     "text": [
      "----------------------------------------------------------------------\n",
      "Diagonalized quantum Hamiltonian:\n",
      "H/ℏ =  3.873 GHz · (a†_1 a_1)\n",
      "----------------------------------------------------------------------\n"
     ]
    }
   ],
   "source": [
    "# Set components properties\n",
    "C1 = Capacitor(value = 0.1, unit='nF')\n",
    "C2 = Capacitor(value = 0.2, unit='nF')\n",
    "L = Inductor(value = 1, unit = 'nH')\n",
    "\n",
    "# Set circuit topology\n",
    "example4_topology = [(0,1,C1),(1,2,C2),(2,0,L)]\n",
    "\n",
    "# Introduce the circuit topology into the Circuit class\n",
    "example4_circuit = Circuit(example4_topology)\n",
    "\n",
    "# Print the diagonalized quantum Hamiltonian\n",
    "example4_circuit.diagonal_harmonic_Hamiltonian_expression()"
   ]
  },
  {
   "cell_type": "markdown",
   "metadata": {},
   "source": [
    "#### 5- Symmetrical star circuit"
   ]
  },
  {
   "cell_type": "code",
   "execution_count": 6,
   "metadata": {},
   "outputs": [
    {
     "name": "stdout",
     "output_type": "stream",
     "text": [
      "----------------------------------------------------------------------\n",
      "Diagonalized quantum Hamiltonian:\n",
      "H/ℏ =  1.826 GHz · (a†_1 a_1) +  1.826 GHz · (a†_2 a_2)\n",
      "----------------------------------------------------------------------\n"
     ]
    }
   ],
   "source": [
    "# Set components properties\n",
    "C = Capacitor(value = 0.1, unit='nF')\n",
    "L = Inductor(value = 1, unit = 'nH')\n",
    "\n",
    "# Set circuit topology\n",
    "star_topology= [(0,1,C), (1,2,C), (2,0,C), (0,3,L), (1,3,L), (2,3,L)]\n",
    "\n",
    "# Introduce the circuit topology into the Circuit class\n",
    "star_circuit = Circuit(star_topology)\n",
    "\n",
    "# Print the diagonalized quantum Hamiltonian\n",
    "star_circuit.diagonal_harmonic_Hamiltonian_expression()\n"
   ]
  }
 ],
 "metadata": {
  "kernelspec": {
   "display_name": "Proyect1",
   "language": "python",
   "name": "python3"
  },
  "language_info": {
   "codemirror_mode": {
    "name": "ipython",
    "version": 3
   },
   "file_extension": ".py",
   "mimetype": "text/x-python",
   "name": "python",
   "nbconvert_exporter": "python",
   "pygments_lexer": "ipython3",
   "version": "3.12.3"
  }
 },
 "nbformat": 4,
 "nbformat_minor": 2
}
