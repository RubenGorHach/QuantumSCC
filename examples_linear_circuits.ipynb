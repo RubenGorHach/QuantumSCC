{
 "cells": [
  {
   "cell_type": "code",
   "execution_count": 80,
   "metadata": {},
   "outputs": [],
   "source": [
    "from QuantumSCC import *\n",
    "import numpy as np"
   ]
  },
  {
   "cell_type": "code",
   "execution_count": 81,
   "metadata": {},
   "outputs": [
    {
     "name": "stdout",
     "output_type": "stream",
     "text": [
      "Number of compact flux variables: 0\n",
      "Number of variables: 2\n",
      "-----------------------------\n",
      "vector_JJ:\n",
      "[]\n",
      "-----------------------------\n",
      "total Hamiltonian\n",
      "[[108.97425427   0.        ]\n",
      " [  0.           0.46488549]]\n",
      "-----------------------------\n",
      "compact quadratic hamiltonian\n",
      "[]\n",
      "-----------------------------\n",
      "extended quadratic hamiltonian\n",
      "[[108.97425427   0.        ]\n",
      " [  0.           0.46488549]]\n",
      "-----------------------------\n",
      "interaction quadratic hamiltonian\n",
      "[[0. 0.]\n",
      " [0. 0.]]\n",
      "-----------------------------\n",
      "Caso: 1\n",
      "----------------------------------------------------------------------\n",
      "Diagonalized quantum Hamiltonian:\n",
      "H/h (GHz) =  7.118 (a†_0 a_0 + 1/2)\n",
      "----------------------------------------------------------------------\n"
     ]
    }
   ],
   "source": [
    "C = Capacitor(value = 1, unit='pF')\n",
    "L = Inductor(value = 1, unit = 'nH')\n",
    "\n",
    "LC = [(0,1,L), (1,2,C),(2,0,C)]\n",
    "\n",
    "cr = Circuit(LC)\n",
    "\n",
    "cr.omega_symplectic\n",
    "\n",
    "cr.circuit_description()\n"
   ]
  },
  {
   "cell_type": "code",
   "execution_count": 82,
   "metadata": {},
   "outputs": [
    {
     "name": "stdout",
     "output_type": "stream",
     "text": [
      "Number of compact flux variables: 0\n",
      "Number of variables: 4\n",
      "-----------------------------\n",
      "vector_JJ:\n",
      "[]\n",
      "-----------------------------\n",
      "total Hamiltonian\n",
      "[[ 3.26922763e+02  1.63461381e+02  0.00000000e+00  0.00000000e+00]\n",
      " [ 1.63461381e+02  3.26922763e+02  0.00000000e+00  0.00000000e+00]\n",
      " [ 0.00000000e+00  0.00000000e+00  1.54961831e-01 -1.20415416e-18]\n",
      " [ 0.00000000e+00  0.00000000e+00 -2.86736987e-18  1.54961831e-01]]\n",
      "-----------------------------\n",
      "compact quadratic hamiltonian\n",
      "[]\n",
      "-----------------------------\n",
      "extended quadratic hamiltonian\n",
      "[[ 3.26922763e+02  1.63461381e+02  0.00000000e+00  0.00000000e+00]\n",
      " [ 1.63461381e+02  3.26922763e+02  0.00000000e+00  0.00000000e+00]\n",
      " [ 0.00000000e+00  0.00000000e+00  1.54961831e-01 -1.20415416e-18]\n",
      " [ 0.00000000e+00  0.00000000e+00 -2.86736987e-18  1.54961831e-01]]\n",
      "-----------------------------\n",
      "interaction quadratic hamiltonian\n",
      "[[0. 0. 0. 0.]\n",
      " [0. 0. 0. 0.]\n",
      " [0. 0. 0. 0.]\n",
      " [0. 0. 0. 0.]]\n",
      "-----------------------------\n",
      "Caso: 1\n",
      "----------------------------------------------------------------------\n",
      "Diagonalized quantum Hamiltonian:\n",
      "H/h (GHz) =  5.033 (a†_0 a_0 + 1/2) +  8.717 (a†_1 a_1 + 1/2)\n",
      "----------------------------------------------------------------------\n"
     ]
    }
   ],
   "source": [
    "C = Capacitor(value = 1, unit='pF')\n",
    "L = Inductor(value = 1, unit = 'nH')\n",
    "\n",
    "LC = [(0,1,L), (0,1,C),(1,2,L),(1,2,C),(2,0,L)]\n",
    "\n",
    "cr = Circuit(LC)\n",
    "\n",
    "cr.circuit_description()"
   ]
  },
  {
   "cell_type": "markdown",
   "metadata": {},
   "source": [
    "#### LC circuit"
   ]
  },
  {
   "cell_type": "code",
   "execution_count": 83,
   "metadata": {},
   "outputs": [
    {
     "name": "stdout",
     "output_type": "stream",
     "text": [
      "Number of compact flux variables: 0\n",
      "Number of variables: 2\n",
      "-----------------------------\n",
      "vector_JJ:\n",
      "[]\n",
      "-----------------------------\n",
      "total Hamiltonian\n",
      "[[1.63461381e+02 0.00000000e+00]\n",
      " [0.00000000e+00 1.54961831e-01]]\n",
      "-----------------------------\n",
      "compact quadratic hamiltonian\n",
      "[]\n",
      "-----------------------------\n",
      "extended quadratic hamiltonian\n",
      "[[1.63461381e+02 0.00000000e+00]\n",
      " [0.00000000e+00 1.54961831e-01]]\n",
      "-----------------------------\n",
      "interaction quadratic hamiltonian\n",
      "[[0. 0.]\n",
      " [0. 0.]]\n",
      "-----------------------------\n",
      "Caso: 1\n",
      "----------------------------------------------------------------------\n",
      "Diagonalized quantum Hamiltonian:\n",
      "H/h (GHz) =  5.033 (a†_0 a_0 + 1/2)\n",
      "----------------------------------------------------------------------\n"
     ]
    }
   ],
   "source": [
    "# LC circuit\n",
    "np.set_printoptions(linewidth=150, threshold=np.inf)\n",
    "\n",
    "#C = Capacitor(value = 1, unit='GHz')\n",
    "#L = Inductor(value = 1, unit = 'GHz')\n",
    "C = Capacitor(value = 1, unit='pF')\n",
    "L = Inductor(value = 1, unit = 'nH')\n",
    "\n",
    "LC = [(0,1,L), (0,1,C)]\n",
    "\n",
    "cr = Circuit(LC)\n",
    "\n",
    "cr.circuit_description()\n"
   ]
  },
  {
   "cell_type": "markdown",
   "metadata": {},
   "source": [
    "#### 2 Capacitors and 1 inductor, all in parallel"
   ]
  },
  {
   "cell_type": "code",
   "execution_count": 84,
   "metadata": {},
   "outputs": [
    {
     "name": "stdout",
     "output_type": "stream",
     "text": [
      "Number of compact flux variables: 0\n",
      "Number of variables: 2\n",
      "-----------------------------\n",
      "vector_JJ:\n",
      "[]\n",
      "-----------------------------\n",
      "total Hamiltonian\n",
      "[[1.63461381e+02 0.00000000e+00]\n",
      " [0.00000000e+00 7.74809153e-02]]\n",
      "-----------------------------\n",
      "compact quadratic hamiltonian\n",
      "[]\n",
      "-----------------------------\n",
      "extended quadratic hamiltonian\n",
      "[[1.63461381e+02 0.00000000e+00]\n",
      " [0.00000000e+00 7.74809153e-02]]\n",
      "-----------------------------\n",
      "interaction quadratic hamiltonian\n",
      "[[0. 0.]\n",
      " [0. 0.]]\n",
      "-----------------------------\n",
      "Caso: 1\n",
      "----------------------------------------------------------------------\n",
      "Diagonalized quantum Hamiltonian:\n",
      "H/h (GHz) =  3.559 (a†_0 a_0 + 1/2)\n",
      "----------------------------------------------------------------------\n"
     ]
    }
   ],
   "source": [
    "# 2 C and 1 L all in parallel\n",
    "np.set_printoptions(linewidth=150, threshold=np.inf)\n",
    "\n",
    "#C = Capacitor(value = 1, unit='GHz')\n",
    "#L = Inductor(value = 1, unit = 'GHz')\n",
    "C = Capacitor(value = 1, unit='pF')\n",
    "L = Inductor(value = 1, unit = 'nH')\n",
    "\n",
    "check1 = [(0,1,C),(0,1,C),(0,1,L)]\n",
    "cr = Circuit(check1)\n",
    "\n",
    "cr.circuit_description()\n"
   ]
  },
  {
   "cell_type": "code",
   "execution_count": 85,
   "metadata": {},
   "outputs": [
    {
     "name": "stdout",
     "output_type": "stream",
     "text": [
      "[[-0.70710678  0.        ]\n",
      " [ 0.70710678  0.        ]\n",
      " [ 0.          1.        ]]\n"
     ]
    }
   ],
   "source": [
    "from scipy.linalg import null_space\n",
    "M = np.array([[-1,-1,0],[1,1,0]])\n",
    "K = null_space(M)\n",
    "print(K)"
   ]
  },
  {
   "cell_type": "markdown",
   "metadata": {},
   "source": [
    "#### 2 capacitors and 1 inductor all in series"
   ]
  },
  {
   "cell_type": "code",
   "execution_count": 86,
   "metadata": {},
   "outputs": [
    {
     "name": "stdout",
     "output_type": "stream",
     "text": [
      "Number of compact flux variables: 0\n",
      "Number of variables: 2\n",
      "-----------------------------\n",
      "vector_JJ:\n",
      "[]\n",
      "-----------------------------\n",
      "total Hamiltonian\n",
      "[[108.97425427   0.        ]\n",
      " [  0.           0.46488549]]\n",
      "-----------------------------\n",
      "compact quadratic hamiltonian\n",
      "[]\n",
      "-----------------------------\n",
      "extended quadratic hamiltonian\n",
      "[[108.97425427   0.        ]\n",
      " [  0.           0.46488549]]\n",
      "-----------------------------\n",
      "interaction quadratic hamiltonian\n",
      "[[0. 0.]\n",
      " [0. 0.]]\n",
      "-----------------------------\n",
      "Caso: 1\n",
      "----------------------------------------------------------------------\n",
      "Diagonalized quantum Hamiltonian:\n",
      "H/h (GHz) =  7.118 (a†_0 a_0 + 1/2)\n",
      "----------------------------------------------------------------------\n"
     ]
    }
   ],
   "source": [
    "# 2 C and 1 L all in series\n",
    "np.set_printoptions(linewidth=150, threshold=np.inf)\n",
    "\n",
    "#C = Capacitor(value = 1, unit='GHz')\n",
    "#L = Inductor(value = 1, unit = 'GHz')\n",
    "C = Capacitor(value = 1, unit='pF')\n",
    "L = Inductor(value = 1, unit = 'nH')\n",
    "\n",
    "check2 = [(0,1,C),(1,2,C),(2,0,L)]\n",
    "cr = Circuit(check2)\n",
    "\n",
    "\n",
    "cr.circuit_description()\n"
   ]
  },
  {
   "cell_type": "markdown",
   "metadata": {},
   "source": [
    "#### Capacitor coupled oscillators"
   ]
  },
  {
   "cell_type": "code",
   "execution_count": 87,
   "metadata": {},
   "outputs": [
    {
     "name": "stdout",
     "output_type": "stream",
     "text": [
      "Number of compact flux variables: 0\n",
      "Number of variables: 4\n",
      "-----------------------------\n",
      "vector_JJ:\n",
      "[]\n",
      "-----------------------------\n",
      "total Hamiltonian\n",
      "[[ 3.26922763e+02  1.63461381e+02  0.00000000e+00  0.00000000e+00]\n",
      " [ 1.63461381e+02  1.63461381e+02  0.00000000e+00  0.00000000e+00]\n",
      " [ 0.00000000e+00  0.00000000e+00  4.22623174e-02 -1.40874391e-02]\n",
      " [ 0.00000000e+00  0.00000000e+00 -1.40874391e-02  5.63497566e-02]]\n",
      "-----------------------------\n",
      "compact quadratic hamiltonian\n",
      "[]\n",
      "-----------------------------\n",
      "extended quadratic hamiltonian\n",
      "[[ 3.26922763e+02  1.63461381e+02  0.00000000e+00  0.00000000e+00]\n",
      " [ 1.63461381e+02  1.63461381e+02  0.00000000e+00  0.00000000e+00]\n",
      " [ 0.00000000e+00  0.00000000e+00  4.22623174e-02 -1.40874391e-02]\n",
      " [ 0.00000000e+00  0.00000000e+00 -1.40874391e-02  5.63497566e-02]]\n",
      "-----------------------------\n",
      "interaction quadratic hamiltonian\n",
      "[[0. 0. 0. 0.]\n",
      " [0. 0. 0. 0.]\n",
      " [0. 0. 0. 0.]\n",
      " [0. 0. 0. 0.]]\n",
      "-----------------------------\n",
      "Caso: 1\n",
      "----------------------------------------------------------------------\n",
      "Diagonalized quantum Hamiltonian:\n",
      "H/h (GHz) =  2.015 (a†_0 a_0 + 1/2) +  3.789 (a†_1 a_1 + 1/2)\n",
      "----------------------------------------------------------------------\n"
     ]
    }
   ],
   "source": [
    "# COUPLED OSCILLATORS\n",
    "np.set_printoptions(linewidth=150, threshold=np.inf)\n",
    "\n",
    "C1 = Capacitor(value = 3, unit='pF')\n",
    "C2 = Capacitor(value = 1, unit='pF')\n",
    "Cg = Capacitor(value = 2, unit='pF')\n",
    "L1 = Inductor(value = 1, unit = 'nH')\n",
    "L2 = Inductor(value = 1, unit = 'nH')\n",
    "\n",
    "coupled_oscillators = [(0,1,L1), (1,2,Cg), (2,0,L2), (0,1,C1),(2,0,C2)]\n",
    "\n",
    "cr = Circuit(coupled_oscillators)\n",
    "\n",
    "cr.circuit_description()\n",
    "\n"
   ]
  },
  {
   "cell_type": "code",
   "execution_count": 88,
   "metadata": {},
   "outputs": [
    {
     "name": "stdout",
     "output_type": "stream",
     "text": [
      "[[ 0.00000000e+00  7.95959626e-17  1.00000000e+00  4.16333634e-16]\n",
      " [-7.95959626e-17 -3.08148791e-33 -1.11022302e-16  1.00000000e+00]\n",
      " [-1.00000000e+00  1.11022302e-16  0.00000000e+00  3.67729421e-16]\n",
      " [-4.16333634e-16 -1.00000000e+00 -3.67729421e-16  0.00000000e+00]]\n"
     ]
    }
   ],
   "source": [
    "Tinv = np.linalg.inv(cr.T)\n",
    "J = cr.omega_symplectic\n",
    "conmut = np.zeros((len(Tinv), len(Tinv)))\n",
    "\n",
    "for i in range(len(Tinv)):\n",
    "    for j in range(len(Tinv)):\n",
    "        sum = 0\n",
    "        for k in range(len(Tinv)):\n",
    "            for l in range(len(Tinv)):\n",
    "                sum = sum + Tinv[i,k]*Tinv[j,l]*J[k,l]\n",
    "\n",
    "        conmut[i,j] = sum\n",
    "\n",
    "print(conmut)"
   ]
  },
  {
   "cell_type": "markdown",
   "metadata": {},
   "source": [
    "#### Star circuit"
   ]
  },
  {
   "cell_type": "code",
   "execution_count": 89,
   "metadata": {},
   "outputs": [
    {
     "name": "stdout",
     "output_type": "stream",
     "text": [
      "Number of compact flux variables: 0\n",
      "Number of variables: 4\n",
      "-----------------------------\n",
      "vector_JJ:\n",
      "[]\n",
      "-----------------------------\n",
      "total Hamiltonian\n",
      "[[ 1.08974254e+02  5.44871271e+01  0.00000000e+00  0.00000000e+00]\n",
      " [ 5.44871271e+01  1.08974254e+02  0.00000000e+00  0.00000000e+00]\n",
      " [ 0.00000000e+00  0.00000000e+00  1.03307887e-01 -5.16539435e-02]\n",
      " [ 0.00000000e+00  0.00000000e+00 -5.16539435e-02  1.03307887e-01]]\n",
      "-----------------------------\n",
      "compact quadratic hamiltonian\n",
      "[]\n",
      "-----------------------------\n",
      "extended quadratic hamiltonian\n",
      "[[ 1.08974254e+02  5.44871271e+01  0.00000000e+00  0.00000000e+00]\n",
      " [ 5.44871271e+01  1.08974254e+02  0.00000000e+00  0.00000000e+00]\n",
      " [ 0.00000000e+00  0.00000000e+00  1.03307887e-01 -5.16539435e-02]\n",
      " [ 0.00000000e+00  0.00000000e+00 -5.16539435e-02  1.03307887e-01]]\n",
      "-----------------------------\n",
      "interaction quadratic hamiltonian\n",
      "[[0. 0. 0. 0.]\n",
      " [0. 0. 0. 0.]\n",
      " [0. 0. 0. 0.]\n",
      " [0. 0. 0. 0.]]\n",
      "-----------------------------\n",
      "Caso: 1\n",
      "----------------------------------------------------------------------\n",
      "Diagonalized quantum Hamiltonian:\n",
      "H/h (GHz) =  2.906 (a†_0 a_0 + 1/2) +  2.906 (a†_1 a_1 + 1/2)\n",
      "----------------------------------------------------------------------\n"
     ]
    }
   ],
   "source": [
    "#SYMMETRIC STAR CIRCUIT \n",
    "np.set_printoptions(linewidth=150, threshold=np.inf)\n",
    "\n",
    "#C = Capacitor(value = 1, unit='GHz')\n",
    "#L = Inductor(value = 1, unit = 'GHz')\n",
    "C = Capacitor(value = 1, unit='pF')\n",
    "L = Inductor(value = 1, unit = 'nH')\n",
    "\n",
    "symmetric_starcircuit = [(0,1,C), (1,2,C), (2,0,C), (0,3,L), (1,3,L), (2,3,L)]\n",
    "\n",
    "cr = Circuit(symmetric_starcircuit)\n",
    "\n",
    "cr.circuit_description()\n"
   ]
  },
  {
   "cell_type": "code",
   "execution_count": 90,
   "metadata": {},
   "outputs": [
    {
     "name": "stdout",
     "output_type": "stream",
     "text": [
      "[[ 0.00000000e+00 -4.36933476e-17  1.00000000e+00  1.79977561e-16]\n",
      " [ 0.00000000e+00  0.00000000e+00 -6.78710560e-17  1.00000000e+00]\n",
      " [-1.00000000e+00  6.77626358e-17  0.00000000e+00 -5.31259065e-18]\n",
      " [-1.66533454e-16 -1.00000000e+00  5.31259065e-18  0.00000000e+00]]\n"
     ]
    }
   ],
   "source": [
    "Tinv = np.linalg.inv(cr.T)\n",
    "J = cr.omega_symplectic\n",
    "conmut = np.zeros((len(Tinv), len(Tinv)))\n",
    "\n",
    "for i in range(len(Tinv)):\n",
    "    for j in range(len(Tinv)):\n",
    "        sum = 0\n",
    "        for k in range(len(Tinv)):\n",
    "            for l in range(len(Tinv)):\n",
    "                sum = sum + Tinv[i,k]*Tinv[j,l]*J[k,l]\n",
    "\n",
    "        conmut[i,j] = sum\n",
    "\n",
    "print(conmut)"
   ]
  },
  {
   "cell_type": "markdown",
   "metadata": {},
   "source": [
    "#### Non-symmetric star circuit"
   ]
  },
  {
   "cell_type": "code",
   "execution_count": 91,
   "metadata": {},
   "outputs": [
    {
     "name": "stdout",
     "output_type": "stream",
     "text": [
      "Number of compact flux variables: 0\n",
      "Number of variables: 4\n",
      "-----------------------------\n",
      "vector_JJ:\n",
      "[]\n",
      "-----------------------------\n",
      "total Hamiltonian\n",
      "[[ 1.5  0.5  0.   0. ]\n",
      " [ 0.5  1.5  0.   0. ]\n",
      " [ 0.   0.   1.5 -1. ]\n",
      " [ 0.   0.  -1.   2. ]]\n",
      "-----------------------------\n",
      "compact quadratic hamiltonian\n",
      "[]\n",
      "-----------------------------\n",
      "extended quadratic hamiltonian\n",
      "[[ 1.5  0.5  0.   0. ]\n",
      " [ 0.5  1.5  0.   0. ]\n",
      " [ 0.   0.   1.5 -1. ]\n",
      " [ 0.   0.  -1.   2. ]]\n",
      "-----------------------------\n",
      "interaction quadratic hamiltonian\n",
      "[[0. 0. 0. 0.]\n",
      " [0. 0. 0. 0.]\n",
      " [0. 0. 0. 0.]\n",
      " [0. 0. 0. 0.]]\n",
      "-----------------------------\n",
      "Caso: 1\n"
     ]
    }
   ],
   "source": [
    "#NON-SYMMETRIC STAR CIRCUIT \n",
    "np.set_printoptions(linewidth=150, threshold=np.inf)\n",
    "\n",
    "C1 = Capacitor(value = 1, unit='GHz')\n",
    "L1 = Inductor(value = 1, unit = 'GHz')\n",
    "C2 = Capacitor(value = 2, unit='GHz')\n",
    "L2 = Inductor(value = 2, unit = 'GHz')\n",
    "C3 = Capacitor(value = 1, unit='GHz')\n",
    "L3 = Inductor(value = 1, unit = 'GHz')\n",
    "\n",
    "\n",
    "nonsymmetric_starcircuit = [(0,1,C1), (1,2,C2), (2,0,C3), (0,3,L1), (1,3,L2), (2,3,L3)]\n",
    "\n",
    "cr = Circuit(nonsymmetric_starcircuit)\n",
    "\n",
    "\n",
    "\n"
   ]
  },
  {
   "cell_type": "code",
   "execution_count": 92,
   "metadata": {},
   "outputs": [
    {
     "name": "stdout",
     "output_type": "stream",
     "text": [
      "[[ 0.00000000e+00  3.55564827e-16  1.00000000e+00 -5.55111512e-16]\n",
      " [-3.55564827e-16  0.00000000e+00 -2.77555756e-16  1.00000000e+00]\n",
      " [-1.00000000e+00  2.77555756e-16  0.00000000e+00  3.51273349e-16]\n",
      " [ 5.55111512e-16 -1.00000000e+00 -3.51273349e-16  1.23259516e-32]]\n"
     ]
    }
   ],
   "source": [
    "Tinv = np.linalg.inv(cr.T)\n",
    "J = cr.omega_symplectic\n",
    "conmut = np.zeros((len(Tinv), len(Tinv)))\n",
    "\n",
    "for i in range(len(Tinv)):\n",
    "    for j in range(len(Tinv)):\n",
    "        sum = 0\n",
    "        for k in range(len(Tinv)):\n",
    "            for l in range(len(Tinv)):\n",
    "                sum = sum + Tinv[i,k]*Tinv[j,l]*J[k,l]\n",
    "\n",
    "        conmut[i,j] = sum\n",
    "\n",
    "print(conmut)\n"
   ]
  },
  {
   "cell_type": "code",
   "execution_count": 93,
   "metadata": {},
   "outputs": [
    {
     "name": "stdout",
     "output_type": "stream",
     "text": [
      "Number of compact flux variables: 0\n",
      "Number of variables: 2\n",
      "-----------------------------\n",
      "vector_JJ:\n",
      "[]\n",
      "-----------------------------\n",
      "total Hamiltonian\n",
      "[[2.66666667 0.        ]\n",
      " [0.         2.        ]]\n",
      "-----------------------------\n",
      "compact quadratic hamiltonian\n",
      "[]\n",
      "-----------------------------\n",
      "extended quadratic hamiltonian\n",
      "[[2.66666667 0.        ]\n",
      " [0.         2.        ]]\n",
      "-----------------------------\n",
      "interaction quadratic hamiltonian\n",
      "[[0. 0.]\n",
      " [0. 0.]]\n",
      "-----------------------------\n",
      "Caso: 1\n"
     ]
    }
   ],
   "source": [
    "C = Capacitor(value = 1, unit='GHz')\n",
    "L = Inductor(value = 1, unit = 'GHz')\n",
    "elements = [(0,1,C), (0,1,L), (1,2,L), (2,3,L), (3,0,L)]\n",
    "\n",
    "cr = Circuit(elements)\n"
   ]
  },
  {
   "cell_type": "code",
   "execution_count": 94,
   "metadata": {},
   "outputs": [
    {
     "name": "stdout",
     "output_type": "stream",
     "text": [
      "Number of compact flux variables: 0\n",
      "Number of variables: 0\n",
      "-----------------------------\n",
      "vector_JJ:\n",
      "[]\n",
      "-----------------------------\n",
      "total Hamiltonian\n",
      "[]\n",
      "-----------------------------\n",
      "compact quadratic hamiltonian\n",
      "[]\n",
      "-----------------------------\n",
      "extended quadratic hamiltonian\n",
      "[]\n",
      "-----------------------------\n",
      "interaction quadratic hamiltonian\n",
      "[]\n",
      "-----------------------------\n",
      "Caso: 1\n"
     ]
    }
   ],
   "source": [
    "elementsC = [(0,1,C),(0,1,C)]\n",
    "cr = Circuit(elementsC)\n"
   ]
  }
 ],
 "metadata": {
  "kernelspec": {
   "display_name": "Proyect1",
   "language": "python",
   "name": "python3"
  },
  "language_info": {
   "codemirror_mode": {
    "name": "ipython",
    "version": 3
   },
   "file_extension": ".py",
   "mimetype": "text/x-python",
   "name": "python",
   "nbconvert_exporter": "python",
   "pygments_lexer": "ipython3",
   "version": "3.12.3"
  }
 },
 "nbformat": 4,
 "nbformat_minor": 2
}
