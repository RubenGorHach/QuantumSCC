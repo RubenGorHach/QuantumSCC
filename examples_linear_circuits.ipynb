{
 "cells": [
  {
   "cell_type": "code",
   "execution_count": null,
   "metadata": {},
   "outputs": [],
   "source": [
    "from scircuit import *\n",
    "import numpy as np"
   ]
  },
  {
   "cell_type": "markdown",
   "metadata": {},
   "source": [
    "#### LC circuit"
   ]
  },
  {
   "cell_type": "code",
   "execution_count": 77,
   "metadata": {},
   "outputs": [
    {
     "name": "stdout",
     "output_type": "stream",
     "text": [
      "vector_JJ:\n",
      "[]\n",
      "-----------------------------\n",
      "Quadratic Hamiltonian:\n",
      "[[1.63e+02 0.00e+00]\n",
      " [0.00e+00 1.55e-01]]\n",
      "-----------------------------\n",
      "linear Quadratic Hamiltonian:\n",
      "[[1.63e+02 0.00e+00]\n",
      " [0.00e+00 1.55e-01]]\n",
      "-----------------------------\n",
      "nonlinear Quadratic Hamiltonian:\n",
      "[]\n",
      "-----------------------------\n",
      "interaction quadratic Hamiltonian\n",
      "[[0. 0.]\n",
      " [0. 0.]]\n",
      "-----------------------------\n",
      "Caso: 1\n",
      "Hamiltonian:\n",
      "[[5.03 0.  ]\n",
      " [0.   5.03]]\n",
      "Basis change matrix, T\n",
      "[[-0.18 -0.  ]\n",
      " [ 0.   -5.7 ]]\n",
      "Hamiltoniano final:\n",
      "[[ 5.03e+00+0.j -8.88e-16+0.j]\n",
      " [-8.88e-16+0.j  5.03e+00+0.j]]\n",
      "[[1. 0.]\n",
      " [0. 1.]]\n"
     ]
    }
   ],
   "source": [
    "# LC circuit\n",
    "np.set_printoptions(linewidth=150, threshold=np.inf)\n",
    "\n",
    "#C = Capacitor(value = 1, unit='GHz')\n",
    "#L = Inductor(value = 1, unit = 'GHz')\n",
    "C = Capacitor(value = 1, unit='pF')\n",
    "L = Inductor(value = 1, unit = 'nH')\n",
    "\n",
    "LC = [(0,1,L), (0,1,C)]\n",
    "\n",
    "cr = Circuit(LC)\n",
    "\n",
    "print(\"Hamiltonian:\")\n",
    "print(cr.linear_canonical_hamiltonian)\n",
    "\n",
    "print(\"Basis change matrix, T\")\n",
    "print(cr.T)\n",
    "\n",
    "print(\"Hamiltoniano final:\")\n",
    "print(cr.linear_quantum_hamiltonian)\n",
    "\n",
    "print(cr.V)\n"
   ]
  },
  {
   "cell_type": "markdown",
   "metadata": {},
   "source": [
    "#### 2 Capacitors and 1 inductor, all in parallel"
   ]
  },
  {
   "cell_type": "code",
   "execution_count": 78,
   "metadata": {},
   "outputs": [
    {
     "name": "stdout",
     "output_type": "stream",
     "text": [
      "vector_JJ:\n",
      "[]\n",
      "-----------------------------\n",
      "Quadratic Hamiltonian:\n",
      "[[1.63e+02+0.j 0.00e+00+0.j]\n",
      " [0.00e+00+0.j 7.75e-02+0.j]]\n",
      "-----------------------------\n",
      "linear Quadratic Hamiltonian:\n",
      "[[1.63e+02+0.j 0.00e+00+0.j]\n",
      " [0.00e+00+0.j 7.75e-02+0.j]]\n",
      "-----------------------------\n",
      "nonlinear Quadratic Hamiltonian:\n",
      "[]\n",
      "-----------------------------\n",
      "interaction quadratic Hamiltonian\n",
      "[[0.+0.j 0.+0.j]\n",
      " [0.+0.j 0.+0.j]]\n",
      "-----------------------------\n",
      "Caso: 1\n",
      "Hamiltonian:\n",
      "[[3.56+0.j 0.  +0.j]\n",
      " [0.  +0.j 3.56+0.j]]\n",
      "Basis change matrix, T\n",
      "[[-0.15 -0.  ]\n",
      " [ 0.   -6.78]]\n",
      "Hamiltoniano final:\n",
      "[[3.56+0.j 0.  +0.j]\n",
      " [0.  +0.j 3.56+0.j]]\n",
      "[[1.+0.j 0.+0.j 0.+0.j]\n",
      " [0.+0.j 0.+0.j 1.+0.j]\n",
      " [0.+0.j 1.+0.j 0.+0.j]]\n"
     ]
    }
   ],
   "source": [
    "# 2 C and 1 L all in parallel\n",
    "np.set_printoptions(linewidth=150, threshold=np.inf)\n",
    "\n",
    "#C = Capacitor(value = 1, unit='GHz')\n",
    "#L = Inductor(value = 1, unit = 'GHz')\n",
    "C = Capacitor(value = 1, unit='pF')\n",
    "L = Inductor(value = 1, unit = 'nH')\n",
    "\n",
    "check1 = [(0,1,C),(0,1,C),(0,1,L)]\n",
    "cr = Circuit(check1)\n",
    "\n",
    "print(\"Hamiltonian:\")\n",
    "print(cr.linear_canonical_hamiltonian)\n",
    "\n",
    "print(\"Basis change matrix, T\")\n",
    "print(cr.T)\n",
    "\n",
    "print(\"Hamiltoniano final:\")\n",
    "print(cr.linear_quantum_hamiltonian)\n",
    "\n",
    "print(cr.V)\n"
   ]
  },
  {
   "cell_type": "markdown",
   "metadata": {},
   "source": [
    "#### 2 capacitors and 1 inductor all in series"
   ]
  },
  {
   "cell_type": "code",
   "execution_count": 79,
   "metadata": {},
   "outputs": [
    {
     "name": "stdout",
     "output_type": "stream",
     "text": [
      "vector_JJ:\n",
      "[]\n",
      "-----------------------------\n",
      "Quadratic Hamiltonian:\n",
      "[[ 2.31e+02+0.j -2.64e-15+0.j]\n",
      " [-2.64e-15+0.j  2.19e-01+0.j]]\n",
      "-----------------------------\n",
      "linear Quadratic Hamiltonian:\n",
      "[[ 2.31e+02+0.j -2.64e-15+0.j]\n",
      " [-2.64e-15+0.j  2.19e-01+0.j]]\n",
      "-----------------------------\n",
      "nonlinear Quadratic Hamiltonian:\n",
      "[]\n",
      "-----------------------------\n",
      "interaction quadratic Hamiltonian\n",
      "[[0.+0.j 0.+0.j]\n",
      " [0.+0.j 0.+0.j]]\n",
      "-----------------------------\n",
      "Caso: 1\n",
      "Hamiltonian:\n",
      "[[ 7.12e+00+0.j -3.87e-16+0.j]\n",
      " [-3.87e-16+0.j  7.12e+00+0.j]]\n",
      "Basis change matrix, T\n",
      "[[-1.75e-01 -5.55e-17]\n",
      " [ 0.00e+00 -5.70e+00]]\n",
      "Hamiltoniano final:\n",
      "[[7.12+1.73e-30j 0.  -3.87e-16j]\n",
      " [0.  +3.87e-16j 7.12-1.73e-30j]]\n",
      "[[ 5.95e-01+0.j -1.34e-16+0.j  7.07e-01+0.j]\n",
      " [ 5.95e-01+0.j  1.21e-16+0.j -7.07e-01+0.j]\n",
      " [ 0.00e+00+0.j -8.41e-01+0.j -1.59e-16+0.j]]\n"
     ]
    }
   ],
   "source": [
    "# 2 C and 1 L all in series\n",
    "np.set_printoptions(linewidth=150, threshold=np.inf)\n",
    "\n",
    "#C = Capacitor(value = 1, unit='GHz')\n",
    "#L = Inductor(value = 1, unit = 'GHz')\n",
    "C = Capacitor(value = 1, unit='pF')\n",
    "L = Inductor(value = 1, unit = 'nH')\n",
    "\n",
    "check2 = [(0,1,C),(1,2,C),(2,0,L)]\n",
    "cr = Circuit(check2)\n",
    "\n",
    "print(\"Hamiltonian:\")\n",
    "print(cr.linear_canonical_hamiltonian)\n",
    "\n",
    "print(\"Basis change matrix, T\")\n",
    "print(cr.T)\n",
    "\n",
    "print(\"Hamiltoniano final:\")\n",
    "print(cr.linear_quantum_hamiltonian)\n",
    "\n",
    "print(cr.V)\n"
   ]
  },
  {
   "cell_type": "markdown",
   "metadata": {},
   "source": [
    "#### Capacitor coupled oscillators"
   ]
  },
  {
   "cell_type": "code",
   "execution_count": 80,
   "metadata": {},
   "outputs": [
    {
     "name": "stdout",
     "output_type": "stream",
     "text": [
      "vector_JJ:\n",
      "[]\n",
      "-----------------------------\n",
      "Quadratic Hamiltonian:\n",
      "[[ 1.01e+02+0.j  6.66e-14+0.j -6.99e-16+0.j  1.39e-15+0.j]\n",
      " [ 5.60e-14+0.j  2.64e+02+0.j  4.79e-15+0.j  3.66e-15+0.j]\n",
      " [-6.99e-16+0.j  4.79e-15+0.j  6.07e-02+0.j -2.77e-02+0.j]\n",
      " [ 1.39e-15+0.j  3.66e-15+0.j -2.77e-02+0.j  9.17e-02+0.j]]\n",
      "-----------------------------\n",
      "linear Quadratic Hamiltonian:\n",
      "[[ 1.01e+02+0.j  6.66e-14+0.j -6.99e-16+0.j  1.39e-15+0.j]\n",
      " [ 5.60e-14+0.j  2.64e+02+0.j  4.79e-15+0.j  3.66e-15+0.j]\n",
      " [-6.99e-16+0.j  4.79e-15+0.j  6.07e-02+0.j -2.77e-02+0.j]\n",
      " [ 1.39e-15+0.j  3.66e-15+0.j -2.77e-02+0.j  9.17e-02+0.j]]\n",
      "-----------------------------\n",
      "nonlinear Quadratic Hamiltonian:\n",
      "[]\n",
      "-----------------------------\n",
      "interaction quadratic Hamiltonian\n",
      "[[0.+0.j 0.+0.j 0.+0.j 0.+0.j]\n",
      " [0.+0.j 0.+0.j 0.+0.j 0.+0.j]\n",
      " [0.+0.j 0.+0.j 0.+0.j 0.+0.j]\n",
      " [0.+0.j 0.+0.j 0.+0.j 0.+0.j]]\n",
      "-----------------------------\n",
      "Caso: 1\n",
      "Hamiltonian:\n",
      "[[ 2.25e+00+0.j -2.65e-15+0.j  1.73e-16+0.j  5.51e-16+0.j]\n",
      " [-2.93e-15+0.j  5.03e+00+0.j -8.52e-16+0.j -1.14e-15+0.j]\n",
      " [ 1.73e-16+0.j -8.52e-16+0.j  2.25e+00+0.j -3.26e-15+0.j]\n",
      " [ 5.51e-16+0.j -1.14e-15+0.j -2.49e-15+0.j  5.03e+00+0.j]]\n",
      "Basis change matrix, T\n",
      "[[-1.45e-01  5.13e-02 -2.08e-17  6.65e-17]\n",
      " [-2.12e-02 -1.34e-01  1.51e-16  1.24e-16]\n",
      " [ 0.00e+00  2.58e-15 -6.52e+00  1.03e+00]\n",
      " [-3.67e-16  0.00e+00 -2.49e+00 -7.06e+00]]\n",
      "Hamiltoniano final:\n",
      "[[ 2.25e+00-1.48e-31j -2.96e-15-7.02e-16j -2.22e-16+1.73e-16j  3.03e-16-1.51e-16j]\n",
      " [-2.71e-15+7.02e-16j  5.03e+00-2.96e-31j -2.22e-16-1.51e-16j -8.88e-16-1.14e-15j]\n",
      " [-2.22e-16-1.73e-16j  3.03e-16+1.51e-16j  2.25e+00+1.48e-31j -2.96e-15+7.02e-16j]\n",
      " [-2.22e-16+1.51e-16j -8.88e-16+1.14e-15j -2.71e-15-7.02e-16j  5.03e+00+2.96e-31j]]\n",
      "[[0, 1, <scircuit.elements.Capacitor object at 0x000001D212BE2960>], [1, 2, <scircuit.elements.Capacitor object at 0x000001D212D4E270>], [2, 0, <scircuit.elements.Capacitor object at 0x000001D21271E330>], [0, 1, <scircuit.elements.Inductor object at 0x000001D213119520>], [2, 0, <scircuit.elements.Inductor object at 0x000001D212751A00>]]\n",
      "[[ 6.69e-01+0.j -6.69e-01+0.j -1.67e-17+0.j  6.37e-34+0.j  0.00e+00+0.j]\n",
      " [-1.08e+00+0.j -4.13e-01+0.j  0.00e+00+0.j -2.06e-17+0.j  0.00e+00+0.j]\n",
      " [ 0.00e+00+0.j -0.00e+00+0.j  0.00e+00+0.j  0.00e+00+0.j  1.00e+00+0.j]\n",
      " [ 5.92e-18+0.j -9.33e-18+0.j  1.08e+00+0.j -4.13e-01+0.j  0.00e+00+0.j]\n",
      " [-2.26e-18+0.j  7.02e-17+0.j  6.69e-01+0.j  6.69e-01+0.j  0.00e+00+0.j]]\n"
     ]
    }
   ],
   "source": [
    "# COUPLED OSCILLATORS\n",
    "np.set_printoptions(linewidth=150, threshold=np.inf)\n",
    "\n",
    "C1 = Capacitor(value = 1, unit='pF')\n",
    "C2 = Capacitor(value = 1, unit='pF')\n",
    "Cg = Capacitor(value = 2, unit='pF')\n",
    "L1 = Inductor(value = 1, unit = 'nH')\n",
    "L2 = Inductor(value = 1, unit = 'nH')\n",
    "\n",
    "coupled_oscillators = [(0,1,L1), (1,2,Cg), (2,0,L2), (0,1,C1),(2,0,C2)]\n",
    "\n",
    "cr = Circuit(coupled_oscillators)\n",
    "\n",
    "print(\"Hamiltonian:\")\n",
    "print(cr.linear_canonical_hamiltonian)\n",
    "\n",
    "print(\"Basis change matrix, T\")\n",
    "print(cr.T)\n",
    "\n",
    "print(\"Hamiltoniano final:\")\n",
    "print(cr.linear_quantum_hamiltonian)\n",
    "\n",
    "print(cr.elements)\n",
    "print(cr.V)\n"
   ]
  },
  {
   "cell_type": "code",
   "execution_count": 81,
   "metadata": {},
   "outputs": [
    {
     "name": "stdout",
     "output_type": "stream",
     "text": [
      "[[ 4.93e-32  3.46e-16  1.00e+00  1.11e-16]\n",
      " [-3.46e-16  0.00e+00  8.33e-17  1.00e+00]\n",
      " [-1.00e+00 -8.33e-17  0.00e+00  4.25e-16]\n",
      " [-1.11e-16 -1.00e+00 -4.25e-16  0.00e+00]]\n"
     ]
    }
   ],
   "source": [
    "Tinv = np.linalg.inv(cr.T)\n",
    "J = cr.omega_symplectic\n",
    "conmut = np.zeros((len(Tinv), len(Tinv)))\n",
    "\n",
    "for i in range(len(Tinv)):\n",
    "    for j in range(len(Tinv)):\n",
    "        sum = 0\n",
    "        for k in range(len(Tinv)):\n",
    "            for l in range(len(Tinv)):\n",
    "                sum = sum + Tinv[i,k]*Tinv[j,l]*J[k,l]\n",
    "\n",
    "        conmut[i,j] = sum\n",
    "\n",
    "print(conmut)"
   ]
  },
  {
   "cell_type": "markdown",
   "metadata": {},
   "source": [
    "#### Star circuit"
   ]
  },
  {
   "cell_type": "code",
   "execution_count": 82,
   "metadata": {},
   "outputs": [
    {
     "name": "stdout",
     "output_type": "stream",
     "text": [
      "vector_JJ:\n",
      "[]\n",
      "-----------------------------\n",
      "Quadratic Hamiltonian:\n",
      "[[ 9.75e+01+0.j -2.44e+01+0.j  5.98e-15+0.j -6.39e-15+0.j]\n",
      " [-2.44e+01+0.j  9.75e+01+0.j -6.62e-15+0.j  6.39e-15+0.j]\n",
      " [ 5.98e-15+0.j -6.62e-15+0.j  9.24e-02+0.j  2.31e-02+0.j]\n",
      " [-6.39e-15+0.j  6.39e-15+0.j  2.31e-02+0.j  9.24e-02+0.j]]\n",
      "-----------------------------\n",
      "linear Quadratic Hamiltonian:\n",
      "[[ 9.75e+01+0.j -2.44e+01+0.j  5.98e-15+0.j -6.39e-15+0.j]\n",
      " [-2.44e+01+0.j  9.75e+01+0.j -6.62e-15+0.j  6.39e-15+0.j]\n",
      " [ 5.98e-15+0.j -6.62e-15+0.j  9.24e-02+0.j  2.31e-02+0.j]\n",
      " [-6.39e-15+0.j  6.39e-15+0.j  2.31e-02+0.j  9.24e-02+0.j]]\n",
      "-----------------------------\n",
      "nonlinear Quadratic Hamiltonian:\n",
      "[]\n",
      "-----------------------------\n",
      "interaction quadratic Hamiltonian\n",
      "[[0.+0.j 0.+0.j 0.+0.j 0.+0.j]\n",
      " [0.+0.j 0.+0.j 0.+0.j 0.+0.j]\n",
      " [0.+0.j 0.+0.j 0.+0.j 0.+0.j]\n",
      " [0.+0.j 0.+0.j 0.+0.j 0.+0.j]]\n",
      "-----------------------------\n",
      "Caso: 1\n",
      "Matriz cambio de base T:\n",
      "[[-1.73e-01  2.83e-03  3.39e-16 -4.45e-02]\n",
      " [ 0.00e+00  1.13e-02 -3.73e-16 -1.78e-01]\n",
      " [ 0.00e+00  1.57e-16 -5.79e+00  1.25e-15]\n",
      " [ 0.00e+00  5.60e+00  1.45e+00  3.56e-01]]\n",
      "Hamiltoniano canónico:\n",
      "[[ 2.91e+00+0.j  5.17e-16+0.j  3.09e-16+0.j  9.71e-17+0.j]\n",
      " [ 4.98e-16+0.j  2.91e+00+0.j  9.69e-16+0.j -3.47e-16+0.j]\n",
      " [ 3.09e-16+0.j -1.88e-16+0.j  2.91e+00+0.j -1.09e-15+0.j]\n",
      " [ 4.06e-16+0.j -3.55e-16+0.j -1.02e-15+0.j  2.91e+00+0.j]]\n",
      "Hamiltoniano final:\n",
      "[[ 2.91e+00-4.68e-31j -2.88e-16-1.42e-16j  2.22e-16+3.09e-16j  8.04e-16-4.54e-17j]\n",
      " [-2.61e-16-2.81e-16j  2.91e+00-4.13e-18j  7.59e-16+6.88e-16j  1.11e-15-3.51e-16j]\n",
      " [ 2.22e-16-3.09e-16j  8.04e-16+4.54e-17j  2.91e+00+4.68e-31j -2.88e-16+1.42e-16j]\n",
      " [ 7.59e-16-6.88e-16j  1.11e-15+3.51e-16j -2.61e-16+2.81e-16j  2.91e+00+4.13e-18j]]\n"
     ]
    }
   ],
   "source": [
    "#SYMMETRIC STAR CIRCUIT \n",
    "np.set_printoptions(linewidth=150, threshold=np.inf)\n",
    "\n",
    "#C = Capacitor(value = 1, unit='GHz')\n",
    "#L = Inductor(value = 1, unit = 'GHz')\n",
    "C = Capacitor(value = 1, unit='pF')\n",
    "L = Inductor(value = 1, unit = 'nH')\n",
    "\n",
    "symmetric_starcircuit = [(0,1,C), (1,2,C), (2,0,C), (0,3,L), (1,3,L), (2,3,L)]\n",
    "\n",
    "cr = Circuit(symmetric_starcircuit)\n",
    "\n",
    "print(\"Matriz cambio de base T:\")\n",
    "print(cr.T)\n",
    "print(\"Hamiltoniano canónico:\")\n",
    "print(cr.linear_canonical_hamiltonian)\n",
    "\n",
    "print(\"Hamiltoniano final:\")\n",
    "print(cr.linear_quantum_hamiltonian)\n",
    "\n"
   ]
  },
  {
   "cell_type": "code",
   "execution_count": 83,
   "metadata": {},
   "outputs": [
    {
     "name": "stdout",
     "output_type": "stream",
     "text": [
      "[[ 1.97e-31  4.26e-17  1.00e+00 -1.38e-16]\n",
      " [-5.55e-17  0.00e+00  2.17e-16  1.00e+00]\n",
      " [-1.00e+00 -2.17e-16  0.00e+00  2.71e-17]\n",
      " [ 1.39e-16 -1.00e+00 -2.71e-17  0.00e+00]]\n"
     ]
    }
   ],
   "source": [
    "Tinv = np.linalg.inv(cr.T)\n",
    "J = cr.omega_symplectic\n",
    "conmut = np.zeros((len(Tinv), len(Tinv)))\n",
    "\n",
    "for i in range(len(Tinv)):\n",
    "    for j in range(len(Tinv)):\n",
    "        sum = 0\n",
    "        for k in range(len(Tinv)):\n",
    "            for l in range(len(Tinv)):\n",
    "                sum = sum + Tinv[i,k]*Tinv[j,l]*J[k,l]\n",
    "\n",
    "        conmut[i,j] = sum\n",
    "\n",
    "print(conmut)"
   ]
  },
  {
   "cell_type": "markdown",
   "metadata": {},
   "source": [
    "#### Non-symmetric star circuit"
   ]
  },
  {
   "cell_type": "code",
   "execution_count": 84,
   "metadata": {},
   "outputs": [
    {
     "name": "stdout",
     "output_type": "stream",
     "text": [
      "vector_JJ:\n",
      "[]\n",
      "-----------------------------\n",
      "Quadratic Hamiltonian:\n",
      "[[ 1.70e+00+0.j -2.24e-01+0.j  1.15e-16+0.j -1.59e-16+0.j]\n",
      " [-2.24e-01+0.j  1.20e+00+0.j  4.66e-17+0.j  1.17e-16+0.j]\n",
      " [ 1.15e-16+0.j  4.66e-17+0.j  1.70e+00+0.j  2.24e-01+0.j]\n",
      " [-1.59e-16+0.j  1.17e-16+0.j  2.24e-01+0.j  1.20e+00+0.j]]\n",
      "-----------------------------\n",
      "linear Quadratic Hamiltonian:\n",
      "[[ 1.70e+00+0.j -2.24e-01+0.j  1.15e-16+0.j -1.59e-16+0.j]\n",
      " [-2.24e-01+0.j  1.20e+00+0.j  4.66e-17+0.j  1.17e-16+0.j]\n",
      " [ 1.15e-16+0.j  4.66e-17+0.j  1.70e+00+0.j  2.24e-01+0.j]\n",
      " [-1.59e-16+0.j  1.17e-16+0.j  2.24e-01+0.j  1.20e+00+0.j]]\n",
      "-----------------------------\n",
      "nonlinear Quadratic Hamiltonian:\n",
      "[]\n",
      "-----------------------------\n",
      "interaction quadratic Hamiltonian\n",
      "[[0.+0.j 0.+0.j 0.+0.j 0.+0.j]\n",
      " [0.+0.j 0.+0.j 0.+0.j 0.+0.j]\n",
      " [0.+0.j 0.+0.j 0.+0.j 0.+0.j]\n",
      " [0.+0.j 0.+0.j 0.+0.j 0.+0.j]]\n",
      "-----------------------------\n",
      "Caso: 1\n",
      "Matriz cambio de base T:\n",
      "[[ 7.76e-02  1.00e+00 -2.62e-17  0.00e+00]\n",
      " [ 1.00e+00  7.76e-02  0.00e+00  4.64e-16]\n",
      " [ 8.26e-17 -7.90e-16 -7.76e-02  1.00e+00]\n",
      " [-4.68e-16 -2.67e-16  1.00e+00 -7.76e-02]]\n",
      "Hamiltoniano canónico:\n",
      "[[ 1.19e+00+0.j -6.23e-16+0.j -4.45e-16+0.j  6.78e-16+0.j]\n",
      " [-7.00e-16+0.j  1.69e+00+0.j -5.95e-16+0.j -1.30e-15+0.j]\n",
      " [-4.45e-16+0.j -5.95e-16+0.j  1.19e+00+0.j -1.35e-16+0.j]\n",
      " [ 6.78e-16+0.j -1.30e-15+0.j  5.93e-17+0.j  1.69e+00+0.j]]\n",
      "Hamiltoniano final:\n",
      "[[ 1.19e+00+9.86e-32j -3.79e-16-6.36e-16j  5.55e-16-4.45e-16j -2.44e-16+4.13e-17j]\n",
      " [-3.20e-16+6.36e-16j  1.69e+00-1.97e-31j -3.80e-16+4.13e-17j  2.22e-16-1.30e-15j]\n",
      " [ 5.55e-16+4.45e-16j -2.44e-16-4.13e-17j  1.19e+00-9.86e-32j -3.79e-16+6.36e-16j]\n",
      " [-3.80e-16-4.13e-17j  2.22e-16+1.30e-15j -3.20e-16-6.36e-16j  1.69e+00+1.97e-31j]]\n"
     ]
    }
   ],
   "source": [
    "#NON-SYMMETRIC STAR CIRCUIT \n",
    "np.set_printoptions(linewidth=150, threshold=np.inf)\n",
    "\n",
    "C1 = Capacitor(value = 1, unit='GHz')\n",
    "L1 = Inductor(value = 1, unit = 'GHz')\n",
    "C2 = Capacitor(value = 2, unit='GHz')\n",
    "L2 = Inductor(value = 2, unit = 'GHz')\n",
    "C3 = Capacitor(value = 1, unit='GHz')\n",
    "L3 = Inductor(value = 1, unit = 'GHz')\n",
    "\n",
    "\n",
    "nonsymmetric_starcircuit = [(0,1,C1), (1,2,C2), (2,0,C3), (0,3,L1), (1,3,L2), (2,3,L3)]\n",
    "\n",
    "cr = Circuit(nonsymmetric_starcircuit)\n",
    "\n",
    "print(\"Matriz cambio de base T:\")\n",
    "print(cr.T)\n",
    "print(\"Hamiltoniano canónico:\")\n",
    "print(cr.linear_canonical_hamiltonian)\n",
    "\n",
    "print(\"Hamiltoniano final:\")\n",
    "print(cr.linear_quantum_hamiltonian)\n",
    "\n",
    "\n"
   ]
  },
  {
   "cell_type": "code",
   "execution_count": 85,
   "metadata": {},
   "outputs": [
    {
     "name": "stdout",
     "output_type": "stream",
     "text": [
      "[[ 0.00e+00  4.91e-16  1.00e+00  9.71e-17]\n",
      " [-4.91e-16  1.16e-33  3.33e-16  1.00e+00]\n",
      " [-1.00e+00 -3.33e-16  0.00e+00  3.76e-16]\n",
      " [-9.71e-17 -1.00e+00 -3.76e-16  3.24e-32]]\n"
     ]
    }
   ],
   "source": [
    "Tinv = np.linalg.inv(cr.T)\n",
    "J = cr.omega_symplectic\n",
    "conmut = np.zeros((len(Tinv), len(Tinv)))\n",
    "\n",
    "for i in range(len(Tinv)):\n",
    "    for j in range(len(Tinv)):\n",
    "        sum = 0\n",
    "        for k in range(len(Tinv)):\n",
    "            for l in range(len(Tinv)):\n",
    "                sum = sum + Tinv[i,k]*Tinv[j,l]*J[k,l]\n",
    "\n",
    "        conmut[i,j] = sum\n",
    "\n",
    "print(conmut)\n"
   ]
  },
  {
   "cell_type": "code",
   "execution_count": 86,
   "metadata": {},
   "outputs": [
    {
     "name": "stdout",
     "output_type": "stream",
     "text": [
      "vector_JJ:\n",
      "[]\n",
      "-----------------------------\n",
      "Quadratic Hamiltonian:\n",
      "[[1.89+0.j 0.  +0.j]\n",
      " [0.  +0.j 2.83+0.j]]\n",
      "-----------------------------\n",
      "linear Quadratic Hamiltonian:\n",
      "[[1.89+0.j 0.  +0.j]\n",
      " [0.  +0.j 2.83+0.j]]\n",
      "-----------------------------\n",
      "nonlinear Quadratic Hamiltonian:\n",
      "[]\n",
      "-----------------------------\n",
      "interaction quadratic Hamiltonian\n",
      "[[0.+0.j 0.+0.j]\n",
      " [0.+0.j 0.+0.j]]\n",
      "-----------------------------\n",
      "Caso: 1\n",
      "[[-1. -0. -0.  1.  0.  0.  0.  0.  0.  0.]\n",
      " [ 1.  1.  1.  0.  1.  0.  0.  0.  0.  0.]\n",
      " [ 0.  0.  0.  0.  0.  1.  0.  0.  1. -1.]\n",
      " [ 0.  0.  0.  0.  0.  0.  1.  0.  0. -1.]\n",
      " [ 0.  0.  0.  0.  0.  0.  0.  1.  0. -1.]]\n",
      "[[0, 1, <scircuit.elements.Capacitor object at 0x000001D2130E6540>], [1, 2, <scircuit.elements.Inductor object at 0x000001D2130E5610>], [2, 3, <scircuit.elements.Inductor object at 0x000001D2130E5610>], [0, 1, <scircuit.elements.Inductor object at 0x000001D2130E5610>], [3, 0, <scircuit.elements.Inductor object at 0x000001D2130E5610>]]\n",
      "[[2.31e+00+0.j 2.22e-16+0.j]\n",
      " [2.22e-16+0.j 2.31e+00+0.j]]\n"
     ]
    }
   ],
   "source": [
    "C = Capacitor(value = 1, unit='GHz')\n",
    "L = Inductor(value = 1, unit = 'GHz')\n",
    "elements = [(0,1,C), (0,1,L), (1,2,L), (2,3,L), (3,0,L)]\n",
    "\n",
    "cr = Circuit(elements)\n",
    "\n",
    "print(cr.F)\n",
    "print(cr.elements)\n",
    "print(cr.linear_quantum_hamiltonian)"
   ]
  }
 ],
 "metadata": {
  "kernelspec": {
   "display_name": "Proyect1",
   "language": "python",
   "name": "python3"
  },
  "language_info": {
   "codemirror_mode": {
    "name": "ipython",
    "version": 3
   },
   "file_extension": ".py",
   "mimetype": "text/x-python",
   "name": "python",
   "nbconvert_exporter": "python",
   "pygments_lexer": "ipython3",
   "version": "3.12.3"
  }
 },
 "nbformat": 4,
 "nbformat_minor": 2
}
