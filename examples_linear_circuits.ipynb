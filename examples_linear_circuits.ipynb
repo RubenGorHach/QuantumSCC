{
 "cells": [
  {
   "cell_type": "code",
   "execution_count": 166,
   "metadata": {},
   "outputs": [],
   "source": [
    "from QuantumSCC import *\n",
    "import numpy as np"
   ]
  },
  {
   "cell_type": "code",
   "execution_count": 167,
   "metadata": {},
   "outputs": [
    {
     "name": "stdout",
     "output_type": "stream",
     "text": [
      "----------------------------------------------------------------------\n",
      "Diagonalized quantum Hamiltonian:\n",
      "H/ℏ =  4.472 GHz · (a†_1 a_1)\n",
      "----------------------------------------------------------------------\n"
     ]
    }
   ],
   "source": [
    "C = Capacitor(value = 0.1, unit='nF')\n",
    "L = Inductor(value = 1, unit = 'nH')\n",
    "\n",
    "LC = [(0,1,L), (1,2,C),(2,0,C)]\n",
    "\n",
    "cr = Circuit(LC)\n",
    "\n",
    "cr.omega_symplectic\n",
    "\n",
    "cr.diagonal_harmonic_Hamiltonian_expression(precision=3)\n",
    "\n"
   ]
  },
  {
   "cell_type": "code",
   "execution_count": 168,
   "metadata": {},
   "outputs": [
    {
     "name": "stdout",
     "output_type": "stream",
     "text": [
      "----------------------------------------------------------------------\n",
      "Diagonalized quantum Hamiltonian:\n",
      "H/ℏ =  3.162 GHz · (a†_1 a_1) +  5.477 GHz · (a†_2 a_2)\n",
      "----------------------------------------------------------------------\n"
     ]
    }
   ],
   "source": [
    "C = Capacitor(value = 0.1, unit='nF')\n",
    "L = Inductor(value = 1, unit = 'nH')\n",
    "\n",
    "LC = [(0,1,L), (0,1,C),(1,2,L),(1,2,C),(2,0,L)]\n",
    "\n",
    "cr = Circuit(LC)\n",
    "\n",
    "cr.diagonal_harmonic_Hamiltonian_expression()"
   ]
  },
  {
   "cell_type": "markdown",
   "metadata": {},
   "source": [
    "#### LC circuit"
   ]
  },
  {
   "cell_type": "code",
   "execution_count": 169,
   "metadata": {},
   "outputs": [
    {
     "name": "stdout",
     "output_type": "stream",
     "text": [
      "----------------------------------------------------------------------\n",
      "Diagonalized quantum Hamiltonian:\n",
      "H/ℏ =  3.162 GHz · (a†_1 a_1)\n",
      "----------------------------------------------------------------------\n"
     ]
    }
   ],
   "source": [
    "# LC circuit\n",
    "\n",
    "\n",
    "#C = Capacitor(value = 1, unit='GHz')\n",
    "#L = Inductor(value = 1, unit = 'GHz')\n",
    "C = Capacitor(value = 0.1, unit='nF')\n",
    "L = Inductor(value = 1, unit = 'nH')\n",
    "\n",
    "LC_oscillator = [(0,1,L), (0,1,C)]\n",
    "\n",
    "cr = Circuit(LC_oscillator)\n",
    "\n",
    "cr.diagonal_harmonic_Hamiltonian_expression(precision=3)\n"
   ]
  },
  {
   "cell_type": "markdown",
   "metadata": {},
   "source": [
    "#### 2 Capacitors and 1 inductor, all in parallel"
   ]
  },
  {
   "cell_type": "code",
   "execution_count": 170,
   "metadata": {},
   "outputs": [
    {
     "name": "stdout",
     "output_type": "stream",
     "text": [
      "----------------------------------------------------------------------\n",
      "Diagonalized quantum Hamiltonian:\n",
      "H/ℏ =  2.236 GHz · (a†_1 a_1)\n",
      "----------------------------------------------------------------------\n"
     ]
    }
   ],
   "source": [
    "# 2 C and 1 L all in parallel\n",
    "np.set_printoptions(linewidth=150, threshold=np.inf)\n",
    "\n",
    "#C = Capacitor(value = 1, unit='GHz')\n",
    "#L = Inductor(value = 1, unit = 'GHz')\n",
    "C = Capacitor(value = 0.1, unit='nF')\n",
    "L = Inductor(value = 1, unit = 'nH')\n",
    "\n",
    "check1 = [(0,1,C),(0,1,C),(0,1,L)]\n",
    "cr = Circuit(check1)\n",
    "\n",
    "cr.diagonal_harmonic_Hamiltonian_expression()\n"
   ]
  },
  {
   "cell_type": "code",
   "execution_count": 171,
   "metadata": {},
   "outputs": [
    {
     "name": "stdout",
     "output_type": "stream",
     "text": [
      "[[-0.70710678  0.        ]\n",
      " [ 0.70710678  0.        ]\n",
      " [ 0.          1.        ]]\n"
     ]
    }
   ],
   "source": [
    "from scipy.linalg import null_space\n",
    "M = np.array([[-1,-1,0],[1,1,0]])\n",
    "K = null_space(M)\n",
    "print(K)"
   ]
  },
  {
   "cell_type": "markdown",
   "metadata": {},
   "source": [
    "#### 2 capacitors and 1 inductor all in series"
   ]
  },
  {
   "cell_type": "code",
   "execution_count": 172,
   "metadata": {},
   "outputs": [
    {
     "name": "stdout",
     "output_type": "stream",
     "text": [
      "----------------------------------------------------------------------\n",
      "Diagonalized quantum Hamiltonian:\n",
      "H/ℏ =  4.472 GHz · (a†_1 a_1)\n",
      "----------------------------------------------------------------------\n"
     ]
    }
   ],
   "source": [
    "# 2 C and 1 L all in series\n",
    "np.set_printoptions(linewidth=150, threshold=np.inf)\n",
    "\n",
    "#C = Capacitor(value = 1, unit='GHz')\n",
    "#L = Inductor(value = 1, unit = 'GHz')\n",
    "C = Capacitor(value = 0.1, unit='nF')\n",
    "L = Inductor(value = 1, unit = 'nH')\n",
    "\n",
    "check2 = [(0,1,C),(1,2,C),(2,0,L)]\n",
    "cr = Circuit(check2)\n",
    "\n",
    "\n",
    "cr.diagonal_harmonic_Hamiltonian_expression()\n"
   ]
  },
  {
   "cell_type": "markdown",
   "metadata": {},
   "source": [
    "#### Capacitor coupled oscillators"
   ]
  },
  {
   "cell_type": "code",
   "execution_count": 173,
   "metadata": {},
   "outputs": [
    {
     "name": "stdout",
     "output_type": "stream",
     "text": [
      "----------------------------------------------------------------------\n",
      "Diagonalized quantum Hamiltonian:\n",
      "H/ℏ =  1.414 GHz · (a†_1 a_1) +  3.162 GHz · (a†_2 a_2)\n",
      "----------------------------------------------------------------------\n"
     ]
    }
   ],
   "source": [
    "# COUPLED OSCILLATORS\n",
    "np.set_printoptions(linewidth=150, threshold=np.inf)\n",
    "\n",
    "C1 = Capacitor(value = 0.1, unit='nF')\n",
    "C2 = Capacitor(value = 0.1, unit='nF')\n",
    "Cg = Capacitor(value = 0.2, unit='nF')\n",
    "L1 = Inductor(value = 1, unit = 'nH')\n",
    "L2 = Inductor(value = 1, unit = 'nH')\n",
    "\n",
    "coupled_oscillators = [(0,1,L1), (1,2,Cg), (2,0,L2), (0,1,C1),(2,0,C2)]\n",
    "\n",
    "cr = Circuit(coupled_oscillators)\n",
    "\n",
    "cr.diagonal_harmonic_Hamiltonian_expression(precision=3)\n",
    "\n"
   ]
  },
  {
   "cell_type": "code",
   "execution_count": 174,
   "metadata": {},
   "outputs": [
    {
     "name": "stdout",
     "output_type": "stream",
     "text": [
      "[[ 0.00000000e+00  3.24591973e-17  1.00000000e+00  7.38072101e-17]\n",
      " [-3.24591973e-17  0.00000000e+00 -2.88192964e-33  1.00000000e+00]\n",
      " [-1.00000000e+00  0.00000000e+00  0.00000000e+00  1.32766375e-16]\n",
      " [-7.38072101e-17 -1.00000000e+00 -1.32766375e-16  0.00000000e+00]]\n"
     ]
    }
   ],
   "source": [
    "Tinv = np.linalg.inv(cr.T)\n",
    "J = cr.omega_symplectic\n",
    "conmut = np.zeros((len(Tinv), len(Tinv)))\n",
    "\n",
    "for i in range(len(Tinv)):\n",
    "    for j in range(len(Tinv)):\n",
    "        sum = 0\n",
    "        for k in range(len(Tinv)):\n",
    "            for l in range(len(Tinv)):\n",
    "                sum = sum + Tinv[i,k]*Tinv[j,l]*J[k,l]\n",
    "\n",
    "        conmut[i,j] = sum\n",
    "\n",
    "print(conmut)"
   ]
  },
  {
   "cell_type": "markdown",
   "metadata": {},
   "source": [
    "#### Star circuit"
   ]
  },
  {
   "cell_type": "code",
   "execution_count": 175,
   "metadata": {},
   "outputs": [
    {
     "name": "stdout",
     "output_type": "stream",
     "text": [
      "----------------------------------------------------------------------\n",
      "Diagonalized quantum Hamiltonian:\n",
      "H/ℏ =  1.826 GHz · (a†_1 a_1) +  1.826 GHz · (a†_2 a_2)\n",
      "----------------------------------------------------------------------\n"
     ]
    }
   ],
   "source": [
    "#SYMMETRIC STAR CIRCUIT \n",
    "np.set_printoptions(linewidth=150, threshold=np.inf)\n",
    "\n",
    "#C = Capacitor(value = 1, unit='GHz')\n",
    "#L = Inductor(value = 1, unit = 'GHz')\n",
    "C = Capacitor(value = 0.1, unit='nF')\n",
    "L = Inductor(value = 1, unit = 'nH')\n",
    "\n",
    "symmetric_starcircuit = [(0,1,C), (1,2,C), (2,0,C), (0,3,L), (1,3,L), (2,3,L)]\n",
    "\n",
    "cr = Circuit(symmetric_starcircuit)\n",
    "\n",
    "cr.diagonal_harmonic_Hamiltonian_expression()\n"
   ]
  },
  {
   "cell_type": "code",
   "execution_count": 176,
   "metadata": {},
   "outputs": [
    {
     "name": "stdout",
     "output_type": "stream",
     "text": [
      "[[ 0.00000000e+00  2.42861287e-17  1.00000000e+00 -5.48172618e-16]\n",
      " [-2.34187669e-17 -2.71050543e-18 -1.10816656e-16  1.00000000e+00]\n",
      " [-1.00000000e+00  1.11022302e-16  1.94798196e-18  0.00000000e+00]\n",
      " [ 5.55111512e-16 -1.00000000e+00  2.47362888e-17  0.00000000e+00]]\n"
     ]
    }
   ],
   "source": [
    "Tinv = np.linalg.inv(cr.T)\n",
    "J = cr.omega_symplectic\n",
    "conmut = np.zeros((len(Tinv), len(Tinv)))\n",
    "\n",
    "for i in range(len(Tinv)):\n",
    "    for j in range(len(Tinv)):\n",
    "        sum = 0\n",
    "        for k in range(len(Tinv)):\n",
    "            for l in range(len(Tinv)):\n",
    "                sum = sum + Tinv[i,k]*Tinv[j,l]*J[k,l]\n",
    "\n",
    "        conmut[i,j] = sum\n",
    "\n",
    "print(conmut)"
   ]
  }
 ],
 "metadata": {
  "kernelspec": {
   "display_name": "Proyect1",
   "language": "python",
   "name": "python3"
  },
  "language_info": {
   "codemirror_mode": {
    "name": "ipython",
    "version": 3
   },
   "file_extension": ".py",
   "mimetype": "text/x-python",
   "name": "python",
   "nbconvert_exporter": "python",
   "pygments_lexer": "ipython3",
   "version": "3.12.3"
  }
 },
 "nbformat": 4,
 "nbformat_minor": 2
}
