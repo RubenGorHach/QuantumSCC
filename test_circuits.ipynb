{
 "cells": [
  {
   "cell_type": "code",
   "execution_count": 1,
   "metadata": {},
   "outputs": [],
   "source": [
    "from scircuit import *\n",
    "import numpy as np"
   ]
  },
  {
   "cell_type": "markdown",
   "metadata": {},
   "source": [
    "#### LC circuit"
   ]
  },
  {
   "cell_type": "code",
   "execution_count": 2,
   "metadata": {},
   "outputs": [
    {
     "name": "stdout",
     "output_type": "stream",
     "text": [
      "Hamiltonian:\n",
      "[[1.+0.j 0.+0.j]\n",
      " [0.+0.j 1.+0.j]]\n"
     ]
    }
   ],
   "source": [
    "# LC circuit\n",
    "np.set_printoptions(linewidth=150, threshold=np.inf)\n",
    "\n",
    "C = Capacitor(value = 1, unit='GHz')\n",
    "L = Inductor(value = 1, unit = 'GHz')\n",
    "\n",
    "LC = [(0,1,L), (0,1,C)]\n",
    "\n",
    "cr = Circuit(LC)\n",
    "\n",
    "print(\"Hamiltonian:\")\n",
    "print(cr.quantum_hamiltonian)"
   ]
  },
  {
   "cell_type": "markdown",
   "metadata": {},
   "source": [
    "#### 2 Capacitors and 1 inductor, all in parallel"
   ]
  },
  {
   "cell_type": "code",
   "execution_count": 3,
   "metadata": {},
   "outputs": [
    {
     "name": "stdout",
     "output_type": "stream",
     "text": [
      "Hamiltonian:\n",
      "[[7.07106781e-01+0.j 5.55111512e-17+0.j]\n",
      " [5.55111512e-17+0.j 7.07106781e-01+0.j]]\n"
     ]
    }
   ],
   "source": [
    "# 2 C and 1 L all in parallel\n",
    "np.set_printoptions(linewidth=150, threshold=np.inf)\n",
    "\n",
    "C = Capacitor(value = 1, unit='GHz')\n",
    "L = Inductor(value = 1, unit = 'GHz')\n",
    "\n",
    "check1 = [(0,1,C),(0,1,C),(0,1,L)]\n",
    "cr = Circuit(check1)\n",
    "\n",
    "print(\"Hamiltonian:\")\n",
    "print(cr.quantum_hamiltonian)"
   ]
  },
  {
   "cell_type": "markdown",
   "metadata": {},
   "source": [
    "#### 2 capacitors and 1 inductor all in series"
   ]
  },
  {
   "cell_type": "code",
   "execution_count": 4,
   "metadata": {},
   "outputs": [
    {
     "name": "stdout",
     "output_type": "stream",
     "text": [
      "Hamiltonian:\n",
      "[[1.41421356+0.j 0.        +0.j]\n",
      " [0.        +0.j 1.41421356+0.j]]\n"
     ]
    }
   ],
   "source": [
    "# 2 C and 1 L all in series\n",
    "np.set_printoptions(linewidth=150, threshold=np.inf)\n",
    "\n",
    "C = Capacitor(value = 1, unit='GHz')\n",
    "L = Inductor(value = 1, unit = 'GHz')\n",
    "\n",
    "check2 = [(0,1,C),(1,2,C),(2,0,L)]\n",
    "cr = Circuit(check2)\n",
    "\n",
    "print(\"Hamiltonian:\")\n",
    "print(cr.quantum_hamiltonian)"
   ]
  },
  {
   "cell_type": "markdown",
   "metadata": {},
   "source": [
    "#### Capacitor coupled oscillators"
   ]
  },
  {
   "cell_type": "code",
   "execution_count": 5,
   "metadata": {},
   "outputs": [
    {
     "name": "stdout",
     "output_type": "stream",
     "text": [
      "Hamiltonian:\n",
      "[[ 7.07106781e-01-1.23259516e-32j  1.16277552e-15-5.79676045e-17j  1.11022302e-16-3.60919129e-17j -1.33470949e-16-1.18666725e-16j]\n",
      " [ 1.12097111e-15+5.79676045e-17j  1.00000000e+00+0.00000000e+00j -3.35355382e-17-1.18666725e-16j -2.22044605e-16-7.21838258e-17j]\n",
      " [ 1.11022302e-16+3.60919129e-17j -1.33470949e-16+1.18666725e-16j  7.07106781e-01+1.23259516e-32j  1.16277552e-15+5.79676045e-17j]\n",
      " [-3.35355382e-17+1.18666725e-16j -2.22044605e-16+7.21838258e-17j  1.12097111e-15-5.79676045e-17j  1.00000000e+00+0.00000000e+00j]]\n"
     ]
    }
   ],
   "source": [
    "# COUPLED OSCILLATORS\n",
    "np.set_printoptions(linewidth=150, threshold=np.inf)\n",
    "\n",
    "C1 = Capacitor(value = 1, unit='GHz')\n",
    "C2 = Capacitor(value = 1, unit='GHz')\n",
    "Cg = Capacitor(value = 2, unit='GHz')\n",
    "L1 = Inductor(value = 1, unit = 'GHz')\n",
    "L2 = Inductor(value = 1, unit = 'GHz')\n",
    "\n",
    "coupled_oscillators = [(0,1,L1), (1,2,Cg), (2,0,L2), (0,1,C1),(2,0,C2)]\n",
    "\n",
    "cr = Circuit(coupled_oscillators)\n",
    "\n",
    "print(\"Hamiltonian:\")\n",
    "print(cr.quantum_hamiltonian)"
   ]
  }
 ],
 "metadata": {
  "kernelspec": {
   "display_name": "Proyect1",
   "language": "python",
   "name": "python3"
  },
  "language_info": {
   "codemirror_mode": {
    "name": "ipython",
    "version": 3
   },
   "file_extension": ".py",
   "mimetype": "text/x-python",
   "name": "python",
   "nbconvert_exporter": "python",
   "pygments_lexer": "ipython3",
   "version": "3.12.3"
  }
 },
 "nbformat": 4,
 "nbformat_minor": 2
}
