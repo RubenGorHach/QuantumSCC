{
 "cells": [
  {
   "cell_type": "code",
   "execution_count": null,
   "metadata": {},
   "outputs": [],
   "source": [
    "from QuantumSCC import *\n",
    "import numpy as np\n"
   ]
  },
  {
   "cell_type": "code",
   "execution_count": 2,
   "metadata": {},
   "outputs": [],
   "source": [
    "#Define the circuit\n",
    "C = Capacitor(value = 1, unit='GHz')\n",
    "L = Inductor(value = 1, unit = 'GHz')\n",
    "elements1 = [(0,1,C), (0,1,L)] \n",
    "elements2 = [(0,1,C), (1,2,L), (2,3,L), (3,0,L)]\n",
    "elements3 = [(0,1,C), (0,1,L), (1,2,L), (2,3,L), (3,0,L)] \n",
    "elements4 = [(0,2,C), (0,1,L), (1,2,L)] \n",
    "cr = Circuit(elements4)\n"
   ]
  },
  {
   "cell_type": "code",
   "execution_count": 3,
   "metadata": {},
   "outputs": [
    {
     "name": "stdout",
     "output_type": "stream",
     "text": [
      "Kernel matrix using F expression:\n",
      "[[-1.  0.  0.]\n",
      " [ 1.  0.  0.]\n",
      " [ 1.  0.  0.]\n",
      " [ 0.  1.  0.]\n",
      " [ 0.  0.  1.]\n",
      " [ 0.  1. -1.]]\n"
     ]
    }
   ],
   "source": [
    "# Calculate Kirchhoff matrix (F) \n",
    "F = cr.F \n",
    "\n",
    "# Calculate kernel matrix (K) using K = [[Floop.T, 0],[0, Fcut.T]]\n",
    "K = cr.K\n",
    "\n",
    "# Print kernel matrix\n",
    "print(f\"Kernel matrix using F expression:\\n{K}\")\n"
   ]
  },
  {
   "cell_type": "code",
   "execution_count": 4,
   "metadata": {},
   "outputs": [
    {
     "name": "stdout",
     "output_type": "stream",
     "text": [
      "F times kernel matrix using F expression:\n",
      "[[0. 0. 0.]\n",
      " [0. 0. 0.]\n",
      " [0. 0. 0.]]\n"
     ]
    }
   ],
   "source": [
    "# Print results of F@K \n",
    "print(f\"F times kernel matrix using F expression:\\n{F@K}\")\n"
   ]
  },
  {
   "cell_type": "code",
   "execution_count": 5,
   "metadata": {},
   "outputs": [
    {
     "name": "stdout",
     "output_type": "stream",
     "text": [
      "The generalized inverse of K is:\n",
      "[[-3.33333333e-01  3.33333333e-01  3.33333333e-01  0.00000000e+00\n",
      "   0.00000000e+00  0.00000000e+00]\n",
      " [ 3.92523115e-17  5.36196546e-17 -1.43673432e-17  6.66666667e-01\n",
      "   3.33333333e-01  3.33333333e-01]\n",
      " [ 7.85046229e-17  1.07239309e-16 -2.87346863e-17  3.33333333e-01\n",
      "   6.66666667e-01 -3.33333333e-01]]\n"
     ]
    }
   ],
   "source": [
    "# (dq,dphi) = K (dQ, dPHI) -> (dQ, dPHI) = K^(-1) (dq,dphi)\n",
    "\n",
    "K_inv = np.linalg.pinv(K)\n",
    "print(f\"The generalized inverse of K is:\\n{K_inv}\")\n",
    "\n"
   ]
  },
  {
   "cell_type": "code",
   "execution_count": 6,
   "metadata": {},
   "outputs": [
    {
     "name": "stdout",
     "output_type": "stream",
     "text": [
      "The matrix expression for omega_2B is:\n",
      "[[ 0.   0.   0.   0.5  0.   0. ]\n",
      " [ 0.   0.   0.   0.  -0.5  0. ]\n",
      " [ 0.   0.   0.   0.   0.  -0.5]\n",
      " [-0.5  0.   0.   0.   0.   0. ]\n",
      " [ 0.   0.5  0.   0.   0.   0. ]\n",
      " [ 0.   0.   0.5  0.   0.   0. ]]\n"
     ]
    }
   ],
   "source": [
    "# Calculate omega_2B \n",
    "omega_2B = cr.omega_2B\n",
    "print(f\"The matrix expression for omega_2B is:\\n{omega_2B}\")"
   ]
  },
  {
   "cell_type": "code",
   "execution_count": 7,
   "metadata": {},
   "outputs": [
    {
     "name": "stdout",
     "output_type": "stream",
     "text": [
      "The matrix expression for omega_alpha_beta is:\n",
      "[[ 0. -1.  0.]\n",
      " [ 1.  0.  0.]\n",
      " [ 0.  0.  0.]]\n"
     ]
    }
   ],
   "source": [
    "# Calculate omega_alpha_beta\n",
    "omega = cr.omega\n",
    "print(f\"The matrix expression for omega_alpha_beta is:\\n{omega}\")"
   ]
  },
  {
   "cell_type": "code",
   "execution_count": 8,
   "metadata": {},
   "outputs": [
    {
     "name": "stdout",
     "output_type": "stream",
     "text": [
      "The matrix expression for the H before the variable change is:\n",
      "[[2.581e+13 0.000e+00 0.000e+00 0.000e+00 0.000e+00 0.000e+00]\n",
      " [0.000e+00 0.000e+00 0.000e+00 0.000e+00 0.000e+00 0.000e+00]\n",
      " [0.000e+00 0.000e+00 0.000e+00 0.000e+00 0.000e+00 0.000e+00]\n",
      " [0.000e+00 0.000e+00 0.000e+00 0.000e+00 0.000e+00 0.000e+00]\n",
      " [0.000e+00 0.000e+00 0.000e+00 0.000e+00 3.059e+06 0.000e+00]\n",
      " [0.000e+00 0.000e+00 0.000e+00 0.000e+00 0.000e+00 3.059e+06]]\n",
      "The matrix expression for the H after the variable change is:\n",
      "[[ 2.581e+13  0.000e+00  0.000e+00]\n",
      " [ 0.000e+00  3.059e+06 -3.059e+06]\n",
      " [ 0.000e+00 -3.059e+06  6.118e+06]]\n"
     ]
    }
   ],
   "source": [
    "np.set_printoptions(precision=3)\n",
    "\n",
    "# Calculate the Hamiltonian matrix before the variable change\n",
    "hamiltonian_2B = cr.hamiltonian_2B\n",
    "print(f\"The matrix expression for the H before the variable change is:\\n{hamiltonian_2B}\")\n",
    "\n",
    "# Calculate the Hamiltonian matrix after the variable change\n",
    "hamiltonian = cr.hamiltonian\n",
    "print(f\"The matrix expression for the H after the variable change is:\\n{hamiltonian}\")\n"
   ]
  }
 ],
 "metadata": {
  "kernelspec": {
   "display_name": "Proyect",
   "language": "python",
   "name": "python3"
  },
  "language_info": {
   "codemirror_mode": {
    "name": "ipython",
    "version": 3
   },
   "file_extension": ".py",
   "mimetype": "text/x-python",
   "name": "python",
   "nbconvert_exporter": "python",
   "pygments_lexer": "ipython3",
   "version": "3.12.4"
  }
 },
 "nbformat": 4,
 "nbformat_minor": 2
}
