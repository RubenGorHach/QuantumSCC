{
 "cells": [
  {
   "cell_type": "code",
   "execution_count": 15,
   "metadata": {},
   "outputs": [],
   "source": [
    "from scircuit import *\n",
    "import numpy as np\n",
    "from sympy import Matrix\n"
   ]
  },
  {
   "cell_type": "code",
   "execution_count": 16,
   "metadata": {},
   "outputs": [],
   "source": [
    "#Define the circuit\n",
    "C = Capacitor(value = 1, unit='GHz')\n",
    "L = Inductor(value = 1, unit = 'GHz')\n",
    "elements1 = [(0,1,C), (0,1,L)] # Kernel is the same by both methods\n",
    "elements2 = [(0,1,C), (1,2,L), (2,3,L), (3,0,L)]\n",
    "elements3 = [(0,1,C), (0,1,L), (1,2,L), (2,3,L), (3,0,L)] # Kernel is not the same by both methods\n",
    "cr = Circuit(elements3)\n"
   ]
  },
  {
   "cell_type": "code",
   "execution_count": 17,
   "metadata": {},
   "outputs": [
    {
     "name": "stdout",
     "output_type": "stream",
     "text": [
      "Kernel matrix using F expression:\n",
      "[[-0.  1.  0.  0.  0.]\n",
      " [-0.  1.  0.  0.  0.]\n",
      " [-1.  1.  0.  0.  0.]\n",
      " [ 1.  0.  0.  0.  0.]\n",
      " [ 0.  1.  0.  0.  0.]\n",
      " [ 0.  0.  1.  0.  0.]\n",
      " [ 0.  0.  0.  1.  0.]\n",
      " [ 0.  0.  0.  0.  1.]\n",
      " [ 0.  0.  0.  0.  1.]\n",
      " [ 0.  0. -1. -1. -1.]]\n",
      "Kernel matrix using nullspace function:\n",
      "[[ 0.  1.  0.  0.  0.]\n",
      " [ 0.  1.  0.  0.  0.]\n",
      " [-1.  1.  0.  0.  0.]\n",
      " [ 1.  0.  0.  0.  0.]\n",
      " [ 0.  1.  0.  0.  0.]\n",
      " [ 0.  0. -1. -1. -1.]\n",
      " [ 0.  0.  1.  0.  0.]\n",
      " [ 0.  0.  0.  1.  0.]\n",
      " [ 0.  0.  0.  1.  0.]\n",
      " [ 0.  0.  0.  0.  1.]]\n"
     ]
    }
   ],
   "source": [
    "# Calculate Kirchhoff matrix (F) \n",
    "F = cr.F \n",
    "\n",
    "# Calculate kernel matrix (K) using K = [[Floop.T, 0],[0, Fcut.T]]\n",
    "K = cr.K\n",
    "\n",
    "# Calculate kernel using nullspace function \n",
    "F_sym = Matrix(F)\n",
    "kernel_sym = F_sym.nullspace()\n",
    "\n",
    "no_rows = len(kernel_sym[0])\n",
    "no_columns = len(kernel_sym)\n",
    "kernel = np.zeros((no_rows, no_columns))\n",
    "\n",
    "for ii in range (no_rows): \n",
    "    for jj in range (no_columns) :\n",
    "        kernel[ii,jj] = kernel_sym[jj][ii]\n",
    "\n",
    "# Print both kernel matrixs and see what happend\n",
    "print(f\"Kernel matrix using F expression:\\n{K}\")\n",
    "print(f\"Kernel matrix using nullspace function:\\n{kernel}\")\n",
    "\n"
   ]
  },
  {
   "cell_type": "code",
   "execution_count": 18,
   "metadata": {},
   "outputs": [
    {
     "name": "stdout",
     "output_type": "stream",
     "text": [
      "F times kernel matrix using F expression:\n",
      "[[0. 0. 0. 0. 0.]\n",
      " [0. 0. 0. 0. 0.]\n",
      " [0. 0. 0. 0. 0.]\n",
      " [0. 0. 0. 0. 0.]\n",
      " [0. 0. 0. 0. 0.]]\n",
      "F times kernel matrix using nullspace function:\n",
      "[[0. 0. 0. 0. 0.]\n",
      " [0. 0. 0. 0. 0.]\n",
      " [0. 0. 0. 0. 0.]\n",
      " [0. 0. 0. 0. 0.]\n",
      " [0. 0. 0. 0. 0.]]\n"
     ]
    }
   ],
   "source": [
    "# Print results of F@K \n",
    "print(f\"F times kernel matrix using F expression:\\n{F@K}\")\n",
    "print(f\"F times kernel matrix using nullspace function:\\n{F@kernel}\")\n"
   ]
  },
  {
   "cell_type": "code",
   "execution_count": 19,
   "metadata": {},
   "outputs": [
    {
     "name": "stdout",
     "output_type": "stream",
     "text": [
      "The generalized inverse of K is:\n",
      "[[ 1.42857143e-01  1.42857143e-01 -4.28571429e-01  5.71428571e-01\n",
      "   1.42857143e-01  0.00000000e+00  0.00000000e+00  0.00000000e+00\n",
      "   0.00000000e+00  0.00000000e+00]\n",
      " [ 2.85714286e-01  2.85714286e-01  1.42857143e-01  1.42857143e-01\n",
      "   2.85714286e-01  0.00000000e+00  0.00000000e+00  0.00000000e+00\n",
      "   0.00000000e+00  0.00000000e+00]\n",
      " [ 3.52344610e-17 -4.71316991e-17  2.83146925e-17  2.83146925e-17\n",
      "  -1.64174544e-17  7.14285714e-01 -2.85714286e-01 -1.42857143e-01\n",
      "  -1.42857143e-01 -2.85714286e-01]\n",
      " [-4.88138198e-17  6.52962526e-17 -3.92271729e-17 -3.92271729e-17\n",
      "   2.27447401e-17 -2.85714286e-01  7.14285714e-01 -1.42857143e-01\n",
      "  -1.42857143e-01 -2.85714286e-01]\n",
      " [-2.16551022e-17  2.89671456e-17 -1.74022120e-17 -1.74022120e-17\n",
      "   1.00901686e-17 -1.42857143e-01 -1.42857143e-01  4.28571429e-01\n",
      "   4.28571429e-01 -1.42857143e-01]]\n"
     ]
    }
   ],
   "source": [
    "# (dq,dphi) = K (dQ, dPHI) -> (dQ, dPHI) = K^(-1) (dq,dphi)\n",
    "\n",
    "K_inv = np.linalg.pinv(K)\n",
    "print(f\"The generalized inverse of K is:\\n{K_inv}\")\n",
    "\n"
   ]
  },
  {
   "cell_type": "code",
   "execution_count": 20,
   "metadata": {},
   "outputs": [
    {
     "name": "stdout",
     "output_type": "stream",
     "text": [
      "The matrix expression for omega_2B is:\n",
      "[[ 0.   0.   0.   0.   0.   0.5  0.   0.   0.   0. ]\n",
      " [ 0.   0.   0.   0.   0.   0.  -0.5  0.   0.   0. ]\n",
      " [ 0.   0.   0.   0.   0.   0.   0.  -0.5  0.   0. ]\n",
      " [ 0.   0.   0.   0.   0.   0.   0.   0.  -0.5  0. ]\n",
      " [ 0.   0.   0.   0.   0.   0.   0.   0.   0.  -0.5]\n",
      " [-0.5  0.   0.   0.   0.   0.   0.   0.   0.   0. ]\n",
      " [ 0.   0.5  0.   0.   0.   0.   0.   0.   0.   0. ]\n",
      " [ 0.   0.   0.5  0.   0.   0.   0.   0.   0.   0. ]\n",
      " [ 0.   0.   0.   0.5  0.   0.   0.   0.   0.   0. ]\n",
      " [ 0.   0.   0.   0.   0.5  0.   0.   0.   0.   0. ]]\n"
     ]
    }
   ],
   "source": [
    "# Calculate omega_2B \n",
    "\n",
    "omega_2B = cr.omega_2B\n",
    "print(f\"The matrix expression for omega_2B is:\\n{omega_2B}\")"
   ]
  },
  {
   "cell_type": "code",
   "execution_count": 21,
   "metadata": {},
   "outputs": [
    {
     "name": "stdout",
     "output_type": "stream",
     "text": [
      "The matrix expression for omega_alpha_beta is:\n",
      "[[ 0.  0.  0.  0.  0.]\n",
      " [ 0.  0.  1.  0.  0.]\n",
      " [ 0. -1.  0.  0.  0.]\n",
      " [ 0.  0.  0.  0.  0.]\n",
      " [ 0.  0.  0.  0.  0.]]\n"
     ]
    }
   ],
   "source": [
    "# Calculate omega_alpha_beta\n",
    "\n",
    "omega_alpha_beta = cr.omega_alpha_beta\n",
    "print(f\"The matrix expression for omega_alpha_beta is:\\n{omega_alpha_beta}\")"
   ]
  }
 ],
 "metadata": {
  "kernelspec": {
   "display_name": "Proyect",
   "language": "python",
   "name": "python3"
  },
  "language_info": {
   "codemirror_mode": {
    "name": "ipython",
    "version": 3
   },
   "file_extension": ".py",
   "mimetype": "text/x-python",
   "name": "python",
   "nbconvert_exporter": "python",
   "pygments_lexer": "ipython3",
   "version": "3.12.3"
  }
 },
 "nbformat": 4,
 "nbformat_minor": 2
}
